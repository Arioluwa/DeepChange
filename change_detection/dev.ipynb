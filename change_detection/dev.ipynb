{
 "cells": [
  {
   "cell_type": "code",
   "execution_count": 7,
   "id": "4388ee9b-cc0f-4f37-b58e-b7895fa711af",
   "metadata": {},
   "outputs": [],
   "source": [
    "import os\n",
    "import rasterio\n",
    "import numpy as np\n",
    "import pandas as pd\n",
    "import matplotlib.pyplot as plt\n",
    "# import heapq\n",
    "# from sklearn.metrics import confusion_matrix\n",
    "# # from sklearn.metrics import precision_recall_curve\n",
    "# from sklearn.metrics import precision_score\n",
    "# from sklearn.metrics import average_precision_score\n",
    "# from sklearn.metrics import recall_score\n",
    "# from sklearn.metrics import f1_score \n",
    "# from sklearn.metrics import roc_curve\n",
    "# from sklearn.metrics import auc\n",
    "# from sklearn.metrics import multilabel_confusion_matrix\n",
    "# from skimage.filters import threshold_otsu\n",
    "# similarity_case_1_p = '../../../results/RF/simliarity_measure/case_1_ref_mask_similarity_measure.tif'\n",
    "# similarity_case_2_p = '../../../results/RF/simliarity_measure/case_2_ref_mask_similarity_measure.tif'\n",
    "# similarity_case_3_p = '../../../results/RF/simliarity_measure/case_3_ref_mask_similarity_measure.tif'\n",
    "binary_change_map = '../../../results/RF/binary_change_D/change_map_case_1.tif'\n",
    "# similarity_change_map = '../../../results/RF/simliarity_measure/optimal_threshold/sim-change_map_case_1.tif'\n",
    "# source_proba_distr = '../../../results/RF/simliarity_measure/2018_rf_model_1.npy'\n",
    "# target_proba_distri = '../../../results/RF/simliarity_measure/2019_rf_model_1.npy'\n",
    "\n",
    "# gt_source_path  = '../../../data/rasterized_samples/2018_rasterizedImage.tif'\n",
    "# gt_target_path = '../../../data/rasterized_samples/2019_rasterizedImage.tif'\n",
    "# pred_source_path = '../../../results/RF/2018_rf_case_2_map.tif'\n",
    "# pred_target_path = '../../../results/RF/2019_rf_case_3_map.tif'\n",
    "certainty_case_1 = '../../../results/RF/simliarity_measure/certainty/2018_certainty_1.tif'\n",
    "certainty_case_1 = '../../../results/RF/simliarity_measure/certainty/2018_certainty_1.tif'\n",
    "similarity_change = '../../../results/RF/simliarity_measure/optimal_threshold/sim-change_map_case_1.tif'"
   ]
  },
  {
   "cell_type": "code",
   "execution_count": 8,
   "id": "de5371b8-ca3d-428c-96a6-56d12499b15c",
   "metadata": {},
   "outputs": [],
   "source": [
    "with rasterio.open(binary_change_map) as src:\n",
    "    hard_ = src.read(1).astype('int')\n",
    "    profile = src.profile\n",
    "    height, width = src.shape\n",
    "    nodata = src.nodata\n",
    "\n",
    "soft_ = rasterio.open(similarity_change).read(1).astype('int')\n",
    "certainty_ = rasterio.open(certainty_case_1).read(1)"
   ]
  },
  {
   "cell_type": "code",
   "execution_count": 9,
   "id": "87ac0b31-a714-44e6-8996-0bccce5b994f",
   "metadata": {},
   "outputs": [],
   "source": [
    "mask = hard_ != nodata"
   ]
  },
  {
   "cell_type": "code",
   "execution_count": 10,
   "id": "6dcc9577-d2e3-42ba-a750-959cbfb8312d",
   "metadata": {},
   "outputs": [],
   "source": [
    "def mask_and_extract(array, mask_array):\n",
    "        array = np.ma.masked_array(array, mask=True)\n",
    "        array.mask[mask_array] = False\n",
    "        array_value = np.ma.compressed(array)\n",
    "        return array_value"
   ]
  },
  {
   "cell_type": "code",
   "execution_count": 11,
   "id": "0277cd0f-3676-43e2-a2ae-05ffd991f707",
   "metadata": {},
   "outputs": [],
   "source": [
    "hard_ = mask_and_extract(hard_, mask)\n",
    "soft_ = mask_and_extract(soft_, mask)\n",
    "certainty_ = mask_and_extract(certainty_, mask)"
   ]
  },
  {
   "cell_type": "code",
   "execution_count": 15,
   "id": "fe882166-abb8-453e-9028-34f6646c99f1",
   "metadata": {},
   "outputs": [
    {
     "data": {
      "text/plain": [
       "array([1, 2, 3, 4])"
      ]
     },
     "execution_count": 15,
     "metadata": {},
     "output_type": "execute_result"
    }
   ],
   "source": [
    "np.unique(soft_)"
   ]
  },
  {
   "cell_type": "code",
   "execution_count": 7,
   "id": "0ee84e19-ed50-4cd7-b3fb-dae7b43b2a6f",
   "metadata": {},
   "outputs": [],
   "source": [
    "# # agreement between soft and hard detection and they are correct\n",
    "# agree_ = np.zeros_like(hard_)\n",
    "# agree_[(hard_ == 1) & (soft_ == 1) | (hard_ == 4) & (soft_ == 4)] = 1 #both correct\n",
    "# # both incorrect -- This returns nothing because there is no intersecting pixel btw the two\n",
    "# agree_[(hard_ == 2) & (soft_ == 3) | (hard_ == 3) & (soft_ == 2)] = 2 \n",
    "# agree_[(hard_ == 1) & (soft_ == 2) | (hard_ == 4) & (soft_ == 3)] = 3 # hard correct and soft not\n",
    "# agree_[(hard_ == 4) & (soft_ == 2) | (hard_ == 1) & (soft_ == 3)] = 3 # hard correct and soft not\n",
    "# agree_[(hard_ == 2) & (soft_ == 1) | (hard_ == 3) & (soft_ == 4)] = 4 # hard incorrect and soft is\n",
    "# agree_[(hard_ == 2) & (soft_ == 4) | (hard_ == 3) & (soft_ == 1)] = 4 # hard incorrect and soft is"
   ]
  },
  {
   "cell_type": "code",
   "execution_count": 23,
   "id": "e7abf3de-041e-4035-936a-f1849fb30030",
   "metadata": {},
   "outputs": [],
   "source": [
    "# fiability measure histogram\n",
    "def _mask(cert, agree, value):\n",
    "    cert = np.ma.masked_array(cert, mask=True)\n",
    "    cert.mask[agree == value] = False\n",
    "    return cert.compressed()"
   ]
  },
  {
   "cell_type": "code",
   "execution_count": 26,
   "id": "21f9f8aa-e394-4dd2-a798-89fdd6b4b681",
   "metadata": {},
   "outputs": [
    {
     "data": {
      "image/png": "[encoded data removed]",
      "text/plain": [
       "<Figure size 432x288 with 1 Axes>"
      ]
     },
     "metadata": {
      "needs_background": "light"
     },
     "output_type": "display_data"
    }
   ],
   "source": [
    "cert_1 = _mask(certainty_, hard_, 2)\n",
    "plt.hist(cert_1, bins=10, label='Fiability distribution', ec='white', log=True)\n",
    "plt.show()"
   ]
  },
  {
   "cell_type": "code",
   "execution_count": 16,
   "id": "d540e70d-1228-4d05-b26c-eef4f8f3abc7",
   "metadata": {},
   "outputs": [],
   "source": [
    "def plot_hist(data, domain):\n",
    "    plt.hist(data, bins=10, label='Fiability distribution', ec='white', log=True)\n",
    "    plt.xlabel('certainty')\n",
    "    plt.ylabel('pixels')\n",
    "    plt.legend(loc=\"upper left\")\n",
    "    # plt.savefig(os.path.join(outdir, domain+'_fiability_case_' +str(i)+'.png'))\n",
    "    plt.show()\n",
    "    # plt.close()"
   ]
  },
  {
   "cell_type": "code",
   "execution_count": null,
   "id": "873cc1e8-cb29-482e-9219-34582c3ded8e",
   "metadata": {},
   "outputs": [],
   "source": []
  },
  {
   "cell_type": "code",
   "execution_count": 18,
   "id": "0c571276-a904-4352-bb2f-ab679750ffb3",
   "metadata": {},
   "outputs": [
    {
     "data": {
      "image/png": "[encoded data removed]",
      "text/plain": [
       "<Figure size 432x288 with 1 Axes>"
      ]
     },
     "metadata": {
      "needs_background": "light"
     },
     "output_type": "display_data"
    }
   ],
   "source": [
    "for i in range(1, 5):\n",
    "    cert = _mask(certainty_, hard_, i)\n",
    "    plot_hist(cert, 'source')\n",
    "    # plt.hist(cert, bins=10, label='Fiability distribution', ec='white')\n",
    "    # plt.hist(cert, bins=10, label='Fiability distribution', ec='white')\n",
    "    # plt.savefig(\"fig\"+str(i)+\".png\")\n",
    "    # plt.xlabel('certainty')\n",
    "    # plt.ylabel('pixels')\n",
    "    # plt.legend(loc=\"upper left\")\n",
    "    # plt.show()\n",
    "    # plt.close()\n",
    "    break"
   ]
  },
  {
   "cell_type": "code",
   "execution_count": null,
   "id": "87de6ebb-010f-473a-80c7-50db3f55ce5f",
   "metadata": {},
   "outputs": [],
   "source": [
    "gt_mask_nodata = (gt_source_ != 0) & (gt_target_ != 0)"
   ]
  },
  {
   "cell_type": "code",
   "execution_count": null,
   "id": "f1600593-a640-42aa-80c1-a9dda1d9bd67",
   "metadata": {},
   "outputs": [
    {
     "data": {
      "text/plain": [
       "array([False, False, False, ..., False, False, False])"
      ]
     },
     "execution_count": 7,
     "metadata": {},
     "output_type": "execute_result"
    }
   ],
   "source": [
    "gt_mask_nodata"
   ]
  },
  {
   "cell_type": "code",
   "execution_count": null,
   "id": "cfc4762f-318d-4baf-96a4-b168e9c9e052",
   "metadata": {},
   "outputs": [],
   "source": [
    "def mask_and_extract(array, mask_array):\n",
    "    array = np.ma.masked_array(array, mask=True)\n",
    "    array.mask[mask_array] = False\n",
    "    array_value = np.ma.compressed(array)\n",
    "    return array_value\n",
    "gt_source_ = mask_and_extract(gt_source_, gt_mask_nodata)\n",
    "gt_target_ = mask_and_extract(gt_target_, gt_mask_nodata)\n",
    "pred_source_ = mask_and_extract(pred_source_, gt_mask_nodata)\n",
    "pred_target_ = mask_and_extract(pred_target_, gt_mask_nodata)"
   ]
  },
  {
   "cell_type": "code",
   "execution_count": null,
   "id": "2e4f2047-2282-4b81-ad1b-ee735f0ae35f",
   "metadata": {},
   "outputs": [],
   "source": [
    "# mcm = multilabel_confusion_matrix(df['gt_change'], df['pred_change'])"
   ]
  },
  {
   "cell_type": "code",
   "execution_count": null,
   "id": "d3d13990-621d-46e7-97b0-ac68b0814477",
   "metadata": {},
   "outputs": [],
   "source": [
    "# mcm"
   ]
  },
  {
   "cell_type": "code",
   "execution_count": null,
   "id": "4d7bbe7a-51b3-4dc7-8036-360d7bc8a9fa",
   "metadata": {},
   "outputs": [],
   "source": [
    "df = pd.DataFrame({'gt_source': gt_source_, 'gt_target': gt_target_, 'pred_source': pred_source_, 'pred_target': pred_target_})"
   ]
  },
  {
   "cell_type": "code",
   "execution_count": null,
   "id": "cd63f338-a770-4da4-926d-f3a7f0c48609",
   "metadata": {},
   "outputs": [],
   "source": [
    "dict_={1: 'Dense built-up area',\n",
    "2: 'Diffuse built-up area',\n",
    " 3: 'Industrial and commercial areas',\n",
    " 4: 'Roads',\n",
    " 5: 'Oilseeds (Rapeseed)',\n",
    " 6: 'Straw cereals (Wheat, Triticale, Barley)',\n",
    " 7: 'Protein crops (Beans / Peas)',\n",
    " 8: 'Soy',\n",
    " 9: 'Sunflower',\n",
    " 10: 'Corn',\n",
    " 12: 'Tubers/roots',\n",
    " 13: 'Grasslands',\n",
    " 14: 'Orchards and fruit growing',\n",
    " 15: 'Vineyards',\n",
    " 16: 'Hardwood forest',\n",
    " 17: 'Softwood forest',\n",
    " 18: 'Natural grasslands and pastures',\n",
    " 19: 'Woody moorlands',\n",
    " 23: 'Water'}"
   ]
  },
  {
   "cell_type": "code",
   "execution_count": null,
   "id": "1561518e-fe53-4729-9914-7926aeab8f02",
   "metadata": {},
   "outputs": [
    {
     "name": "stdout",
     "output_type": "stream",
     "text": [
      " 0.010826957225799561 minute\n"
     ]
    }
   ],
   "source": [
    "import time\n",
    "start_time =time.time()\n",
    "# label = ['Dense built-up area', 'Diffuse built-up area', 'Industrial and commercial areas', 'Roads', 'Oilseeds (Rapeseed)', 'Straw cereals (Wheat, Triticale, Barley)', 'Protein crops (Beans / Peas)', 'Soy', 'Sunflower', 'Corn',  'Tubers/roots', 'Grasslands', 'Orchards and fruit growing', 'Vineyards', 'Hardwood forest', 'Softwood forest', 'Natural grasslands and pastures', 'Woody moorlands', 'Water']\n",
    "df['gt_source'] = df['gt_source'].map(dict_)\n",
    "df['gt_target'] = df['gt_target'].map(dict_)\n",
    "df['pred_source'] = df['pred_source'].map(dict_)\n",
    "df['pred_target'] = df['pred_target'].map(dict_)\n",
    "print(\" %s minute\" % str((time.time() - start_time)/60))"
   ]
  },
  {
   "cell_type": "code",
   "execution_count": null,
   "id": "5322eacc-e02d-43dc-81d7-a7bd14032ab2",
   "metadata": {},
   "outputs": [
    {
     "name": "stdout",
     "output_type": "stream",
     "text": [
      " 3.4293226917584736 minutes\n"
     ]
    }
   ],
   "source": [
    "import time\n",
    "start_time =time.time()\n",
    "df['gt_change']= df.apply(lambda x: str(x['gt_source']) + '-' + str(x['gt_target']), axis=1)\n",
    "df['pred_change']= df.apply(lambda x: str(x['pred_source']) + '-' + str(x['pred_target']), axis=1)\n",
    "print(\" %s minutes\" % str((time.time() - start_time)/60))"
   ]
  },
  {
   "cell_type": "code",
   "execution_count": null,
   "id": "7bbc5ec3-2a4b-4507-9736-fe52e4341f17",
   "metadata": {},
   "outputs": [],
   "source": [
    "cm = pd.crosstab(df['gt_change'], df['pred_change'], rownames=['Ground Truth'], colnames=['Prediction'])"
   ]
  },
  {
   "cell_type": "code",
   "execution_count": null,
   "id": "b28827c3-ad61-4fce-a69f-a45c0b24ddae",
   "metadata": {},
   "outputs": [],
   "source": [
    "cm_recall = cm.apply(lambda x: x/x.sum(), axis=1)"
   ]
  },
  {
   "cell_type": "code",
   "execution_count": 72,
   "id": "246a1c5f-1d4a-47a2-9f4a-967e4717c81c",
   "metadata": {},
   "outputs": [],
   "source": [
    "cm_recall.to_csv('nn.csv')"
   ]
  },
  {
   "cell_type": "code",
   "execution_count": 69,
   "id": "85a6e5c7-e54e-4ede-b6c5-7d9229122728",
   "metadata": {},
   "outputs": [
    {
     "data": {
      "text/plain": [
       "Ground Truth\n",
       "Corn-Corn    [Corn-Corn]\n",
       "dtype: object"
      ]
     },
     "execution_count": 69,
     "metadata": {},
     "output_type": "execute_result"
    }
   ],
   "source": [
    "cm_re[[0]]"
   ]
  },
  {
   "cell_type": "code",
   "execution_count": 7,
   "id": "adfc3ac8-1d12-4124-8acf-9fc993452ee6",
   "metadata": {},
   "outputs": [],
   "source": [
    "# df['gt_change']= df.apply(lambda x: str(x['gt_source']) + '-' + str(x['gt_target']), axis=1)\n",
    "# df['pred_change']= df.apply(lambda x: str(x['pred_source']) + '-' + str(x['pred_target']), axis=1)"
   ]
  },
  {
   "cell_type": "code",
   "execution_count": null,
   "id": "3a3b428f-8afd-480b-8971-895a2eabc199",
   "metadata": {},
   "outputs": [],
   "source": [
    "def changeErrorCheck(\n",
    "    case,\n",
    "    gt_source,\n",
    "    gt_target,\n",
    "    pred_source,\n",
    "    pred_target,\n",
    "    outdir\n",
    "    ):\n",
    "    # read rasters\n",
    "    gt_source_ = rasterio.open(gt_source).read(1).flatten().astype('int')\n",
    "    gt_target_ = rasterio.open(gt_target).read(1).flatten().astype('int')\n",
    "    pred_source_ = rasterio.open(pred_source).read(1).flatten()\n",
    "    pred_target_ = rasterio.open(pred_target).read(1).flatten()\n",
    "    \n",
    "    gt_mask_nodata = (gt_source_ != 0) & (gt_target_ != 0)\n",
    "    \n",
    "    def mask_and_extract(array, mask_array):\n",
    "        array = np.ma.masked_array(array, mask=True)\n",
    "        array.mask[mask_array] = False\n",
    "        array_value = np.ma.compressed(array)\n",
    "        return array_value\n",
    "\n",
    "    gt_source_ = mask_and_extract(gt_source_, gt_mask_nodata)\n",
    "    gt_target_ = mask_and_extract(gt_target_, gt_mask_nodata)\n",
    "    pred_source_ = mask_and_extract(pred_source_, gt_mask_nodata)\n",
    "    pred_target_ = mask_and_extract(pred_target_, gt_mask_nodata)\n",
    "    \n",
    "    # class label\n",
    "    dict_={1: 'Dense built-up area',\n",
    "    2: 'Diffuse built-up area',\n",
    "     3: 'Industrial and commercial areas',\n",
    "     4: 'Roads',\n",
    "     5: 'Oilseeds (Rapeseed)',\n",
    "     6: 'Straw cereals (Wheat, Triticale, Barley)',\n",
    "     7: 'Protein crops (Beans / Peas)',\n",
    "     8: 'Soy',\n",
    "     9: 'Sunflower',\n",
    "     10: 'Corn',\n",
    "     12: 'Tubers/roots',\n",
    "     13: 'Grasslands',\n",
    "     14: 'Orchards and fruit growing',\n",
    "     15: 'Vineyards',\n",
    "     16: 'Hardwood forest',\n",
    "     17: 'Softwood forest',\n",
    "     18: 'Natural grasslands and pastures',\n",
    "     19: 'Woody moorlands',\n",
    "     23: 'Water'}\n",
    "    \n",
    "    df = pd.DataFrame({'gt_source': gt_source_, 'gt_target': gt_target_, 'pred_source': pred_source_, 'pred_target': pred_target_})\n",
    "    # rename class to label\n",
    "    df['gt_source'] = df['gt_source'].map(dict_)\n",
    "    df['gt_target'] = df['gt_target'].map(dict_)\n",
    "    df['pred_source'] = df['pred_source'].map(dict_)\n",
    "    df['pred_target'] = df['pred_target'].map(dict_)\n",
    "    \n",
    "    \n",
    "    df['gt_change']= df.apply(lambda x: str(x['gt_source']) + '-' + str(x['gt_target']), axis=1)\n",
    "    df['pred_change']= df.apply(lambda x: str(x['pred_source']) + '-' + str(x['pred_target']), axis=1)\n",
    "    \n",
    "    cm = pd.crosstab(df['gt_change'], df['pred_change'], rownames=['Ground Truth'], colnames=['Prediction'])\n",
    "    \n",
    "    cm.to_csv(\"semantic_change_matrix\" + case + '.csv')\n",
    "\n",
    "if __name__ == '__main__':\n",
    "    gt_source_path = '../../../data/rasterized_samples/2018_rasterizedImage.tif'\n",
    "    gt_target_path = '../../../data/rasterized_samples/2019_rasterizedImage.tif'\n",
    "    \n",
    "    for case in ['1', '2', '3']:\n",
    "        pred_source_path = '../../../results/RF/2018_rf_case_'+ case +'_map.tif'\n",
    "        pred_target_path = '../../../results/RF/2019_rf_case_'+ case +'_map.tif'\n",
    "        outdir_ = '../../../results/RF/binary_change_D'\n",
    "        changeErrorCheck(case, gt_source_path, gt_target_path, pred_source_path, pred_target_path, outdir)"
   ]
  },
  {
   "cell_type": "code",
   "execution_count": null,
   "id": "96b4cfeb-e3d9-425a-8977-9a0f883f2cbb",
   "metadata": {},
   "outputs": [],
   "source": []
  }
 ],
 "metadata": {
  "kernelspec": {
   "display_name": "Python 3",
   "language": "python",
   "name": "python3"
  },
  "language_info": {
   "codemirror_mode": {
    "name": "ipython",
    "version": 3
   },
   "file_extension": ".py",
   "mimetype": "text/x-python",
   "name": "python",
   "nbconvert_exporter": "python",
   "pygments_lexer": "ipython3",
   "version": "3.7.1"
  }
 },
 "nbformat": 4,
 "nbformat_minor": 5
}
