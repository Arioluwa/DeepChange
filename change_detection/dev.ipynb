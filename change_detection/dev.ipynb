{
 "cells": [
  {
   "cell_type": "code",
   "execution_count": 1,
   "id": "4388ee9b-cc0f-4f37-b58e-b7895fa711af",
   "metadata": {},
   "outputs": [],
   "source": [
    "import os\n",
    "import rasterio\n",
    "import numpy as np\n",
    "import pandas as pd\n",
    "import matplotlib.pyplot as plt\n",
    "from sklearn.metrics import confusion_matrix\n",
    "import seaborn as sns\n",
    "import torch\n",
    "from scipy.special import xlogy\n",
    "from skimage.filters import threshold_otsu\n",
    "# # from sklearn.metrics import precision_recall_curve\n",
    "# from sklearn.metrics import precision_score\n",
    "# from sklearn.metrics import average_precision_score\n",
    "# from sklearn.metrics import recall_score\n",
    "from sklearn.metrics import f1_score \n",
    "# from sklearn.metrics import roc_curve\n",
    "# from sklearn.metrics import auc\n",
    "# from sklearn.metrics import multilabel_confusion_matrix\n",
    "# from skimage.filters import threshold_otsu\n",
    "# similarity_case_1_p = '../../../results/RF/simliarity_measure/case_1_ref_mask_similarity_measure.tif'\n",
    "# similarity_case_2_p = '../../../results/RF/simliarity_measure/case_2_ref_mask_similarity_measure.tif'\n",
    "# similarity_case_3_p = '../../../results/RF/simliarity_measure/case_3_ref_mask_similarity_measure.tif'\n",
    "# binary_change_map = '../../../results/RF/binary_change_D/change_map_case_1.tif'\n",
    "# similarity_change_map = '../../../results/RF/simliarity_measure/optimal_threshold/sim-change_map_case_1.tif'\n",
    "#RF\n",
    "# source_proba_distr = '../../../results/RF/classificationmap/2018_rf_case_3.npy'\n",
    "# target_proba_distri = '../../../results/RF/classificationmap/2019_rf_case_3.npy'\n",
    "\n",
    "#LTAE\n",
    "source_proba_distr = \"../../../results/ltae/classificationmap/2018_LTAE_case_1.npy\"\n",
    "target_proba_distri = \"../../../results/ltae/classificationmap/2019_LTAE_case_2.npy\"\n",
    "\n",
    "gt_source_path  = '../../../data/rasterized_samples/2018_rasterizedImage.tif'\n",
    "gt_target_path = '../../../data/rasterized_samples/2019_rasterizedImage.tif'\n",
    "# pred_source_path = '../../../results/RF/2018_rf_case_1_map.tif'\n",
    "# pred_target_path = '../../../results/RF/2019_rf_case_1_map.tif'\n",
    "# certainty_source = '../../../results/RF/simliarity_measure/certainty/2018_certainty_1.tif'\n",
    "# certainty_target = '../../../results/RF/simliarity_measure/certainty/2019_certainty_1.tif'"
   ]
  },
  {
   "cell_type": "markdown",
   "id": "b11d21e6-f4ce-4822-a5a7-c4d1062c922e",
   "metadata": {},
   "source": [
    "https://stats.stackexchange.com/questions/209107/intuitively-why-is-cross-entropy-a-measure-of-distance-of-two-probability-distr  \n",
    "cross-entropy, as a distribution dissimilarity measure"
   ]
  },
  {
   "cell_type": "markdown",
   "id": "24d3073d-9e7f-47d2-830d-f32a166841c7",
   "metadata": {},
   "source": [
    "<!-- I have two probability distributions let say with shape (N,K). K equals to the number of classes.\n",
    "<!-- Ex: -->\n",
    "<!-- The shape of the two distribution is the same for example (100200, 19).\n",
    "I want to compute the cross entropy between A and B such that the output (dissimilarity of the two probability distribution):\n",
    "1. will not have \"inf\"\n",
    "2. with a shape of N\n",
    "\n",
    "I have attempted using th answer this:\n",
    "def cross_entropy(p, q):\n",
    "    ce_diss = [-(xlogy(p[i],q[i])).sum() for i in range(len(p)))]\n",
    "    return np.array(ce_diss)\n",
    "\n",
    "I  --> "
   ]
  },
  {
   "cell_type": "markdown",
   "id": "d2d06acc-9a0c-44f4-bef6-7078f535ad48",
   "metadata": {},
   "source": [
    "Ground truth mask"
   ]
  },
  {
   "cell_type": "code",
   "execution_count": 2,
   "id": "5704f613-d262-4663-af29-3a082000c2d8",
   "metadata": {},
   "outputs": [],
   "source": [
    "with rasterio.open(gt_source_path) as src:\n",
    "        gt_source_ = src.read(1).flatten().astype('int')\n",
    "        w, h = src.shape\n",
    "        profile = src.profile"
   ]
  },
  {
   "cell_type": "code",
   "execution_count": 3,
   "id": "fea9d5f1-6e79-47c2-a9ac-c400082f6d2a",
   "metadata": {},
   "outputs": [
    {
     "data": {
      "text/plain": [
       "(10980, 10980)"
      ]
     },
     "execution_count": 3,
     "metadata": {},
     "output_type": "execute_result"
    }
   ],
   "source": [
    "hh = np.empty(shape=(w,h))\n",
    "hh.shape"
   ]
  },
  {
   "cell_type": "code",
   "execution_count": 4,
   "id": "777c9643-441d-4b5f-88bb-4b6de65ef56d",
   "metadata": {},
   "outputs": [],
   "source": [
    "gt_source_ = rasterio.open(gt_source_path).read(1).flatten().astype('int')\n",
    "gt_target_ = rasterio.open(gt_target_path).read(1).flatten().astype('int')\n",
    "# pred_source_ = rasterio.open(pred_source_path).read(1).flatten()\n",
    "# pred_target_ = rasterio.open(pred_target_path).read(1).flatten()"
   ]
  },
  {
   "cell_type": "code",
   "execution_count": 11,
   "id": "07a12eac-d068-4071-9c46-6b53db48edb2",
   "metadata": {},
   "outputs": [],
   "source": [
    "gt_mask = (gt_source_ != 0) & (gt_target_ != 0)\n",
    "gt_binary = np.where(gt_mask, np.where(gt_source_ == gt_target_, 1, 2), 0)\n",
    "gt_binary_mask = np.ma.masked_array(gt_binary, mask=True)\n",
    "gt_binary_mask.mask[gt_binary_mask.data != 0] = False\n",
    "gt_binary_ = gt_binary_mask.compressed() # gt_binary with nodata value (0)\n",
    "gt_binary_[gt_binary_ == 1] = 0 # No-change\n",
    "gt_binary_[gt_binary_ == 2] = 1 # Change"
   ]
  },
  {
   "cell_type": "code",
   "execution_count": 12,
   "id": "ba520983-456d-4745-aef1-622c91b4e9ac",
   "metadata": {},
   "outputs": [],
   "source": [
    "gt_binary_ = gt_binary_mask.compressed() # gt_binary with nodata value (0)\n",
    "gt_binary_[gt_binary_ == 1] = 0 # No-change\n",
    "gt_binary_[gt_binary_ == 2] = 1 # Change"
   ]
  },
  {
   "cell_type": "code",
   "execution_count": 13,
   "id": "74931145-b052-448e-9a75-8a62fccfd5e7",
   "metadata": {},
   "outputs": [],
   "source": [
    "gt_binary_mask = gt_binary_mask.reshape(w,h)"
   ]
  },
  {
   "cell_type": "code",
   "execution_count": 14,
   "id": "d17002ad-33af-44a1-bd06-4be8f86648ab",
   "metadata": {},
   "outputs": [
    {
     "data": {
      "text/plain": [
       "(10980, 10980)"
      ]
     },
     "execution_count": 14,
     "metadata": {},
     "output_type": "execute_result"
    }
   ],
   "source": [
    "gt_binary_mask.shape"
   ]
  },
  {
   "cell_type": "markdown",
   "id": "b0b860e1-309a-49e4-bd63-e914f29b6a69",
   "metadata": {},
   "source": [
    "Similarity measure"
   ]
  },
  {
   "cell_type": "code",
   "execution_count": 2,
   "id": "632854b5-0d33-4f3c-9756-896f4a92bf0d",
   "metadata": {},
   "outputs": [],
   "source": [
    "# gt_binary.shape"
   ]
  },
  {
   "cell_type": "code",
   "execution_count": 3,
   "id": "b3a5dcd9-d5b6-4ad3-be1f-e436636a3ce2",
   "metadata": {},
   "outputs": [],
   "source": [
    "source_ =np.load(source_proba_distr)\n",
    "target_ = np.load(target_proba_distri)"
   ]
  },
  {
   "cell_type": "code",
   "execution_count": 3,
   "id": "1c887cf3-0faa-4340-8057-7d21f43b1452",
   "metadata": {},
   "outputs": [],
   "source": [
    "source_ = torch.nn.functional.softmax(torch.from_numpy(source_).float(), dim=-1)\n",
    "target_ = torch.nn.functional.log_softmax(torch.from_numpy(target_).float(), dim=-1)"
   ]
  },
  {
   "cell_type": "code",
   "execution_count": 4,
   "id": "0c33ac5e-5d10-4e7b-8469-8f70288049f6",
   "metadata": {},
   "outputs": [],
   "source": [
    "s = source_[:200]\n",
    "t = target_[:200]"
   ]
  },
  {
   "cell_type": "code",
   "execution_count": 26,
   "id": "147bb95e-550b-4f62-baf2-d9cc54f86a43",
   "metadata": {},
   "outputs": [],
   "source": [
    "ff =np.array([(torch.matmul(s[i], t[i])).sum() for i in range(200)])"
   ]
  },
  {
   "cell_type": "code",
   "execution_count": 27,
   "id": "d1f89a17-a306-4b1b-8f47-e727ab595c5d",
   "metadata": {},
   "outputs": [],
   "source": [
    "fw =np.array([(torch.matmul(s[i], t[i])) for i in range(200)])"
   ]
  },
  {
   "cell_type": "code",
   "execution_count": 28,
   "id": "e87f3478-1427-4051-8b20-a81921d15941",
   "metadata": {},
   "outputs": [
    {
     "data": {
      "text/plain": [
       "array([ True,  True,  True,  True,  True,  True,  True,  True,  True,\n",
       "        True,  True,  True,  True,  True,  True,  True,  True,  True,\n",
       "        True,  True,  True,  True,  True,  True,  True,  True,  True,\n",
       "        True,  True,  True,  True,  True,  True,  True,  True,  True,\n",
       "        True,  True,  True,  True,  True,  True,  True,  True,  True,\n",
       "        True,  True,  True,  True,  True,  True,  True,  True,  True,\n",
       "        True,  True,  True,  True,  True,  True,  True,  True,  True,\n",
       "        True,  True,  True,  True,  True,  True,  True,  True,  True,\n",
       "        True,  True,  True,  True,  True,  True,  True,  True,  True,\n",
       "        True,  True,  True,  True,  True,  True,  True,  True,  True,\n",
       "        True,  True,  True,  True,  True,  True,  True,  True,  True,\n",
       "        True,  True,  True,  True,  True,  True,  True,  True,  True,\n",
       "        True,  True,  True,  True,  True,  True,  True,  True,  True,\n",
       "        True,  True,  True,  True,  True,  True,  True,  True,  True,\n",
       "        True,  True,  True,  True,  True,  True,  True,  True,  True,\n",
       "        True,  True,  True,  True,  True,  True,  True,  True,  True,\n",
       "        True,  True,  True,  True,  True,  True,  True,  True,  True,\n",
       "        True,  True,  True,  True,  True,  True,  True,  True,  True,\n",
       "        True,  True,  True,  True,  True,  True,  True,  True,  True,\n",
       "        True,  True,  True,  True,  True,  True,  True,  True,  True,\n",
       "        True,  True,  True,  True,  True,  True,  True,  True,  True,\n",
       "        True,  True,  True,  True,  True,  True,  True,  True,  True,\n",
       "        True,  True])"
      ]
     },
     "execution_count": 28,
     "metadata": {},
     "output_type": "execute_result"
    }
   ],
   "source": [
    "fw == ff"
   ]
  },
  {
   "cell_type": "code",
   "execution_count": 22,
   "id": "132bd502-5c45-4799-9375-8934b50dfb0d",
   "metadata": {},
   "outputs": [
    {
     "data": {
      "text/plain": [
       "array([-3.3457618e+00, -1.9072626e+00, -4.8400922e+00, -5.4716454e+00,\n",
       "       -1.4134057e+00, -1.7974291e+00, -2.5314326e+00, -2.1717591e+00,\n",
       "       -1.4801316e+00, -1.1349338e+00, -1.9783931e+00, -1.7010776e+00,\n",
       "       -1.0741007e+00, -1.1169283e+00, -3.8149199e+00, -4.8338261e+00,\n",
       "       -1.4774463e+00, -1.7271340e+00, -1.5341599e+00, -1.4568290e+00,\n",
       "       -8.9081430e-01, -1.1659631e+00, -4.8692551e+00, -5.0967412e+00,\n",
       "       -6.4096074e+00, -6.1749067e+00, -5.1947188e+00, -5.9867129e+00,\n",
       "       -7.0743299e+00, -7.5659928e+00, -6.9040561e+00, -7.3309088e+00,\n",
       "       -4.2336664e+00, -3.8563418e+00, -4.8505445e+00, -4.5045571e+00,\n",
       "       -2.3551998e+00, -1.0717223e+00, -9.7943449e-01, -8.7348968e-01,\n",
       "       -5.5046725e-01, -6.0019809e-01, -3.6774797e+00, -2.3653955e+00,\n",
       "       -2.2666006e+00, -2.1070237e+00, -4.2231507e+00, -1.8848755e+00,\n",
       "       -3.3044689e+00, -3.1613097e+00, -2.8103907e+00, -3.6650515e+00,\n",
       "       -3.6565232e+00, -3.1230550e+00, -2.9835703e+00, -2.8835278e+00,\n",
       "       -3.2682390e+00, -2.5686679e+00, -2.4378452e+00, -2.2389343e+00,\n",
       "       -2.6573398e+00, -3.2912385e+00, -4.4542904e+00, -3.7708702e+00,\n",
       "       -2.5277591e+00, -3.0970974e+00, -1.9629319e+00, -2.0167768e+00,\n",
       "       -3.6383734e+00, -4.2917032e+00, -4.3258400e+00, -4.4557943e+00,\n",
       "       -3.7060680e+00, -3.5522323e+00, -2.7926409e+00, -3.6351092e+00,\n",
       "       -5.6658945e+00, -7.2934136e+00, -9.2195711e+00, -7.1956897e+00,\n",
       "       -3.3897996e+00, -3.0766702e+00, -2.6227026e+00, -2.6853576e+00,\n",
       "       -4.5869551e+00, -4.5848713e+00, -2.5197051e+00, -2.7064135e+00,\n",
       "       -6.9522829e+00, -5.6367035e+00, -5.5282731e+00, -5.8662534e+00,\n",
       "       -3.1508474e+00, -3.6737270e+00, -1.8857874e-01, -1.0633728e-01,\n",
       "       -1.8023460e-01, -8.2472205e-02, -2.6253697e-02, -2.4467576e-02,\n",
       "       -2.5536707e-02, -2.9191587e-02, -7.1430355e-03, -7.0656613e-03,\n",
       "       -3.3333812e-02, -3.1504940e-02, -2.5985671e-02, -2.5941640e-02,\n",
       "       -3.2130547e-02, -3.0914050e-02, -3.6028720e-02, -3.3058368e-02,\n",
       "       -2.0915163e-01, -3.7246168e-01, -1.2869805e+00, -1.3582119e+00,\n",
       "       -5.3484898e+00, -5.4612150e+00, -2.7385821e+00, -3.9409096e+00,\n",
       "       -1.5101305e+00, -2.8327675e+00, -6.8875384e-01, -6.9197994e-01,\n",
       "       -1.1454625e+00, -9.8610586e-01, -8.0197191e-01, -1.0170667e+00,\n",
       "       -1.2821116e+00, -1.1802261e+00, -6.8016487e-01, -7.2432548e-01,\n",
       "       -6.5579277e-01, -6.8593204e-01, -1.3732426e+00, -1.2222890e+00,\n",
       "       -9.2034006e-01, -9.7294426e-01, -9.8415792e-01, -1.1938950e+00,\n",
       "       -1.1894668e+00, -1.4327406e+00, -1.3357770e+00, -1.7765436e+00,\n",
       "       -1.6058624e+00, -1.3142951e+00, -1.4398820e+00, -1.2909527e+00,\n",
       "       -6.7215910e+00, -6.5028415e+00, -2.7874368e-01, -5.7229233e-01,\n",
       "       -1.3291695e+00, -1.7289101e+00, -2.8950009e+00, -2.9269671e+00,\n",
       "       -5.1295547e+00, -4.4291034e+00, -2.5199387e+00, -2.3171554e+00,\n",
       "       -2.0115724e+00, -1.9761286e+00, -3.2192678e+00, -3.7045019e+00,\n",
       "       -2.0629554e+00, -2.5949390e+00, -1.2732993e+00, -1.8523411e+00,\n",
       "       -2.3724275e+00, -2.8316796e+00, -1.8375385e+00, -2.1914539e+00,\n",
       "       -4.4415169e+00, -6.0069609e+00, -3.3122482e+00, -2.8931062e+00,\n",
       "       -2.2984762e+00, -2.3036528e+00, -7.4973173e+00, -8.1626883e+00,\n",
       "       -5.9763660e+00, -6.6121521e+00, -3.9397621e+00, -4.1604705e+00,\n",
       "       -1.9651219e+00, -2.2540126e+00, -4.0436420e+00, -4.5186381e+00,\n",
       "       -1.1813636e+00, -1.3140733e+00, -3.7079115e+00, -2.3393736e+00,\n",
       "       -4.4011927e+00, -5.8855820e+00, -3.9547974e-01, -5.5891210e-01,\n",
       "       -4.5743279e+00, -3.8910747e+00, -1.4614027e+00, -1.2910678e+00],\n",
       "      dtype=float32)"
      ]
     },
     "execution_count": 22,
     "metadata": {},
     "output_type": "execute_result"
    }
   ],
   "source": [
    "ff"
   ]
  },
  {
   "cell_type": "code",
   "execution_count": 6,
   "id": "9cbaccb9-82ec-460e-82e8-c28c0f26e3a2",
   "metadata": {},
   "outputs": [
    {
     "name": "stdout",
     "output_type": "stream",
     "text": [
      "0.0\n",
      "1.0\n"
     ]
    }
   ],
   "source": [
    "print(target_.min())\n",
    "print(target_.max())"
   ]
  },
  {
   "cell_type": "code",
   "execution_count": 65,
   "id": "1c59f48d-bebc-408f-99dc-7f74c36b276a",
   "metadata": {},
   "outputs": [],
   "source": [
    "def cross_entropy(p, q):\n",
    "    \"\"\"\n",
    "        p & q are vectors from RF probability distribution matrix\n",
    "    \"\"\"\n",
    "    return -(xlogy(p,q)).sum()\n",
    "    \n",
    "source_ = np.clip(source_, 1e-7, 1. - 1e-7)\n",
    "# target_ = np.clip(target_, 1e-12, 1. - 1e-12)"
   ]
  },
  {
   "cell_type": "code",
   "execution_count": 66,
   "id": "f7debc12-6dd9-4cfc-a4a1-3902f96a3091",
   "metadata": {},
   "outputs": [
    {
     "name": "stdout",
     "output_type": "stream",
     "text": [
      "1e-07\n",
      "1.0\n"
     ]
    }
   ],
   "source": [
    "print(source_.min())\n",
    "print(source_.max())\n",
    "# print(target_.min())\n",
    "# print(target_.max())"
   ]
  },
  {
   "cell_type": "code",
   "execution_count": 57,
   "id": "95d0bd1b-62a4-4da6-b0c0-a890a470e3e9",
   "metadata": {},
   "outputs": [
    {
     "data": {
      "text/plain": [
       "array([1.2268e-02, 5.9845e-02, 3.9917e-01, 3.0594e-03, 2.4719e-02,\n",
       "       1.6251e-02, 2.8687e-02, 1.0277e-02, 2.5681e-02, 8.3313e-03,\n",
       "       0.0000e+00, 2.7075e-01, 3.0258e-02, 2.2034e-02, 8.8811e-06,\n",
       "       1.1826e-04, 7.9224e-02, 8.9417e-03, 1.7798e-04], dtype=float16)"
      ]
     },
     "execution_count": 57,
     "metadata": {},
     "output_type": "execute_result"
    }
   ],
   "source": [
    "s[10]"
   ]
  },
  {
   "cell_type": "code",
   "execution_count": 64,
   "id": "b51d0e4c-f17c-4b5a-abb5-2affaee224c1",
   "metadata": {},
   "outputs": [
    {
     "data": {
      "text/plain": [
       "array([1.2268e-02, 5.9845e-02, 3.9917e-01, 3.0594e-03, 2.4719e-02,\n",
       "       1.6251e-02, 2.8687e-02, 1.0277e-02, 2.5681e-02, 8.3313e-03,\n",
       "       1.1921e-07, 2.7075e-01, 3.0258e-02, 2.2034e-02, 8.8811e-06,\n",
       "       1.1826e-04, 7.9224e-02, 8.9417e-03, 1.7798e-04], dtype=float16)"
      ]
     },
     "execution_count": 64,
     "metadata": {},
     "output_type": "execute_result"
    }
   ],
   "source": [
    "esp =1e-7\n",
    "np.clip(s[10], esp, 1. - esp)"
   ]
  },
  {
   "cell_type": "code",
   "execution_count": null,
   "id": "38b64942-b8d3-4e83-8505-383109269439",
   "metadata": {},
   "outputs": [],
   "source": [
    "for i in range(len(s)):\n",
    "    print(cross_entropy(np.clip(s[i], 1e-12, 1. - 1e-12), np.clip(t[i], 1e-12, 1. - 1e-12)))"
   ]
  },
  {
   "cell_type": "code",
   "execution_count": 50,
   "id": "d9bc5f7d-f563-4b5c-ba98-7ff2adf8ec6d",
   "metadata": {},
   "outputs": [],
   "source": [
    "s = source_[:200]\n",
    "t = target_[:200]\n",
    "# for i in range(len(s)):\n",
    "#     sss = np.array([cross_entropy((np.clip(s[i], 1e-12, 1. - 1e-12)), (np.clip(t[i], 1e-12, 1. - 1e-12)))])\n",
    "#         # q[i] = np.clip(q[i], epsilon, 1. - epsilon)"
   ]
  },
  {
   "cell_type": "code",
   "execution_count": 35,
   "id": "55ebf652-9653-4090-bef2-7c7c95342ea2",
   "metadata": {},
   "outputs": [
    {
     "name": "stdout",
     "output_type": "stream",
     "text": [
      "inf\n"
     ]
    }
   ],
   "source": [
    "print(sss.min())"
   ]
  },
  {
   "cell_type": "code",
   "execution_count": 29,
   "id": "b29f389e-daca-4bcf-9343-af64c2b497f7",
   "metadata": {},
   "outputs": [
    {
     "data": {
      "text/plain": [
       "array([inf], dtype=float32)"
      ]
     },
     "execution_count": 29,
     "metadata": {},
     "output_type": "execute_result"
    }
   ],
   "source": [
    "sss"
   ]
  },
  {
   "cell_type": "code",
   "execution_count": 25,
   "id": "8fcb5ad9-2310-4dcc-8aa7-b29361718c79",
   "metadata": {},
   "outputs": [
    {
     "name": "stdout",
     "output_type": "stream",
     "text": [
      "0.0\n",
      "1.0\n",
      "3.64e-06\n",
      "0.8364\n"
     ]
    }
   ],
   "source": [
    "print(s.min())\n",
    "print(s.max())\n",
    "print(u.min())\n",
    "print(u.max())"
   ]
  },
  {
   "cell_type": "code",
   "execution_count": null,
   "id": "f12fefed-f269-427d-bbc2-e25231acfecd",
   "metadata": {},
   "outputs": [],
   "source": [
    "# [cross_entropy(source_[:20][i], target_[:20][i]) for i in range(len(source_[:20]))]"
   ]
  },
  {
   "cell_type": "code",
   "execution_count": null,
   "id": "42a361ac-fb15-47c0-9bf5-4e454e3e238d",
   "metadata": {},
   "outputs": [],
   "source": [
    "similarity_array = np.array([cross_entropy(source_, target_) for i in range(len(source_))])"
   ]
  },
  {
   "cell_type": "code",
   "execution_count": 5,
   "id": "318a87de-d6fe-441b-b38e-28382b08f17a",
   "metadata": {},
   "outputs": [],
   "source": [
    "def cross_entropy_log_softmax(p, q):\n",
    "    \"\"\"\n",
    "        Dissimilarity measure\n",
    "    \"\"\"\n",
    "    # p_ = torch.nn.functional.softmax(torch.from_numpy(p).float(), dim=-1)\n",
    "    # q_ = torch.nn.functional.log_softmax(torch.from_numpy(q).float(), dim=-1)\n",
    "    return - ((p * q)).sum()\n",
    "    # return - (torch.matmul(p, q)).sum()"
   ]
  },
  {
   "cell_type": "code",
   "execution_count": 11,
   "id": "00fe9129-f06e-4d18-baf0-bfd573934b94",
   "metadata": {},
   "outputs": [
    {
     "data": {
      "text/plain": [
       "torch.Size([120560400, 19])"
      ]
     },
     "execution_count": 11,
     "metadata": {},
     "output_type": "execute_result"
    }
   ],
   "source": [
    "source_.shape"
   ]
  },
  {
   "cell_type": "code",
   "execution_count": 12,
   "id": "e640ce1d-2a0f-4996-8311-4a69ee6aee60",
   "metadata": {},
   "outputs": [],
   "source": [
    "size = 2000000\n",
    "dis_LTAE = np.array([cross_entropy_log_softmax(source_[:size][i], target_[:size][i]) for i in range(len(source_[:size]))])"
   ]
  },
  {
   "cell_type": "code",
   "execution_count": 8,
   "id": "2208e765-11e9-43b1-b34b-2de790b7fe70",
   "metadata": {},
   "outputs": [
    {
     "data": {
      "text/plain": [
       "array([2.94685  , 2.9510422, 2.9473717, 2.949014 , 2.9490557, 2.9486911,\n",
       "       2.9451528, 2.9448123, 2.9558268, 2.9573212, 2.9669027, 2.9581215,\n",
       "       2.9451895, 2.9366179, 2.9712358, 2.9766514, 2.9355013, 2.9254577,\n",
       "       2.950542 , 2.9510374], dtype=float32)"
      ]
     },
     "execution_count": 8,
     "metadata": {},
     "output_type": "execute_result"
    }
   ],
   "source": [
    "dis_LTAE"
   ]
  },
  {
   "cell_type": "code",
   "execution_count": null,
   "id": "d598e4ec-ed5a-4d04-9209-98252d07d503",
   "metadata": {},
   "outputs": [],
   "source": [
    "# dis_LTAE = np.array([cross_entropy_log_softmax(source_[i], target_[i]) for i in range(len(source_))])"
   ]
  },
  {
   "cell_type": "code",
   "execution_count": 4,
   "id": "1fbac16c-b6b4-4bea-a81a-ba0337b70ead",
   "metadata": {},
   "outputs": [],
   "source": [
    "# source_[1]*np.log(target_[1]+ 1e-15)#).sum()"
   ]
  },
  {
   "cell_type": "code",
   "execution_count": 5,
   "id": "22b099e1-0366-4417-b57c-a4c446ef9414",
   "metadata": {},
   "outputs": [],
   "source": [
    "# -(source_[100]*np.log(target_[100]+ 1e-12)).sum()"
   ]
  },
  {
   "cell_type": "code",
   "execution_count": 6,
   "id": "2ad85532-260b-4e0d-bb82-2294bc73d3ed",
   "metadata": {},
   "outputs": [],
   "source": [
    "# -(xlogy(source_[1], (target_[1] + 1e-15))).sum()"
   ]
  },
  {
   "cell_type": "code",
   "execution_count": 15,
   "id": "7dbdae16-29ff-4d42-865e-f12d9be20e1c",
   "metadata": {},
   "outputs": [],
   "source": [
    "t_ = target_[:100, :]\n",
    "s_ = source_[:100,:]"
   ]
  },
  {
   "cell_type": "code",
   "execution_count": null,
   "id": "8b8b7091-1536-4309-b016-69cb83712240",
   "metadata": {},
   "outputs": [],
   "source": []
  },
  {
   "cell_type": "code",
   "execution_count": 58,
   "id": "a773021d-d35b-4cb2-9ab3-537f8a1fe2a6",
   "metadata": {},
   "outputs": [],
   "source": [
    "def cross_entropy_rf(p, q):\n",
    "    # q = q + 1e-15 # to handle the zeros\n",
    "    return np.sum(-(xlogy(p + 1e-12, q+1e-12)))\n",
    "    "
   ]
  },
  {
   "cell_type": "code",
   "execution_count": 20,
   "id": "ecfea043-542f-4f5f-8129-fd253e7a2a57",
   "metadata": {},
   "outputs": [],
   "source": [
    "# for i in range(len(t_)):\n",
    "    # print(cross_entropy_sc(t_[i], s_[i]))\n",
    "    # g = np.array([cross_entropy_sc(t_[i], s_[i])])\n",
    "g = np.array([cross_entropy_log_softmax(t_[i], s_[i]) for i in range(len(t_))])"
   ]
  },
  {
   "cell_type": "code",
   "execution_count": 21,
   "id": "01c9ff3c-8fb5-4dee-8595-481bf18a29d5",
   "metadata": {},
   "outputs": [],
   "source": [
    "# [cross_entropy_log_softmax(t_[i], s_[i]) for i in range(len(t_))]"
   ]
  },
  {
   "cell_type": "code",
   "execution_count": 22,
   "id": "31ab93ed-2f51-4399-8930-c2c11c330131",
   "metadata": {},
   "outputs": [
    {
     "data": {
      "text/plain": [
       "array([2.9506974, 2.9525952, 2.9506428, 2.9496207, 2.963907 , 2.9578285,\n",
       "       2.9545212, 2.9534287, 2.9559336, 2.9562373, 2.9521484, 2.9502866,\n",
       "       2.9376898, 2.9498394, 2.9535713, 2.9576836, 2.9409325, 2.934636 ,\n",
       "       2.9595416, 2.9557154, 2.9365494, 2.9269183, 2.951327 , 2.9508457,\n",
       "       2.9722786, 2.976403 , 2.9793823, 2.9805765, 2.974334 , 2.9696798,\n",
       "       2.9797058, 2.9765124, 2.9730492, 2.963105 , 2.9591088, 2.9561312,\n",
       "       2.9390492, 2.9464912, 2.938422 , 2.9479535, 2.9323885, 2.9278407,\n",
       "       2.9567919, 2.9490778, 2.9529371, 2.9539218, 2.9551706, 2.9661255,\n",
       "       2.951355 , 2.9491537, 2.9504097, 2.9561791, 2.9573529, 2.9550784,\n",
       "       2.9510508, 2.9597547, 2.9494627, 2.9430518, 2.9377708, 2.9366853,\n",
       "       2.93402  , 2.9337668, 2.9437056, 2.9396553, 2.95205  , 2.9584422,\n",
       "       2.9608254, 2.959193 , 2.952711 , 2.9476476, 2.9491198, 2.9379096,\n",
       "       2.960309 , 2.956707 , 2.9579349, 2.9527576, 2.9562905, 2.9504693,\n",
       "       2.9553065, 2.9544008, 2.954285 , 2.9538376, 2.9493384, 2.9492931,\n",
       "       2.956521 , 2.953657 , 2.9404526, 2.9508939, 2.9530172, 2.9548821,\n",
       "       2.9604223, 2.9597611, 2.9449193, 2.9366384, 2.9057841, 2.902352 ,\n",
       "       2.900779 , 2.900705 , 2.9004426, 2.9003363], dtype=float32)"
      ]
     },
     "execution_count": 22,
     "metadata": {},
     "output_type": "execute_result"
    }
   ],
   "source": [
    "g"
   ]
  },
  {
   "cell_type": "code",
   "execution_count": 41,
   "id": "7d304dc9-8a26-4b5d-b831-8b21d0869571",
   "metadata": {},
   "outputs": [],
   "source": [
    "# loss = torch.nn.CrossEntropyLoss()\n",
    "# loss((torch.from_numpy(source_[1] + 1e-12)), torch.from_numpy((target_[1] + 1e-12)))"
   ]
  },
  {
   "cell_type": "code",
   "execution_count": 18,
   "id": "ec4aa69e-feb7-4f4a-9ddb-6998f5a68d97",
   "metadata": {},
   "outputs": [
    {
     "data": {
      "text/plain": [
       "1.2603153004103946"
      ]
     },
     "execution_count": 18,
     "metadata": {},
     "output_type": "execute_result"
    }
   ],
   "source": [
    "a = [0.1, 0.5, 0.4]\n",
    "b = [0.2, 0.7, 0.1]\n",
    "-xlogy(a,b).sum()"
   ]
  },
  {
   "cell_type": "code",
   "execution_count": 53,
   "id": "8fe4ddc7-79e7-4a60-b5d4-a75201604e40",
   "metadata": {},
   "outputs": [],
   "source": [
    "def cross_entropy(source, target):\n",
    "    ce = [- np.sum((source[i]+1e-12) * np.log(target[i]+1e-12)) for i in range(len(source))]\n",
    "    return np.array(ce)"
   ]
  },
  {
   "cell_type": "code",
   "execution_count": 6,
   "id": "3ecd19ea-5fb2-4cc3-b0d8-6ef3230d5b95",
   "metadata": {},
   "outputs": [],
   "source": [
    "def cross_entropy_sc(p, q):\n",
    "    # q = q + 1e-15 # to handle the zeros\n",
    "    h = [np.sum(-(xlogy(p[i]+1e-12, q[i]+1e-12))) for i in range(len(p))]\n",
    "    return np.array(h)\n",
    "# def cross_entropy_sc(p, q, epsilon=1e-12 ):\n",
    "#     # q = q + 1e-15 # to handle the zeros\n",
    "#     for i in range(len(p)):\n",
    "#         # p[i] = np.clip(p[i], epsilon, 1. - epsilon)\n",
    "#         # q[i] = np.clip(q[i], epsilon, 1. - epsilon)\n",
    "#         h = [np.sum(-(xlogy(np.clip(p[i], epsilon, 1. - epsilon), np.clip(q[i], epsilon, 1. - epsilon))))]\n",
    "#     return np.array(h)\n",
    "\n",
    "\n",
    "dissimilarity = cross_entropy_sc(source_, target_)\n"
   ]
  },
  {
   "cell_type": "code",
   "execution_count": null,
   "id": "708f6796-c27c-4000-86cf-fd34908c8ac4",
   "metadata": {},
   "outputs": [],
   "source": [
    "def cross_entropy_ac(predictions, targets, epsilon=1e-12):\n",
    "    \"\"\"\n",
    "    Computes cross entropy between targets (encoded as one-hot vectors)\n",
    "    and predictions. \n",
    "    Input: predictions (N, k) ndarray\n",
    "           targets (N, k) ndarray        \n",
    "    Returns: scalar\n",
    "    \"\"\"\n",
    "    N = predictions.shape[0]\n",
    "    for i in range(len(predictions)):\n",
    "            predictions[i] = np.clip(predictions[i], epsilon, 1. - epsilon)\n",
    "            \n",
    "            ce = [-np.sum(targets[i]*np.log(predictions[i]))/N]\n",
    "    return np.array(ce)\n",
    "fdmj_ = cross_entropy_ac(target_, source_)"
   ]
  },
  {
   "cell_type": "code",
   "execution_count": 7,
   "id": "62072897-25be-4948-baf4-3ddd6211f9b8",
   "metadata": {},
   "outputs": [],
   "source": [
    "# epsilon=1e-12\n",
    "# np.clip(source_[1], epsilon, 1. - epsilon)"
   ]
  },
  {
   "cell_type": "code",
   "execution_count": 141,
   "id": "c5787829-3f1f-4698-9cf2-c417ce851082",
   "metadata": {},
   "outputs": [
    {
     "data": {
      "text/plain": [
       "array([5.60776310e-03, 3.56056686e-02, 1.49861086e-01, 1.15629035e-02,\n",
       "       5.50353551e-02, 1.58025556e-02, 9.55633724e-02, 5.67637184e-02,\n",
       "       1.03713990e-01, 4.75124861e-02, 7.14285714e-04, 2.72629084e-01,\n",
       "       1.00595359e-02, 3.07946488e-02, 3.07850180e-05, 3.90081925e-04,\n",
       "       7.19260912e-02, 3.64265886e-02, 0.00000000e+00])"
      ]
     },
     "execution_count": 141,
     "metadata": {},
     "output_type": "execute_result"
    }
   ],
   "source": [
    "target_[1]"
   ]
  },
  {
   "cell_type": "code",
   "execution_count": 44,
   "id": "c2c82e7f-581d-43fd-9702-83c20672f877",
   "metadata": {},
   "outputs": [],
   "source": [
    "# source_[1].astype('float16')"
   ]
  },
  {
   "cell_type": "code",
   "execution_count": 45,
   "id": "b12b1779-57d8-493b-9069-08c62bc32e72",
   "metadata": {},
   "outputs": [],
   "source": [
    "# np.log(target_[1] + 1e-12)"
   ]
  },
  {
   "cell_type": "code",
   "execution_count": 49,
   "id": "3a97633f-dda1-4939-b11e-6aa7e51ee9a7",
   "metadata": {},
   "outputs": [],
   "source": [
    "# (source_[1] + 1e-12) * np.log(target_[1] + 1e-12)"
   ]
  },
  {
   "cell_type": "code",
   "execution_count": 50,
   "id": "50a27fa1-221f-4178-bbb5-b57c4f5fd37b",
   "metadata": {},
   "outputs": [],
   "source": [
    "# - np.sum((np.log(source_[3]+1e-12)) * (target_[3]+1e-12))"
   ]
  },
  {
   "cell_type": "code",
   "execution_count": 10,
   "id": "5faa0c08-4d3f-4c67-8b32-993124f22e9a",
   "metadata": {},
   "outputs": [],
   "source": [
    "# N = target_.shape[0]"
   ]
  },
  {
   "cell_type": "code",
   "execution_count": 9,
   "id": "f198b403-7802-40ca-a643-b7a5bff6937c",
   "metadata": {},
   "outputs": [],
   "source": [
    "# s_ = source_[:200000,:]\n",
    "# t_ = target_[:200000,:]"
   ]
  },
  {
   "cell_type": "code",
   "execution_count": 51,
   "id": "77ec0fdb-7ab3-462f-8a47-6c5b1d5e1361",
   "metadata": {},
   "outputs": [],
   "source": [
    "ff = cross_entropy(source_, target_)"
   ]
  },
  {
   "cell_type": "code",
   "execution_count": 22,
   "id": "84fa9ba1-5e07-49ea-9b49-5654debdcfa0",
   "metadata": {},
   "outputs": [
    {
     "data": {
      "text/plain": [
       "array([17999689])"
      ]
     },
     "execution_count": 22,
     "metadata": {},
     "output_type": "execute_result"
    }
   ],
   "source": [
    "mx = dissimilarity.max()\n",
    "index, = np.where(dissimilarity == mx)\n",
    "index"
   ]
  },
  {
   "cell_type": "code",
   "execution_count": 24,
   "id": "44b891e9-6a00-45d7-83c4-0352c34b37b9",
   "metadata": {},
   "outputs": [
    {
     "data": {
      "text/plain": [
       "array([[0.07376134, 0.1030679 , 0.76096696, 0.03089155, 0.        ,\n",
       "        0.002     , 0.0008    , 0.00083333, 0.00333333, 0.006875  ,\n",
       "        0.002     , 0.01547057, 0.        , 0.        , 0.        ,\n",
       "        0.        , 0.        , 0.        , 0.        ]])"
      ]
     },
     "execution_count": 24,
     "metadata": {},
     "output_type": "execute_result"
    }
   ],
   "source": [
    "source_[index]"
   ]
  },
  {
   "cell_type": "code",
   "execution_count": 25,
   "id": "86ec477a-a40f-48e5-b147-ca97971f9a23",
   "metadata": {},
   "outputs": [
    {
     "data": {
      "text/plain": [
       "array([[0., 0., 0., 0., 0., 0., 0., 0., 0., 0., 0., 0., 0., 0., 0., 0.,\n",
       "        0., 0., 1.]])"
      ]
     },
     "execution_count": 25,
     "metadata": {},
     "output_type": "execute_result"
    }
   ],
   "source": [
    "target_[index]"
   ]
  },
  {
   "cell_type": "code",
   "execution_count": 40,
   "id": "664131ca-8741-48b9-8ada-8dcda4aceaf7",
   "metadata": {},
   "outputs": [],
   "source": [
    "eps = 1e-15"
   ]
  },
  {
   "cell_type": "code",
   "execution_count": 47,
   "id": "2e2c3cb0-fccc-4999-b7fd-2761b53554ba",
   "metadata": {},
   "outputs": [
    {
     "data": {
      "text/plain": [
       "-31.084898755419616"
      ]
     },
     "execution_count": 47,
     "metadata": {},
     "output_type": "execute_result"
    }
   ],
   "source": [
    "np.log(eps)*0.9"
   ]
  },
  {
   "cell_type": "code",
   "execution_count": 41,
   "id": "e7158c2f-a3ad-4a50-82f8-666b83540814",
   "metadata": {},
   "outputs": [
    {
     "data": {
      "text/plain": [
       "array([[ 2.54762658e+00,  3.55983917e+00,  2.62828678e+01,\n",
       "         1.06695647e+00,  3.45387764e-14,  6.90775528e-02,\n",
       "         2.76310211e-02,  2.87823137e-02,  1.15129255e-01,\n",
       "         2.37454088e-01,  6.90775528e-02,  5.34334596e-01,\n",
       "         3.45387764e-14,  3.45387764e-14,  3.45387764e-14,\n",
       "         3.45387764e-14,  3.45387764e-14,  3.45387764e-14,\n",
       "        -1.11022302e-30]])"
      ]
     },
     "execution_count": 41,
     "metadata": {},
     "output_type": "execute_result"
    }
   ],
   "source": [
    "-(source_[index] + eps) * np.log(target_[index]+eps)"
   ]
  },
  {
   "cell_type": "code",
   "execution_count": 42,
   "id": "8c68b193-77ea-4cde-9f43-bdc307ba265f",
   "metadata": {},
   "outputs": [
    {
     "data": {
      "text/plain": [
       "34.53877639491132"
      ]
     },
     "execution_count": 42,
     "metadata": {},
     "output_type": "execute_result"
    }
   ],
   "source": [
    "(-(source_[index] + eps) * np.log(target_[index]+eps)).sum()"
   ]
  },
  {
   "cell_type": "code",
   "execution_count": 43,
   "id": "493e5375-6339-4bfd-bfc2-75a2d3130345",
   "metadata": {},
   "outputs": [
    {
     "data": {
      "text/plain": [
       "34.53877639491069"
      ]
     },
     "execution_count": 43,
     "metadata": {},
     "output_type": "execute_result"
    }
   ],
   "source": [
    "(-(source_[index]) * np.log(target_[index]+eps)).sum()"
   ]
  },
  {
   "cell_type": "code",
   "execution_count": 9,
   "id": "af4b829e-acbb-42ad-8dcc-b0d44a9fff36",
   "metadata": {},
   "outputs": [],
   "source": [
    "def mask_and_extract(array, mask_array):\n",
    "        array = np.ma.masked_array(array, mask=True)\n",
    "        array.mask[mask_array.data != 0] = False\n",
    "        array_value = np.ma.compressed(array)\n",
    "        return array_value\n",
    "    \n",
    "similarity_ = mask_and_extract(dissimilarity, gt_binary_mask)"
   ]
  },
  {
   "cell_type": "code",
   "execution_count": 92,
   "id": "290bca0a-cb73-4aaa-a0d4-d4d2d02f467e",
   "metadata": {},
   "outputs": [
    {
     "data": {
      "text/plain": [
       "(4021720,)"
      ]
     },
     "execution_count": 92,
     "metadata": {},
     "output_type": "execute_result"
    }
   ],
   "source": [
    "gt_binary_.shape"
   ]
  },
  {
   "cell_type": "code",
   "execution_count": 10,
   "id": "a566fbd0-3f0c-4916-aa02-65e2fb8cbb19",
   "metadata": {},
   "outputs": [],
   "source": [
    "thresholds = np.linspace(similarity_.min(), similarity_.max(), 10)\n",
    "\n",
    "# initiate metrics\n",
    "fscore_ = np.zeros(shape=(len(thresholds)))\n",
    "for index, elem in enumerate(thresholds):\n",
    "    fscore_[index] = f1_score(gt_binary_, np.where(similarity_ >= elem, 1, 0))\n",
    "\n",
    "opt_threshold_idx = np.argmax(fscore_)\n",
    "opt_threshold = thresholds[opt_threshold_idx]"
   ]
  },
  {
   "cell_type": "code",
   "execution_count": 11,
   "id": "a4aecfd8-1b7c-4033-9cf3-31e27bfdb362",
   "metadata": {},
   "outputs": [
    {
     "data": {
      "text/plain": [
       "3.069922245481926"
      ]
     },
     "execution_count": 11,
     "metadata": {},
     "output_type": "execute_result"
    }
   ],
   "source": [
    "opt_threshold"
   ]
  },
  {
   "cell_type": "code",
   "execution_count": 12,
   "id": "c265f193-ee4f-45ea-a011-2e54ad2a17d2",
   "metadata": {},
   "outputs": [
    {
     "data": {
      "text/plain": [
       "0.9474638307002216"
      ]
     },
     "execution_count": 12,
     "metadata": {},
     "output_type": "execute_result"
    }
   ],
   "source": [
    "fscore_[opt_threshold_idx]"
   ]
  },
  {
   "cell_type": "code",
   "execution_count": 14,
   "id": "e32dbb5a-8c81-4289-8a86-3c794d9cf43e",
   "metadata": {},
   "outputs": [
    {
     "data": {
      "text/plain": [
       "0.8977321214581353"
      ]
     },
     "execution_count": 14,
     "metadata": {},
     "output_type": "execute_result"
    }
   ],
   "source": [
    "thresh = threshold_otsu(dissimilarity)\n",
    "otsu_binary = similarity_ > thresh\n",
    "otsu_fscore = f1_score(gt_binary_, otsu_binary)\n",
    "otsu_fscore"
   ]
  },
  {
   "cell_type": "code",
   "execution_count": 15,
   "id": "6623cfa9-9905-4b9c-b484-5676325ada58",
   "metadata": {},
   "outputs": [
    {
     "data": {
      "image/png": "[encoded data removed]",
      "text/plain": [
       "<Figure size 576x360 with 1 Axes>"
      ]
     },
     "metadata": {
      "needs_background": "light"
     },
     "output_type": "display_data"
    }
   ],
   "source": [
    "plt.figure(figsize=(8,5))\n",
    "plt.hist(dissimilarity, bins=10, log=True)\n",
    "plt.axvline(opt_threshold, color='orange', label = 'optimal thresholding {0:0.3f}'.format(opt_threshold), linestyle='--')\n",
    "plt.axvline(thresh, color='r', label = 'otsu thresholding {0:0.3f}'.format(thresh), linestyle='--')\n",
    "plt.legend()\n",
    "plt.show()"
   ]
  },
  {
   "cell_type": "code",
   "execution_count": 60,
   "id": "bcd0b063-753c-4414-b4df-7140cb5f04cd",
   "metadata": {},
   "outputs": [
    {
     "data": {
      "text/plain": [
       "array([[0., 0., 0., 0., 0., 0., 0., 0., 0., 0., 0., 0., 0., 0., 0., 0.,\n",
       "        0., 0., 1.]])"
      ]
     },
     "execution_count": 60,
     "metadata": {},
     "output_type": "execute_result"
    }
   ],
   "source": [
    "target_[index]"
   ]
  },
  {
   "cell_type": "code",
   "execution_count": 20,
   "id": "140f4111-7815-492d-bdb8-28d58afd9498",
   "metadata": {},
   "outputs": [],
   "source": [
    "# disimilarity = cross_entropy(target_, source_)"
   ]
  },
  {
   "cell_type": "code",
   "execution_count": 3,
   "id": "02976bd2-0da1-4a1d-9996-cf019682d403",
   "metadata": {},
   "outputs": [],
   "source": [
    "# import time\n",
    "# # from math import log\n",
    "# def cross_entropy(p, q):\n",
    "#     # q = q + 1e-12\n",
    "#     # p = p + 1e-12\n",
    "#     h = [-((p[i]*np.log(q[i]))).sum() for i in range(len(p))]\n",
    "#     return np.array(h)"
   ]
  },
  {
   "cell_type": "code",
   "execution_count": 45,
   "id": "3368ea2e-774d-4b72-a6f3-20d1868a6d43",
   "metadata": {},
   "outputs": [],
   "source": [
    "# import time\n",
    "# def cross_entropy(p, q):\n",
    "#     # q = q + 1e-15\n",
    "#     h = [-(xlogy(p[i],q[i])).sum() for i in range(len(p))]\n",
    "#     return np.array(h)"
   ]
  },
  {
   "cell_type": "code",
   "execution_count": 72,
   "id": "8b138f61-2a3e-494e-9a59-a5889eaeaf36",
   "metadata": {},
   "outputs": [],
   "source": [
    "# cross_entropy(s_soft, t_soft)"
   ]
  },
  {
   "cell_type": "code",
   "execution_count": null,
   "id": "9fdc077d-b811-4ffc-ade3-a289439754be",
   "metadata": {},
   "outputs": [],
   "source": [
    "# plt.figure(figsize=(8,5))\n",
    "# plt.hist(ce1, bins=10, log=True)\n",
    "# plt.show()"
   ]
  },
  {
   "cell_type": "code",
   "execution_count": 19,
   "id": "11d9546d-b69e-45ca-86b2-4766824b0b38",
   "metadata": {
    "tags": []
   },
   "outputs": [
    {
     "ename": "RuntimeError",
     "evalue": "\"softmax_lastdim_kernel_impl\" not implemented for 'Half'",
     "output_type": "error",
     "traceback": [
      "\u001b[0;31m---------------------------------------------------------------------------\u001b[0m",
      "\u001b[0;31mRuntimeError\u001b[0m                              Traceback (most recent call last)",
      "\u001b[0;32m<ipython-input-19-540152cc03af>\u001b[0m in \u001b[0;36m<module>\u001b[0;34m\u001b[0m\n\u001b[1;32m      1\u001b[0m \u001b[0;31m# loss = torch.nn.CrossEntropyLoss()\u001b[0m\u001b[0;34m\u001b[0m\u001b[0;34m\u001b[0m\u001b[0;34m\u001b[0m\u001b[0m\n\u001b[1;32m      2\u001b[0m \u001b[0;31m# t_soft = torch.nn.functional.log_softmax(torch.from_numpy(t_), dim=1)\u001b[0m\u001b[0;34m\u001b[0m\u001b[0;34m\u001b[0m\u001b[0;34m\u001b[0m\u001b[0m\n\u001b[0;32m----> 3\u001b[0;31m \u001b[0ms_soft\u001b[0m \u001b[0;34m=\u001b[0m \u001b[0mtorch\u001b[0m\u001b[0;34m.\u001b[0m\u001b[0mnn\u001b[0m\u001b[0;34m.\u001b[0m\u001b[0mfunctional\u001b[0m\u001b[0;34m.\u001b[0m\u001b[0msoftmax\u001b[0m\u001b[0;34m(\u001b[0m\u001b[0mtorch\u001b[0m\u001b[0;34m.\u001b[0m\u001b[0mfrom_numpy\u001b[0m\u001b[0;34m(\u001b[0m\u001b[0ms_\u001b[0m\u001b[0;34m)\u001b[0m\u001b[0;34m,\u001b[0m \u001b[0mdim\u001b[0m\u001b[0;34m=\u001b[0m\u001b[0;36m1\u001b[0m\u001b[0;34m)\u001b[0m\u001b[0;34m\u001b[0m\u001b[0;34m\u001b[0m\u001b[0m\n\u001b[0m\u001b[1;32m      4\u001b[0m \u001b[0;31m# dd = []\u001b[0m\u001b[0;34m\u001b[0m\u001b[0;34m\u001b[0m\u001b[0;34m\u001b[0m\u001b[0m\n\u001b[1;32m      5\u001b[0m \u001b[0;31m# for i in range(len(s_soft)):\u001b[0m\u001b[0;34m\u001b[0m\u001b[0;34m\u001b[0m\u001b[0;34m\u001b[0m\u001b[0m\n",
      "\u001b[0;32m~/.conda/envs/python_env/lib/python3.7/site-packages/torch/nn/functional.py\u001b[0m in \u001b[0;36msoftmax\u001b[0;34m(input, dim, _stacklevel, dtype)\u001b[0m\n\u001b[1;32m   1510\u001b[0m         \u001b[0mdim\u001b[0m \u001b[0;34m=\u001b[0m \u001b[0m_get_softmax_dim\u001b[0m\u001b[0;34m(\u001b[0m\u001b[0;34m'softmax'\u001b[0m\u001b[0;34m,\u001b[0m \u001b[0minput\u001b[0m\u001b[0;34m.\u001b[0m\u001b[0mdim\u001b[0m\u001b[0;34m(\u001b[0m\u001b[0;34m)\u001b[0m\u001b[0;34m,\u001b[0m \u001b[0m_stacklevel\u001b[0m\u001b[0;34m)\u001b[0m\u001b[0;34m\u001b[0m\u001b[0;34m\u001b[0m\u001b[0m\n\u001b[1;32m   1511\u001b[0m     \u001b[0;32mif\u001b[0m \u001b[0mdtype\u001b[0m \u001b[0;32mis\u001b[0m \u001b[0;32mNone\u001b[0m\u001b[0;34m:\u001b[0m\u001b[0;34m\u001b[0m\u001b[0;34m\u001b[0m\u001b[0m\n\u001b[0;32m-> 1512\u001b[0;31m         \u001b[0mret\u001b[0m \u001b[0;34m=\u001b[0m \u001b[0minput\u001b[0m\u001b[0;34m.\u001b[0m\u001b[0msoftmax\u001b[0m\u001b[0;34m(\u001b[0m\u001b[0mdim\u001b[0m\u001b[0;34m)\u001b[0m\u001b[0;34m\u001b[0m\u001b[0;34m\u001b[0m\u001b[0m\n\u001b[0m\u001b[1;32m   1513\u001b[0m     \u001b[0;32melse\u001b[0m\u001b[0;34m:\u001b[0m\u001b[0;34m\u001b[0m\u001b[0;34m\u001b[0m\u001b[0m\n\u001b[1;32m   1514\u001b[0m         \u001b[0mret\u001b[0m \u001b[0;34m=\u001b[0m \u001b[0minput\u001b[0m\u001b[0;34m.\u001b[0m\u001b[0msoftmax\u001b[0m\u001b[0;34m(\u001b[0m\u001b[0mdim\u001b[0m\u001b[0;34m,\u001b[0m \u001b[0mdtype\u001b[0m\u001b[0;34m=\u001b[0m\u001b[0mdtype\u001b[0m\u001b[0;34m)\u001b[0m\u001b[0;34m\u001b[0m\u001b[0;34m\u001b[0m\u001b[0m\n",
      "\u001b[0;31mRuntimeError\u001b[0m: \"softmax_lastdim_kernel_impl\" not implemented for 'Half'"
     ]
    }
   ],
   "source": [
    "# loss = torch.nn.CrossEntropyLoss()\n",
    "# t_soft = torch.nn.functional.log_softmax(torch.from_numpy(t_), dim=1)\n",
    "# s_soft = torch.nn.functional.softmax(torch.from_numpy(s_), dim=1)\n",
    "# dd = []\n",
    "# for i in range(len(s_soft)):\n",
    "#     dist = loss(s_soft[i], t_soft[i])\n",
    "#     dd.append(dist)"
   ]
  },
  {
   "cell_type": "code",
   "execution_count": 43,
   "id": "3805e940-0d55-4471-890e-a4cd5c1e1d07",
   "metadata": {},
   "outputs": [
    {
     "data": {
      "text/plain": [
       "tensor([[0.0497, 0.0496, 0.0531,  ..., 0.0570, 0.0571, 0.0496],\n",
       "        [0.0496, 0.0496, 0.0520,  ..., 0.0573, 0.0554, 0.0497],\n",
       "        [0.0497, 0.0498, 0.0516,  ..., 0.0619, 0.0555, 0.0499],\n",
       "        ...,\n",
       "        [0.0494, 0.0497, 0.0523,  ..., 0.0524, 0.0522, 0.0495],\n",
       "        [0.0500, 0.0519, 0.0629,  ..., 0.0565, 0.0518, 0.0498],\n",
       "        [0.0501, 0.0517, 0.0609,  ..., 0.0547, 0.0515, 0.0499]],\n",
       "       dtype=torch.float64)"
      ]
     },
     "execution_count": 43,
     "metadata": {},
     "output_type": "execute_result"
    }
   ],
   "source": [
    "# torch.nn.functional.softmax(t_soft, dim=1)"
   ]
  },
  {
   "cell_type": "code",
   "execution_count": 9,
   "id": "db5934f7-b4dd-4a91-8a63-6960cd703271",
   "metadata": {},
   "outputs": [],
   "source": [
    "# from math import log2\n",
    "# # def cross_entropy(p,q):\n",
    "# #     return -sum([p[i]*log2(q[i]) for i in range(len(p))])\n",
    "# def cross_entropy(p, q):\n",
    "#     return -([p[i]*log2(q[i]) for i in range(len(p))])"
   ]
  },
  {
   "cell_type": "code",
   "execution_count": 34,
   "id": "a1cf99d5-6c80-4f73-88f6-862ae4febba3",
   "metadata": {},
   "outputs": [
    {
     "data": {
      "text/plain": [
       "array([0, 0, 0, ..., 0, 0, 0])"
      ]
     },
     "execution_count": 34,
     "metadata": {},
     "output_type": "execute_result"
    }
   ],
   "source": [
    "gt_source_"
   ]
  },
  {
   "cell_type": "code",
   "execution_count": 35,
   "id": "81dfde01-9806-4126-9a26-e6c6a044ebc5",
   "metadata": {},
   "outputs": [
    {
     "data": {
      "text/plain": [
       "array([[0., 0., 0., ..., 0., 0., 0.],\n",
       "       [0., 0., 0., ..., 0., 0., 0.],\n",
       "       [0., 0., 0., ..., 0., 0., 0.],\n",
       "       ...,\n",
       "       [0., 0., 0., ..., 0., 0., 0.],\n",
       "       [0., 0., 0., ..., 0., 0., 0.],\n",
       "       [0., 0., 0., ..., 0., 0., 0.]], dtype=float32)"
      ]
     },
     "execution_count": 35,
     "metadata": {},
     "output_type": "execute_result"
    }
   ],
   "source": [
    "gt_target_"
   ]
  },
  {
   "cell_type": "code",
   "execution_count": 20,
   "id": "c328040c-ca89-440a-bcf9-a5b9d04174b3",
   "metadata": {},
   "outputs": [],
   "source": [
    "# ### confunsion matrix for gt \n",
    "# gt_source_ = gt_source_[gt_source_ !=0]\n",
    "# gt_target_ = gt_target_[gt_target_ !=0]"
   ]
  },
  {
   "cell_type": "code",
   "execution_count": null,
   "id": "eedf4fc0-c810-4075-bc6c-62a0965966f3",
   "metadata": {},
   "outputs": [],
   "source": [
    "ccm = confusion_matrix(gt_source_, gt_target_)"
   ]
  },
  {
   "cell_type": "code",
   "execution_count": 9,
   "id": "47d22a22-540b-40ad-9cc8-00a0f107459b",
   "metadata": {},
   "outputs": [],
   "source": [
    "# print(\"GT 2018: \",gt_source_.shape)\n",
    "# print(\"GT 2019: \",gt_target_.shape)\n",
    "# print(\"Pred 2018: \",pred_source_.shape)\n",
    "# print(\"Pred 2019: \",pred_target_.shape)"
   ]
  },
  {
   "cell_type": "code",
   "execution_count": 28,
   "id": "87de6ebb-010f-473a-80c7-50db3f55ce5f",
   "metadata": {},
   "outputs": [],
   "source": []
  },
  {
   "cell_type": "code",
   "execution_count": 29,
   "id": "14230038-5ca1-4f6e-8c28-81e4369608d6",
   "metadata": {},
   "outputs": [],
   "source": [
    "# gt_mask = (gt_source_ != 0) & (gt_target_ != 0)\n",
    "# gt_binary = np.where(gt_mask, np.where(gt_source_ == gt_target_, 1, 2), 0)\n",
    "# gt_binary_mask = np.ma.masked_array(gt_binary, mask=True)\n",
    "# gt_binary_mask.mask[gt_binary_mask.data != 0] = False"
   ]
  },
  {
   "cell_type": "code",
   "execution_count": 71,
   "id": "a36f955d-bc8c-457f-b632-0dcecc1f549d",
   "metadata": {},
   "outputs": [],
   "source": [
    "# ce_mask = np.ma.masked_array(ce1, mask=True)\n",
    "# ce_mask.mask[gt_binary_mask.data !=0] = False"
   ]
  },
  {
   "cell_type": "code",
   "execution_count": 73,
   "id": "97c43618-f1a8-48a4-be6f-3de4bcb8ed6d",
   "metadata": {},
   "outputs": [],
   "source": [
    "# similarity_mask"
   ]
  },
  {
   "cell_type": "code",
   "execution_count": 25,
   "id": "69cf8298-61e0-4327-b642-121f32668a49",
   "metadata": {},
   "outputs": [],
   "source": [
    "# similarity_mask = np.ma.masked_array(ce1, mask= True)\n",
    "# similarity_mask.mask[gt_binary_mask.data != 0] = False # extract according to the non-zero from ground truth data\n",
    "# similarity_ = similarity_mask.compressed()"
   ]
  },
  {
   "cell_type": "code",
   "execution_count": 14,
   "id": "306aad83-8908-4719-bd88-cb5544e607bf",
   "metadata": {},
   "outputs": [],
   "source": [
    "new_ce = ce_mask.compressed()"
   ]
  },
  {
   "cell_type": "code",
   "execution_count": 15,
   "id": "72265d15-1deb-4547-8b5d-bd6461c5f443",
   "metadata": {},
   "outputs": [
    {
     "data": {
      "image/png": "[encoded data removed]",
      "text/plain": [
       "<Figure size 576x360 with 1 Axes>"
      ]
     },
     "metadata": {
      "needs_background": "light"
     },
     "output_type": "display_data"
    }
   ],
   "source": [
    "plt.figure(figsize=(8,5))\n",
    "plt.hist(new_ce, bins=10, log=True)\n",
    "plt.show()"
   ]
  },
  {
   "cell_type": "code",
   "execution_count": 15,
   "id": "4ee3daa1-b763-449e-a4e1-5769076c3739",
   "metadata": {},
   "outputs": [
    {
     "data": {
      "text/plain": [
       "(array([False,  True]), array([116538680,   4021720]))"
      ]
     },
     "execution_count": 15,
     "metadata": {},
     "output_type": "execute_result"
    }
   ],
   "source": [
    "# np.unique((gt_target_ != 0), return_counts=True)\n",
    "np.unique(gt_mask_nodata, return_counts=True)"
   ]
  },
  {
   "cell_type": "code",
   "execution_count": 4,
   "id": "cfc4762f-318d-4baf-96a4-b168e9c9e052",
   "metadata": {},
   "outputs": [],
   "source": [
    "def mask_and_extract(array, mask_array):\n",
    "    array = np.ma.masked_array(array, mask=True)\n",
    "    array.mask[mask_array] = False\n",
    "    array_value = np.ma.compressed(array)\n",
    "    return array_value\n",
    "\n",
    "gt_source_ = mask_and_extract(gt_source_, gt_mask_nodata)\n",
    "gt_target_ = mask_and_extract(gt_target_, gt_mask_nodata)\n",
    "pred_source_ = mask_and_extract(pred_source_, gt_mask_nodata)\n",
    "pred_target_ = mask_and_extract(pred_target_, gt_mask_nodata)"
   ]
  },
  {
   "cell_type": "code",
   "execution_count": 5,
   "id": "b77ccd62-fd26-4db6-a493-94e7948f87a1",
   "metadata": {},
   "outputs": [
    {
     "name": "stdout",
     "output_type": "stream",
     "text": [
      "(4021720,)\n",
      "(4021720,)\n",
      "(4021720,)\n",
      "(4021720,)\n"
     ]
    }
   ],
   "source": [
    "print(gt_source_.shape)\n",
    "print(gt_target_.shape)\n",
    "print(pred_source_.shape)\n",
    "print(pred_target_.shape)"
   ]
  },
  {
   "cell_type": "code",
   "execution_count": 6,
   "id": "4d7bbe7a-51b3-4dc7-8036-360d7bc8a9fa",
   "metadata": {},
   "outputs": [],
   "source": [
    "df = pd.DataFrame({'gt_source': gt_source_, 'gt_target': gt_target_, 'pred_source': pred_source_, 'pred_target': pred_target_})"
   ]
  },
  {
   "cell_type": "code",
   "execution_count": 7,
   "id": "cd63f338-a770-4da4-926d-f3a7f0c48609",
   "metadata": {},
   "outputs": [],
   "source": [
    "dict_={1: 'Dense built-up area',\n",
    "2: 'Diffuse built-up area',\n",
    " 3: 'Industrial and commercial areas',\n",
    " 4: 'Roads',\n",
    " 5: 'Oilseeds (Rapeseed)',\n",
    " 6: 'Straw cereals (Wheat, Triticale, Barley)',\n",
    " 7: 'Protein crops (Beans / Peas)',\n",
    " 8: 'Soy',\n",
    " 9: 'Sunflower',\n",
    " 10: 'Corn',\n",
    " 12: 'Tubers/roots',\n",
    " 13: 'Grasslands',\n",
    " 14: 'Orchards and fruit growing',\n",
    " 15: 'Vineyards',\n",
    " 16: 'Hardwood forest',\n",
    " 17: 'Softwood forest',\n",
    " 18: 'Natural grasslands and pastures',\n",
    " 19: 'Woody moorlands',\n",
    " 23: 'Water'}"
   ]
  },
  {
   "cell_type": "code",
   "execution_count": 8,
   "id": "1561518e-fe53-4729-9914-7926aeab8f02",
   "metadata": {},
   "outputs": [
    {
     "name": "stdout",
     "output_type": "stream",
     "text": [
      " 0.010157763957977295 minute\n"
     ]
    }
   ],
   "source": [
    "import time\n",
    "start_time =time.time()\n",
    "df['gt_source'] = df['gt_source'].map(dict_)\n",
    "df['gt_target'] = df['gt_target'].map(dict_)\n",
    "df['pred_source'] = df['pred_source'].map(dict_)\n",
    "df['pred_target'] = df['pred_target'].map(dict_)\n",
    "print(\" %s minute\" % str((time.time() - start_time)/60))"
   ]
  },
  {
   "cell_type": "code",
   "execution_count": 9,
   "id": "5322eacc-e02d-43dc-81d7-a7bd14032ab2",
   "metadata": {},
   "outputs": [
    {
     "name": "stdout",
     "output_type": "stream",
     "text": [
      " 3.382476266225179 minutes\n"
     ]
    }
   ],
   "source": [
    "import time\n",
    "start_time =time.time()\n",
    "df['gt_change']= df.apply(lambda x: str(x['gt_source']) + '-' + str(x['gt_target']), axis=1)\n",
    "df['pred_change']= df.apply(lambda x: str(x['pred_source']) + '-' + str(x['pred_target']), axis=1)\n",
    "print(\" %s minutes\" % str((time.time() - start_time)/60))"
   ]
  },
  {
   "cell_type": "code",
   "execution_count": 10,
   "id": "7bbc5ec3-2a4b-4507-9736-fe52e4341f17",
   "metadata": {},
   "outputs": [],
   "source": [
    "cm = pd.crosstab(df['gt_change'], df['pred_change'], rownames=['Ground Truth'], colnames=['Prediction'])"
   ]
  },
  {
   "cell_type": "code",
   "execution_count": 11,
   "id": "9db6f46a-6de0-474c-88a8-e27cd58c718a",
   "metadata": {},
   "outputs": [],
   "source": [
    "cm['recall'] = 0\n",
    "cm.loc['precision'] = 0\n",
    "cm['f1'] = 0"
   ]
  },
  {
   "cell_type": "code",
   "execution_count": 12,
   "id": "db29a748-65fa-40f1-a28f-59c4cdd643fe",
   "metadata": {},
   "outputs": [],
   "source": [
    "# df['gt_change'].unique()"
   ]
  },
  {
   "cell_type": "code",
   "execution_count": 13,
   "id": "e999f14d-af71-4574-a0f5-3c33e0319194",
   "metadata": {},
   "outputs": [
    {
     "name": "stderr",
     "output_type": "stream",
     "text": [
      "/share/etud/e2008987/.local/lib/python3.7/site-packages/pandas/core/indexing.py:1732: SettingWithCopyWarning: \n",
      "A value is trying to be set on a copy of a slice from a DataFrame\n",
      "\n",
      "See the caveats in the documentation: https://pandas.pydata.org/pandas-docs/stable/user_guide/indexing.html#returning-a-view-versus-a-copy\n",
      "  self._setitem_single_block(indexer, value, name)\n",
      "/share/etud/e2008987/.conda/envs/python_env/lib/python3.7/site-packages/ipykernel_launcher.py:6: RuntimeWarning: invalid value encountered in double_scalars\n",
      "  \n"
     ]
    }
   ],
   "source": [
    "for rname in cm.index:\n",
    "    for cname in cm.columns:\n",
    "        if rname == cname:\n",
    "            cm['recall'].loc[rname] = (cm.loc[rname, cname] / cm.sum()[rname]) * 100 \n",
    "            cm[cname].loc['precision'] = cm.loc[rname, cname] / cm.sum(axis = 1)[cname] * 100\n",
    "            cm['f1'].loc[rname] = 2 * (cm.loc[rname, 'recall'] * cm.loc['precision', cname]) / (cm.loc[rname, 'recall'] + cm.loc['precision', cname])\n",
    "            # cm.loc['precision'][cm.columns.get_loc(cname)] = (cm.loc[rname, cname] / cm.sum(axis = 1)[cname]) * 100"
   ]
  },
  {
   "cell_type": "code",
   "execution_count": 14,
   "id": "65da571b-e1f8-4a4e-9b8c-40e71048a998",
   "metadata": {},
   "outputs": [],
   "source": [
    "# cm"
   ]
  },
  {
   "cell_type": "code",
   "execution_count": 15,
   "id": "3b4baef0-4393-4e4c-bd5b-bfb086f12523",
   "metadata": {},
   "outputs": [],
   "source": [
    "cm_ = cm[cm['recall'] != 0]"
   ]
  },
  {
   "cell_type": "code",
   "execution_count": 16,
   "id": "addde144-5ef8-4798-82ec-d5954fa5fdc6",
   "metadata": {},
   "outputs": [],
   "source": [
    "# cm_"
   ]
  },
  {
   "cell_type": "code",
   "execution_count": 17,
   "id": "6b263263-7fcc-4afb-9653-0a05f9e29b47",
   "metadata": {},
   "outputs": [],
   "source": [
    "prec = cm.iloc[[-1]]"
   ]
  },
  {
   "cell_type": "code",
   "execution_count": 18,
   "id": "47d535ac-7bc3-416c-8ace-5898b205c095",
   "metadata": {},
   "outputs": [],
   "source": [
    "# prec"
   ]
  },
  {
   "cell_type": "code",
   "execution_count": 19,
   "id": "cd9dcc3a-11ec-4b2f-aa9c-d242bfaf819f",
   "metadata": {},
   "outputs": [],
   "source": [
    "prec = prec.loc[:, (prec !=0).any(axis=0)]"
   ]
  },
  {
   "cell_type": "code",
   "execution_count": 20,
   "id": "99e26d26-7cbb-475a-9427-acea1aee42bc",
   "metadata": {},
   "outputs": [
    {
     "data": {
      "text/html": [
       "<div>\n",
       "<style scoped>\n",
       "    .dataframe tbody tr th:only-of-type {\n",
       "        vertical-align: middle;\n",
       "    }\n",
       "\n",
       "    .dataframe tbody tr th {\n",
       "        vertical-align: top;\n",
       "    }\n",
       "\n",
       "    .dataframe thead th {\n",
       "        text-align: right;\n",
       "    }\n",
       "</style>\n",
       "<table border=\"1\" class=\"dataframe\">\n",
       "  <thead>\n",
       "    <tr style=\"text-align: right;\">\n",
       "      <th>Prediction</th>\n",
       "      <th>Corn-Corn</th>\n",
       "      <th>Corn-Oilseeds (Rapeseed)</th>\n",
       "      <th>Corn-Protein crops (Beans / Peas)</th>\n",
       "      <th>Corn-Soy</th>\n",
       "      <th>Corn-Straw cereals (Wheat, Triticale, Barley)</th>\n",
       "      <th>Corn-Sunflower</th>\n",
       "      <th>Corn-Tubers/roots</th>\n",
       "      <th>Dense built-up area-Dense built-up area</th>\n",
       "      <th>Diffuse built-up area-Corn</th>\n",
       "      <th>Diffuse built-up area-Diffuse built-up area</th>\n",
       "      <th>...</th>\n",
       "      <th>Tubers/roots-Oilseeds (Rapeseed)</th>\n",
       "      <th>Tubers/roots-Soy</th>\n",
       "      <th>Tubers/roots-Straw cereals (Wheat, Triticale, Barley)</th>\n",
       "      <th>Tubers/roots-Sunflower</th>\n",
       "      <th>Vineyards-Corn</th>\n",
       "      <th>Vineyards-Sunflower</th>\n",
       "      <th>Vineyards-Vineyards</th>\n",
       "      <th>Water-Water</th>\n",
       "      <th>Woody moorlands-Straw cereals (Wheat, Triticale, Barley)</th>\n",
       "      <th>Woody moorlands-Woody moorlands</th>\n",
       "    </tr>\n",
       "    <tr>\n",
       "      <th>Ground Truth</th>\n",
       "      <th></th>\n",
       "      <th></th>\n",
       "      <th></th>\n",
       "      <th></th>\n",
       "      <th></th>\n",
       "      <th></th>\n",
       "      <th></th>\n",
       "      <th></th>\n",
       "      <th></th>\n",
       "      <th></th>\n",
       "      <th></th>\n",
       "      <th></th>\n",
       "      <th></th>\n",
       "      <th></th>\n",
       "      <th></th>\n",
       "      <th></th>\n",
       "      <th></th>\n",
       "      <th></th>\n",
       "      <th></th>\n",
       "      <th></th>\n",
       "      <th></th>\n",
       "    </tr>\n",
       "  </thead>\n",
       "  <tbody>\n",
       "    <tr>\n",
       "      <th>precision</th>\n",
       "      <td>93.488833</td>\n",
       "      <td>67.484507</td>\n",
       "      <td>77.502703</td>\n",
       "      <td>88.67805</td>\n",
       "      <td>93.618885</td>\n",
       "      <td>95.072599</td>\n",
       "      <td>85.168957</td>\n",
       "      <td>12.582224</td>\n",
       "      <td>3.98314</td>\n",
       "      <td>96.860309</td>\n",
       "      <td>...</td>\n",
       "      <td>38.271605</td>\n",
       "      <td>26.39087</td>\n",
       "      <td>84.456494</td>\n",
       "      <td>15.254237</td>\n",
       "      <td>2.008288</td>\n",
       "      <td>35.525652</td>\n",
       "      <td>63.071866</td>\n",
       "      <td>98.931716</td>\n",
       "      <td>0.587002</td>\n",
       "      <td>41.007439</td>\n",
       "    </tr>\n",
       "  </tbody>\n",
       "</table>\n",
       "<p>1 rows × 70 columns</p>\n",
       "</div>"
      ],
      "text/plain": [
       "Prediction    Corn-Corn  Corn-Oilseeds (Rapeseed)  \\\n",
       "Ground Truth                                        \n",
       "precision     93.488833                 67.484507   \n",
       "\n",
       "Prediction    Corn-Protein crops (Beans / Peas)  Corn-Soy  \\\n",
       "Ground Truth                                                \n",
       "precision                             77.502703  88.67805   \n",
       "\n",
       "Prediction    Corn-Straw cereals (Wheat, Triticale, Barley)  Corn-Sunflower  \\\n",
       "Ground Truth                                                                  \n",
       "precision                                         93.618885       95.072599   \n",
       "\n",
       "Prediction    Corn-Tubers/roots  Dense built-up area-Dense built-up area  \\\n",
       "Ground Truth                                                               \n",
       "precision             85.168957                                12.582224   \n",
       "\n",
       "Prediction    Diffuse built-up area-Corn  \\\n",
       "Ground Truth                               \n",
       "precision                        3.98314   \n",
       "\n",
       "Prediction    Diffuse built-up area-Diffuse built-up area  ...  \\\n",
       "Ground Truth                                               ...   \n",
       "precision                                       96.860309  ...   \n",
       "\n",
       "Prediction    Tubers/roots-Oilseeds (Rapeseed)  Tubers/roots-Soy  \\\n",
       "Ground Truth                                                       \n",
       "precision                            38.271605          26.39087   \n",
       "\n",
       "Prediction    Tubers/roots-Straw cereals (Wheat, Triticale, Barley)  \\\n",
       "Ground Truth                                                          \n",
       "precision                                             84.456494       \n",
       "\n",
       "Prediction    Tubers/roots-Sunflower  Vineyards-Corn  Vineyards-Sunflower  \\\n",
       "Ground Truth                                                                \n",
       "precision                  15.254237        2.008288            35.525652   \n",
       "\n",
       "Prediction    Vineyards-Vineyards  Water-Water  \\\n",
       "Ground Truth                                     \n",
       "precision               63.071866    98.931716   \n",
       "\n",
       "Prediction    Woody moorlands-Straw cereals (Wheat, Triticale, Barley)  \\\n",
       "Ground Truth                                                             \n",
       "precision                                              0.587002          \n",
       "\n",
       "Prediction    Woody moorlands-Woody moorlands  \n",
       "Ground Truth                                   \n",
       "precision                           41.007439  \n",
       "\n",
       "[1 rows x 70 columns]"
      ]
     },
     "execution_count": 20,
     "metadata": {},
     "output_type": "execute_result"
    }
   ],
   "source": [
    "prec"
   ]
  },
  {
   "cell_type": "code",
   "execution_count": 21,
   "id": "612ee16a-e649-4e66-b1dc-037b358074c5",
   "metadata": {},
   "outputs": [],
   "source": [
    "t = prec.T"
   ]
  },
  {
   "cell_type": "code",
   "execution_count": 22,
   "id": "091f262f-067f-4cb9-a955-3f75ce5a6b45",
   "metadata": {},
   "outputs": [],
   "source": [
    "t['recall'] = cm_['recall']"
   ]
  },
  {
   "cell_type": "code",
   "execution_count": 23,
   "id": "b6572ad4-8ea3-4b00-b5c8-a75fef96b9ee",
   "metadata": {},
   "outputs": [
    {
     "data": {
      "text/html": [
       "<div>\n",
       "<style scoped>\n",
       "    .dataframe tbody tr th:only-of-type {\n",
       "        vertical-align: middle;\n",
       "    }\n",
       "\n",
       "    .dataframe tbody tr th {\n",
       "        vertical-align: top;\n",
       "    }\n",
       "\n",
       "    .dataframe thead th {\n",
       "        text-align: right;\n",
       "    }\n",
       "</style>\n",
       "<table border=\"1\" class=\"dataframe\">\n",
       "  <thead>\n",
       "    <tr style=\"text-align: right;\">\n",
       "      <th>Ground Truth</th>\n",
       "      <th>precision</th>\n",
       "      <th>recall</th>\n",
       "    </tr>\n",
       "    <tr>\n",
       "      <th>Prediction</th>\n",
       "      <th></th>\n",
       "      <th></th>\n",
       "    </tr>\n",
       "  </thead>\n",
       "  <tbody>\n",
       "    <tr>\n",
       "      <th>Corn-Corn</th>\n",
       "      <td>93.488833</td>\n",
       "      <td>98.020130</td>\n",
       "    </tr>\n",
       "    <tr>\n",
       "      <th>Corn-Oilseeds (Rapeseed)</th>\n",
       "      <td>67.484507</td>\n",
       "      <td>92.010309</td>\n",
       "    </tr>\n",
       "    <tr>\n",
       "      <th>Corn-Protein crops (Beans / Peas)</th>\n",
       "      <td>77.502703</td>\n",
       "      <td>92.378991</td>\n",
       "    </tr>\n",
       "    <tr>\n",
       "      <th>Corn-Soy</th>\n",
       "      <td>88.678050</td>\n",
       "      <td>95.603496</td>\n",
       "    </tr>\n",
       "    <tr>\n",
       "      <th>Corn-Straw cereals (Wheat, Triticale, Barley)</th>\n",
       "      <td>93.618885</td>\n",
       "      <td>95.020606</td>\n",
       "    </tr>\n",
       "    <tr>\n",
       "      <th>...</th>\n",
       "      <td>...</td>\n",
       "      <td>...</td>\n",
       "    </tr>\n",
       "    <tr>\n",
       "      <th>Vineyards-Sunflower</th>\n",
       "      <td>35.525652</td>\n",
       "      <td>12.890625</td>\n",
       "    </tr>\n",
       "    <tr>\n",
       "      <th>Vineyards-Vineyards</th>\n",
       "      <td>63.071866</td>\n",
       "      <td>99.935653</td>\n",
       "    </tr>\n",
       "    <tr>\n",
       "      <th>Water-Water</th>\n",
       "      <td>98.931716</td>\n",
       "      <td>99.904330</td>\n",
       "    </tr>\n",
       "    <tr>\n",
       "      <th>Woody moorlands-Straw cereals (Wheat, Triticale, Barley)</th>\n",
       "      <td>0.587002</td>\n",
       "      <td>5.714286</td>\n",
       "    </tr>\n",
       "    <tr>\n",
       "      <th>Woody moorlands-Woody moorlands</th>\n",
       "      <td>41.007439</td>\n",
       "      <td>91.123361</td>\n",
       "    </tr>\n",
       "  </tbody>\n",
       "</table>\n",
       "<p>70 rows × 2 columns</p>\n",
       "</div>"
      ],
      "text/plain": [
       "Ground Truth                                        precision     recall\n",
       "Prediction                                                              \n",
       "Corn-Corn                                           93.488833  98.020130\n",
       "Corn-Oilseeds (Rapeseed)                            67.484507  92.010309\n",
       "Corn-Protein crops (Beans / Peas)                   77.502703  92.378991\n",
       "Corn-Soy                                            88.678050  95.603496\n",
       "Corn-Straw cereals (Wheat, Triticale, Barley)       93.618885  95.020606\n",
       "...                                                       ...        ...\n",
       "Vineyards-Sunflower                                 35.525652  12.890625\n",
       "Vineyards-Vineyards                                 63.071866  99.935653\n",
       "Water-Water                                         98.931716  99.904330\n",
       "Woody moorlands-Straw cereals (Wheat, Triticale...   0.587002   5.714286\n",
       "Woody moorlands-Woody moorlands                     41.007439  91.123361\n",
       "\n",
       "[70 rows x 2 columns]"
      ]
     },
     "execution_count": 23,
     "metadata": {},
     "output_type": "execute_result"
    }
   ],
   "source": [
    "t"
   ]
  },
  {
   "cell_type": "code",
   "execution_count": 24,
   "id": "bddbcf4b-3511-46e4-962c-f87139db82ba",
   "metadata": {},
   "outputs": [],
   "source": [
    "t['f1'] = cm_['f1']"
   ]
  },
  {
   "cell_type": "code",
   "execution_count": 25,
   "id": "f1e0d665-6085-452e-95dc-2531527b654f",
   "metadata": {},
   "outputs": [
    {
     "data": {
      "text/html": [
       "<div>\n",
       "<style scoped>\n",
       "    .dataframe tbody tr th:only-of-type {\n",
       "        vertical-align: middle;\n",
       "    }\n",
       "\n",
       "    .dataframe tbody tr th {\n",
       "        vertical-align: top;\n",
       "    }\n",
       "\n",
       "    .dataframe thead th {\n",
       "        text-align: right;\n",
       "    }\n",
       "</style>\n",
       "<table border=\"1\" class=\"dataframe\">\n",
       "  <thead>\n",
       "    <tr style=\"text-align: right;\">\n",
       "      <th>Ground Truth</th>\n",
       "      <th>precision</th>\n",
       "      <th>recall</th>\n",
       "      <th>f1</th>\n",
       "    </tr>\n",
       "    <tr>\n",
       "      <th>Prediction</th>\n",
       "      <th></th>\n",
       "      <th></th>\n",
       "      <th></th>\n",
       "    </tr>\n",
       "  </thead>\n",
       "  <tbody>\n",
       "    <tr>\n",
       "      <th>Corn-Corn</th>\n",
       "      <td>93.488833</td>\n",
       "      <td>98.020130</td>\n",
       "      <td>95.700874</td>\n",
       "    </tr>\n",
       "    <tr>\n",
       "      <th>Corn-Oilseeds (Rapeseed)</th>\n",
       "      <td>67.484507</td>\n",
       "      <td>92.010309</td>\n",
       "      <td>77.861720</td>\n",
       "    </tr>\n",
       "    <tr>\n",
       "      <th>Corn-Protein crops (Beans / Peas)</th>\n",
       "      <td>77.502703</td>\n",
       "      <td>92.378991</td>\n",
       "      <td>84.289500</td>\n",
       "    </tr>\n",
       "    <tr>\n",
       "      <th>Corn-Soy</th>\n",
       "      <td>88.678050</td>\n",
       "      <td>95.603496</td>\n",
       "      <td>92.010641</td>\n",
       "    </tr>\n",
       "    <tr>\n",
       "      <th>Corn-Straw cereals (Wheat, Triticale, Barley)</th>\n",
       "      <td>93.618885</td>\n",
       "      <td>95.020606</td>\n",
       "      <td>94.314538</td>\n",
       "    </tr>\n",
       "    <tr>\n",
       "      <th>...</th>\n",
       "      <td>...</td>\n",
       "      <td>...</td>\n",
       "      <td>...</td>\n",
       "    </tr>\n",
       "    <tr>\n",
       "      <th>Vineyards-Sunflower</th>\n",
       "      <td>35.525652</td>\n",
       "      <td>12.890625</td>\n",
       "      <td>18.917103</td>\n",
       "    </tr>\n",
       "    <tr>\n",
       "      <th>Vineyards-Vineyards</th>\n",
       "      <td>63.071866</td>\n",
       "      <td>99.935653</td>\n",
       "      <td>77.335428</td>\n",
       "    </tr>\n",
       "    <tr>\n",
       "      <th>Water-Water</th>\n",
       "      <td>98.931716</td>\n",
       "      <td>99.904330</td>\n",
       "      <td>99.415644</td>\n",
       "    </tr>\n",
       "    <tr>\n",
       "      <th>Woody moorlands-Straw cereals (Wheat, Triticale, Barley)</th>\n",
       "      <td>0.587002</td>\n",
       "      <td>5.714286</td>\n",
       "      <td>1.064639</td>\n",
       "    </tr>\n",
       "    <tr>\n",
       "      <th>Woody moorlands-Woody moorlands</th>\n",
       "      <td>41.007439</td>\n",
       "      <td>91.123361</td>\n",
       "      <td>56.561160</td>\n",
       "    </tr>\n",
       "  </tbody>\n",
       "</table>\n",
       "<p>70 rows × 3 columns</p>\n",
       "</div>"
      ],
      "text/plain": [
       "Ground Truth                                        precision     recall  \\\n",
       "Prediction                                                                 \n",
       "Corn-Corn                                           93.488833  98.020130   \n",
       "Corn-Oilseeds (Rapeseed)                            67.484507  92.010309   \n",
       "Corn-Protein crops (Beans / Peas)                   77.502703  92.378991   \n",
       "Corn-Soy                                            88.678050  95.603496   \n",
       "Corn-Straw cereals (Wheat, Triticale, Barley)       93.618885  95.020606   \n",
       "...                                                       ...        ...   \n",
       "Vineyards-Sunflower                                 35.525652  12.890625   \n",
       "Vineyards-Vineyards                                 63.071866  99.935653   \n",
       "Water-Water                                         98.931716  99.904330   \n",
       "Woody moorlands-Straw cereals (Wheat, Triticale...   0.587002   5.714286   \n",
       "Woody moorlands-Woody moorlands                     41.007439  91.123361   \n",
       "\n",
       "Ground Truth                                               f1  \n",
       "Prediction                                                     \n",
       "Corn-Corn                                           95.700874  \n",
       "Corn-Oilseeds (Rapeseed)                            77.861720  \n",
       "Corn-Protein crops (Beans / Peas)                   84.289500  \n",
       "Corn-Soy                                            92.010641  \n",
       "Corn-Straw cereals (Wheat, Triticale, Barley)       94.314538  \n",
       "...                                                       ...  \n",
       "Vineyards-Sunflower                                 18.917103  \n",
       "Vineyards-Vineyards                                 77.335428  \n",
       "Water-Water                                         99.415644  \n",
       "Woody moorlands-Straw cereals (Wheat, Triticale...   1.064639  \n",
       "Woody moorlands-Woody moorlands                     56.561160  \n",
       "\n",
       "[70 rows x 3 columns]"
      ]
     },
     "execution_count": 25,
     "metadata": {},
     "output_type": "execute_result"
    }
   ],
   "source": [
    "t"
   ]
  },
  {
   "cell_type": "code",
   "execution_count": 26,
   "id": "2eedb7b4-aa3f-4ea5-bfe6-a389c7123c9f",
   "metadata": {},
   "outputs": [],
   "source": [
    "t.index.name = None"
   ]
  },
  {
   "cell_type": "code",
   "execution_count": 27,
   "id": "767e7d3a-7047-4a03-b370-3d450dd06361",
   "metadata": {},
   "outputs": [
    {
     "data": {
      "text/html": [
       "<div>\n",
       "<style scoped>\n",
       "    .dataframe tbody tr th:only-of-type {\n",
       "        vertical-align: middle;\n",
       "    }\n",
       "\n",
       "    .dataframe tbody tr th {\n",
       "        vertical-align: top;\n",
       "    }\n",
       "\n",
       "    .dataframe thead th {\n",
       "        text-align: right;\n",
       "    }\n",
       "</style>\n",
       "<table border=\"1\" class=\"dataframe\">\n",
       "  <thead>\n",
       "    <tr style=\"text-align: right;\">\n",
       "      <th>Ground Truth</th>\n",
       "      <th>precision</th>\n",
       "      <th>recall</th>\n",
       "      <th>f1</th>\n",
       "    </tr>\n",
       "  </thead>\n",
       "  <tbody>\n",
       "    <tr>\n",
       "      <th>Corn-Corn</th>\n",
       "      <td>93.488833</td>\n",
       "      <td>98.020130</td>\n",
       "      <td>95.700874</td>\n",
       "    </tr>\n",
       "    <tr>\n",
       "      <th>Corn-Oilseeds (Rapeseed)</th>\n",
       "      <td>67.484507</td>\n",
       "      <td>92.010309</td>\n",
       "      <td>77.861720</td>\n",
       "    </tr>\n",
       "    <tr>\n",
       "      <th>Corn-Protein crops (Beans / Peas)</th>\n",
       "      <td>77.502703</td>\n",
       "      <td>92.378991</td>\n",
       "      <td>84.289500</td>\n",
       "    </tr>\n",
       "    <tr>\n",
       "      <th>Corn-Soy</th>\n",
       "      <td>88.678050</td>\n",
       "      <td>95.603496</td>\n",
       "      <td>92.010641</td>\n",
       "    </tr>\n",
       "    <tr>\n",
       "      <th>Corn-Straw cereals (Wheat, Triticale, Barley)</th>\n",
       "      <td>93.618885</td>\n",
       "      <td>95.020606</td>\n",
       "      <td>94.314538</td>\n",
       "    </tr>\n",
       "    <tr>\n",
       "      <th>...</th>\n",
       "      <td>...</td>\n",
       "      <td>...</td>\n",
       "      <td>...</td>\n",
       "    </tr>\n",
       "    <tr>\n",
       "      <th>Vineyards-Sunflower</th>\n",
       "      <td>35.525652</td>\n",
       "      <td>12.890625</td>\n",
       "      <td>18.917103</td>\n",
       "    </tr>\n",
       "    <tr>\n",
       "      <th>Vineyards-Vineyards</th>\n",
       "      <td>63.071866</td>\n",
       "      <td>99.935653</td>\n",
       "      <td>77.335428</td>\n",
       "    </tr>\n",
       "    <tr>\n",
       "      <th>Water-Water</th>\n",
       "      <td>98.931716</td>\n",
       "      <td>99.904330</td>\n",
       "      <td>99.415644</td>\n",
       "    </tr>\n",
       "    <tr>\n",
       "      <th>Woody moorlands-Straw cereals (Wheat, Triticale, Barley)</th>\n",
       "      <td>0.587002</td>\n",
       "      <td>5.714286</td>\n",
       "      <td>1.064639</td>\n",
       "    </tr>\n",
       "    <tr>\n",
       "      <th>Woody moorlands-Woody moorlands</th>\n",
       "      <td>41.007439</td>\n",
       "      <td>91.123361</td>\n",
       "      <td>56.561160</td>\n",
       "    </tr>\n",
       "  </tbody>\n",
       "</table>\n",
       "<p>70 rows × 3 columns</p>\n",
       "</div>"
      ],
      "text/plain": [
       "Ground Truth                                        precision     recall  \\\n",
       "Corn-Corn                                           93.488833  98.020130   \n",
       "Corn-Oilseeds (Rapeseed)                            67.484507  92.010309   \n",
       "Corn-Protein crops (Beans / Peas)                   77.502703  92.378991   \n",
       "Corn-Soy                                            88.678050  95.603496   \n",
       "Corn-Straw cereals (Wheat, Triticale, Barley)       93.618885  95.020606   \n",
       "...                                                       ...        ...   \n",
       "Vineyards-Sunflower                                 35.525652  12.890625   \n",
       "Vineyards-Vineyards                                 63.071866  99.935653   \n",
       "Water-Water                                         98.931716  99.904330   \n",
       "Woody moorlands-Straw cereals (Wheat, Triticale...   0.587002   5.714286   \n",
       "Woody moorlands-Woody moorlands                     41.007439  91.123361   \n",
       "\n",
       "Ground Truth                                               f1  \n",
       "Corn-Corn                                           95.700874  \n",
       "Corn-Oilseeds (Rapeseed)                            77.861720  \n",
       "Corn-Protein crops (Beans / Peas)                   84.289500  \n",
       "Corn-Soy                                            92.010641  \n",
       "Corn-Straw cereals (Wheat, Triticale, Barley)       94.314538  \n",
       "...                                                       ...  \n",
       "Vineyards-Sunflower                                 18.917103  \n",
       "Vineyards-Vineyards                                 77.335428  \n",
       "Water-Water                                         99.415644  \n",
       "Woody moorlands-Straw cereals (Wheat, Triticale...   1.064639  \n",
       "Woody moorlands-Woody moorlands                     56.561160  \n",
       "\n",
       "[70 rows x 3 columns]"
      ]
     },
     "execution_count": 27,
     "metadata": {},
     "output_type": "execute_result"
    }
   ],
   "source": [
    "t"
   ]
  },
  {
   "cell_type": "code",
   "execution_count": 28,
   "id": "6014b971-65f2-4c47-90de-7ce88c6d632e",
   "metadata": {},
   "outputs": [],
   "source": [
    "t.columns.name = None"
   ]
  },
  {
   "cell_type": "code",
   "execution_count": 29,
   "id": "7710a1a3-5591-45dc-8f7e-6d05fe6e6762",
   "metadata": {},
   "outputs": [],
   "source": [
    "# t.reset_index(drop=True, inplace=True)"
   ]
  },
  {
   "cell_type": "code",
   "execution_count": 30,
   "id": "8b1859d5-d93b-4242-93c5-86b4ef89402d",
   "metadata": {},
   "outputs": [
    {
     "data": {
      "text/html": [
       "<div>\n",
       "<style scoped>\n",
       "    .dataframe tbody tr th:only-of-type {\n",
       "        vertical-align: middle;\n",
       "    }\n",
       "\n",
       "    .dataframe tbody tr th {\n",
       "        vertical-align: top;\n",
       "    }\n",
       "\n",
       "    .dataframe thead th {\n",
       "        text-align: right;\n",
       "    }\n",
       "</style>\n",
       "<table border=\"1\" class=\"dataframe\">\n",
       "  <thead>\n",
       "    <tr style=\"text-align: right;\">\n",
       "      <th></th>\n",
       "      <th>precision</th>\n",
       "      <th>recall</th>\n",
       "      <th>f1</th>\n",
       "      <th>changes</th>\n",
       "    </tr>\n",
       "  </thead>\n",
       "  <tbody>\n",
       "    <tr>\n",
       "      <th>Corn-Corn</th>\n",
       "      <td>93.488833</td>\n",
       "      <td>98.020130</td>\n",
       "      <td>95.700874</td>\n",
       "      <td>Corn-Corn</td>\n",
       "    </tr>\n",
       "    <tr>\n",
       "      <th>Corn-Oilseeds (Rapeseed)</th>\n",
       "      <td>67.484507</td>\n",
       "      <td>92.010309</td>\n",
       "      <td>77.861720</td>\n",
       "      <td>Corn-Oilseeds (Rapeseed)</td>\n",
       "    </tr>\n",
       "    <tr>\n",
       "      <th>Corn-Protein crops (Beans / Peas)</th>\n",
       "      <td>77.502703</td>\n",
       "      <td>92.378991</td>\n",
       "      <td>84.289500</td>\n",
       "      <td>Corn-Protein crops (Beans / Peas)</td>\n",
       "    </tr>\n",
       "    <tr>\n",
       "      <th>Corn-Soy</th>\n",
       "      <td>88.678050</td>\n",
       "      <td>95.603496</td>\n",
       "      <td>92.010641</td>\n",
       "      <td>Corn-Soy</td>\n",
       "    </tr>\n",
       "    <tr>\n",
       "      <th>Corn-Straw cereals (Wheat, Triticale, Barley)</th>\n",
       "      <td>93.618885</td>\n",
       "      <td>95.020606</td>\n",
       "      <td>94.314538</td>\n",
       "      <td>Corn-Straw cereals (Wheat, Triticale, Barley)</td>\n",
       "    </tr>\n",
       "    <tr>\n",
       "      <th>...</th>\n",
       "      <td>...</td>\n",
       "      <td>...</td>\n",
       "      <td>...</td>\n",
       "      <td>...</td>\n",
       "    </tr>\n",
       "    <tr>\n",
       "      <th>Vineyards-Sunflower</th>\n",
       "      <td>35.525652</td>\n",
       "      <td>12.890625</td>\n",
       "      <td>18.917103</td>\n",
       "      <td>Vineyards-Sunflower</td>\n",
       "    </tr>\n",
       "    <tr>\n",
       "      <th>Vineyards-Vineyards</th>\n",
       "      <td>63.071866</td>\n",
       "      <td>99.935653</td>\n",
       "      <td>77.335428</td>\n",
       "      <td>Vineyards-Vineyards</td>\n",
       "    </tr>\n",
       "    <tr>\n",
       "      <th>Water-Water</th>\n",
       "      <td>98.931716</td>\n",
       "      <td>99.904330</td>\n",
       "      <td>99.415644</td>\n",
       "      <td>Water-Water</td>\n",
       "    </tr>\n",
       "    <tr>\n",
       "      <th>Woody moorlands-Straw cereals (Wheat, Triticale, Barley)</th>\n",
       "      <td>0.587002</td>\n",
       "      <td>5.714286</td>\n",
       "      <td>1.064639</td>\n",
       "      <td>Woody moorlands-Straw cereals (Wheat, Tritical...</td>\n",
       "    </tr>\n",
       "    <tr>\n",
       "      <th>Woody moorlands-Woody moorlands</th>\n",
       "      <td>41.007439</td>\n",
       "      <td>91.123361</td>\n",
       "      <td>56.561160</td>\n",
       "      <td>Woody moorlands-Woody moorlands</td>\n",
       "    </tr>\n",
       "  </tbody>\n",
       "</table>\n",
       "<p>70 rows × 4 columns</p>\n",
       "</div>"
      ],
      "text/plain": [
       "                                                    precision     recall  \\\n",
       "Corn-Corn                                           93.488833  98.020130   \n",
       "Corn-Oilseeds (Rapeseed)                            67.484507  92.010309   \n",
       "Corn-Protein crops (Beans / Peas)                   77.502703  92.378991   \n",
       "Corn-Soy                                            88.678050  95.603496   \n",
       "Corn-Straw cereals (Wheat, Triticale, Barley)       93.618885  95.020606   \n",
       "...                                                       ...        ...   \n",
       "Vineyards-Sunflower                                 35.525652  12.890625   \n",
       "Vineyards-Vineyards                                 63.071866  99.935653   \n",
       "Water-Water                                         98.931716  99.904330   \n",
       "Woody moorlands-Straw cereals (Wheat, Triticale...   0.587002   5.714286   \n",
       "Woody moorlands-Woody moorlands                     41.007439  91.123361   \n",
       "\n",
       "                                                           f1  \\\n",
       "Corn-Corn                                           95.700874   \n",
       "Corn-Oilseeds (Rapeseed)                            77.861720   \n",
       "Corn-Protein crops (Beans / Peas)                   84.289500   \n",
       "Corn-Soy                                            92.010641   \n",
       "Corn-Straw cereals (Wheat, Triticale, Barley)       94.314538   \n",
       "...                                                       ...   \n",
       "Vineyards-Sunflower                                 18.917103   \n",
       "Vineyards-Vineyards                                 77.335428   \n",
       "Water-Water                                         99.415644   \n",
       "Woody moorlands-Straw cereals (Wheat, Triticale...   1.064639   \n",
       "Woody moorlands-Woody moorlands                     56.561160   \n",
       "\n",
       "                                                                                              changes  \n",
       "Corn-Corn                                                                                   Corn-Corn  \n",
       "Corn-Oilseeds (Rapeseed)                                                     Corn-Oilseeds (Rapeseed)  \n",
       "Corn-Protein crops (Beans / Peas)                                   Corn-Protein crops (Beans / Peas)  \n",
       "Corn-Soy                                                                                     Corn-Soy  \n",
       "Corn-Straw cereals (Wheat, Triticale, Barley)           Corn-Straw cereals (Wheat, Triticale, Barley)  \n",
       "...                                                                                               ...  \n",
       "Vineyards-Sunflower                                                               Vineyards-Sunflower  \n",
       "Vineyards-Vineyards                                                               Vineyards-Vineyards  \n",
       "Water-Water                                                                               Water-Water  \n",
       "Woody moorlands-Straw cereals (Wheat, Triticale...  Woody moorlands-Straw cereals (Wheat, Tritical...  \n",
       "Woody moorlands-Woody moorlands                                       Woody moorlands-Woody moorlands  \n",
       "\n",
       "[70 rows x 4 columns]"
      ]
     },
     "execution_count": 30,
     "metadata": {},
     "output_type": "execute_result"
    }
   ],
   "source": [
    "t['changes'] = t.index\n",
    "t"
   ]
  },
  {
   "cell_type": "code",
   "execution_count": 31,
   "id": "40f7038b-573f-459e-a6eb-fedb0d6d83cd",
   "metadata": {},
   "outputs": [],
   "source": [
    "t.reset_index(drop=True, inplace=True)"
   ]
  },
  {
   "cell_type": "code",
   "execution_count": 32,
   "id": "7181520c-92ae-40fc-b861-9ed4a6ac5a34",
   "metadata": {},
   "outputs": [
    {
     "data": {
      "text/html": [
       "<div>\n",
       "<style scoped>\n",
       "    .dataframe tbody tr th:only-of-type {\n",
       "        vertical-align: middle;\n",
       "    }\n",
       "\n",
       "    .dataframe tbody tr th {\n",
       "        vertical-align: top;\n",
       "    }\n",
       "\n",
       "    .dataframe thead th {\n",
       "        text-align: right;\n",
       "    }\n",
       "</style>\n",
       "<table border=\"1\" class=\"dataframe\">\n",
       "  <thead>\n",
       "    <tr style=\"text-align: right;\">\n",
       "      <th></th>\n",
       "      <th>precision</th>\n",
       "      <th>recall</th>\n",
       "      <th>f1</th>\n",
       "      <th>changes</th>\n",
       "    </tr>\n",
       "  </thead>\n",
       "  <tbody>\n",
       "    <tr>\n",
       "      <th>0</th>\n",
       "      <td>93.488833</td>\n",
       "      <td>98.020130</td>\n",
       "      <td>95.700874</td>\n",
       "      <td>Corn-Corn</td>\n",
       "    </tr>\n",
       "    <tr>\n",
       "      <th>1</th>\n",
       "      <td>67.484507</td>\n",
       "      <td>92.010309</td>\n",
       "      <td>77.861720</td>\n",
       "      <td>Corn-Oilseeds (Rapeseed)</td>\n",
       "    </tr>\n",
       "    <tr>\n",
       "      <th>2</th>\n",
       "      <td>77.502703</td>\n",
       "      <td>92.378991</td>\n",
       "      <td>84.289500</td>\n",
       "      <td>Corn-Protein crops (Beans / Peas)</td>\n",
       "    </tr>\n",
       "    <tr>\n",
       "      <th>3</th>\n",
       "      <td>88.678050</td>\n",
       "      <td>95.603496</td>\n",
       "      <td>92.010641</td>\n",
       "      <td>Corn-Soy</td>\n",
       "    </tr>\n",
       "    <tr>\n",
       "      <th>4</th>\n",
       "      <td>93.618885</td>\n",
       "      <td>95.020606</td>\n",
       "      <td>94.314538</td>\n",
       "      <td>Corn-Straw cereals (Wheat, Triticale, Barley)</td>\n",
       "    </tr>\n",
       "    <tr>\n",
       "      <th>...</th>\n",
       "      <td>...</td>\n",
       "      <td>...</td>\n",
       "      <td>...</td>\n",
       "      <td>...</td>\n",
       "    </tr>\n",
       "    <tr>\n",
       "      <th>65</th>\n",
       "      <td>35.525652</td>\n",
       "      <td>12.890625</td>\n",
       "      <td>18.917103</td>\n",
       "      <td>Vineyards-Sunflower</td>\n",
       "    </tr>\n",
       "    <tr>\n",
       "      <th>66</th>\n",
       "      <td>63.071866</td>\n",
       "      <td>99.935653</td>\n",
       "      <td>77.335428</td>\n",
       "      <td>Vineyards-Vineyards</td>\n",
       "    </tr>\n",
       "    <tr>\n",
       "      <th>67</th>\n",
       "      <td>98.931716</td>\n",
       "      <td>99.904330</td>\n",
       "      <td>99.415644</td>\n",
       "      <td>Water-Water</td>\n",
       "    </tr>\n",
       "    <tr>\n",
       "      <th>68</th>\n",
       "      <td>0.587002</td>\n",
       "      <td>5.714286</td>\n",
       "      <td>1.064639</td>\n",
       "      <td>Woody moorlands-Straw cereals (Wheat, Tritical...</td>\n",
       "    </tr>\n",
       "    <tr>\n",
       "      <th>69</th>\n",
       "      <td>41.007439</td>\n",
       "      <td>91.123361</td>\n",
       "      <td>56.561160</td>\n",
       "      <td>Woody moorlands-Woody moorlands</td>\n",
       "    </tr>\n",
       "  </tbody>\n",
       "</table>\n",
       "<p>70 rows × 4 columns</p>\n",
       "</div>"
      ],
      "text/plain": [
       "    precision     recall         f1  \\\n",
       "0   93.488833  98.020130  95.700874   \n",
       "1   67.484507  92.010309  77.861720   \n",
       "2   77.502703  92.378991  84.289500   \n",
       "3   88.678050  95.603496  92.010641   \n",
       "4   93.618885  95.020606  94.314538   \n",
       "..        ...        ...        ...   \n",
       "65  35.525652  12.890625  18.917103   \n",
       "66  63.071866  99.935653  77.335428   \n",
       "67  98.931716  99.904330  99.415644   \n",
       "68   0.587002   5.714286   1.064639   \n",
       "69  41.007439  91.123361  56.561160   \n",
       "\n",
       "                                              changes  \n",
       "0                                           Corn-Corn  \n",
       "1                            Corn-Oilseeds (Rapeseed)  \n",
       "2                   Corn-Protein crops (Beans / Peas)  \n",
       "3                                            Corn-Soy  \n",
       "4       Corn-Straw cereals (Wheat, Triticale, Barley)  \n",
       "..                                                ...  \n",
       "65                                Vineyards-Sunflower  \n",
       "66                                Vineyards-Vineyards  \n",
       "67                                        Water-Water  \n",
       "68  Woody moorlands-Straw cereals (Wheat, Tritical...  \n",
       "69                    Woody moorlands-Woody moorlands  \n",
       "\n",
       "[70 rows x 4 columns]"
      ]
     },
     "execution_count": 32,
     "metadata": {},
     "output_type": "execute_result"
    }
   ],
   "source": [
    "t"
   ]
  },
  {
   "cell_type": "code",
   "execution_count": 33,
   "id": "546b4a0b-5895-4143-b930-08ce692fe179",
   "metadata": {},
   "outputs": [],
   "source": [
    "def check_semantic_change(change_str):\n",
    "    change_str = change_str.split(\"-\")\n",
    "    if change_str[0] == change_str[1]:\n",
    "        return \"no change\"\n",
    "    else:\n",
    "        return \"change\"\n",
    "    "
   ]
  },
  {
   "cell_type": "code",
   "execution_count": 34,
   "id": "359bc3ed-197b-4085-b5ba-cd209ddff058",
   "metadata": {},
   "outputs": [],
   "source": [
    "t['cat'] = t['changes'].apply(check_semantic_change)"
   ]
  },
  {
   "cell_type": "code",
   "execution_count": 35,
   "id": "cbce66b3-4e21-469b-a292-55b3e6b2520d",
   "metadata": {},
   "outputs": [
    {
     "data": {
      "text/plain": [
       "change       55\n",
       "no change    15\n",
       "Name: cat, dtype: int64"
      ]
     },
     "execution_count": 35,
     "metadata": {},
     "output_type": "execute_result"
    }
   ],
   "source": [
    "t['cat'].value_counts()"
   ]
  },
  {
   "cell_type": "code",
   "execution_count": 36,
   "id": "f0310f2f-d8aa-4ea9-8c68-3d9e7a3a1f65",
   "metadata": {},
   "outputs": [],
   "source": [
    "t_change = t[t['cat'] == 'change'].sort_values(by=['f1'], ascending=False)"
   ]
  },
  {
   "cell_type": "code",
   "execution_count": 37,
   "id": "4f97adb1-0469-4b9e-91f2-aa66d2229db1",
   "metadata": {},
   "outputs": [
    {
     "data": {
      "text/html": [
       "<div>\n",
       "<style scoped>\n",
       "    .dataframe tbody tr th:only-of-type {\n",
       "        vertical-align: middle;\n",
       "    }\n",
       "\n",
       "    .dataframe tbody tr th {\n",
       "        vertical-align: top;\n",
       "    }\n",
       "\n",
       "    .dataframe thead th {\n",
       "        text-align: right;\n",
       "    }\n",
       "</style>\n",
       "<table border=\"1\" class=\"dataframe\">\n",
       "  <thead>\n",
       "    <tr style=\"text-align: right;\">\n",
       "      <th></th>\n",
       "      <th>precision</th>\n",
       "      <th>recall</th>\n",
       "      <th>f1</th>\n",
       "      <th>changes</th>\n",
       "      <th>cat</th>\n",
       "    </tr>\n",
       "  </thead>\n",
       "  <tbody>\n",
       "    <tr>\n",
       "      <th>56</th>\n",
       "      <td>99.165687</td>\n",
       "      <td>97.145470</td>\n",
       "      <td>98.145183</td>\n",
       "      <td>Sunflower-Straw cereals (Wheat, Triticale, Bar...</td>\n",
       "      <td>change</td>\n",
       "    </tr>\n",
       "    <tr>\n",
       "      <th>50</th>\n",
       "      <td>98.869942</td>\n",
       "      <td>96.723090</td>\n",
       "      <td>97.784734</td>\n",
       "      <td>Straw cereals (Wheat, Triticale, Barley)-Sunfl...</td>\n",
       "      <td>change</td>\n",
       "    </tr>\n",
       "    <tr>\n",
       "      <th>24</th>\n",
       "      <td>96.458345</td>\n",
       "      <td>97.815936</td>\n",
       "      <td>97.132397</td>\n",
       "      <td>Oilseeds (Rapeseed)-Straw cereals (Wheat, Trit...</td>\n",
       "      <td>change</td>\n",
       "    </tr>\n",
       "    <tr>\n",
       "      <th>46</th>\n",
       "      <td>95.856579</td>\n",
       "      <td>96.398096</td>\n",
       "      <td>96.126574</td>\n",
       "      <td>Straw cereals (Wheat, Triticale, Barley)-Oilse...</td>\n",
       "      <td>change</td>\n",
       "    </tr>\n",
       "    <tr>\n",
       "      <th>20</th>\n",
       "      <td>93.945905</td>\n",
       "      <td>97.677275</td>\n",
       "      <td>95.775261</td>\n",
       "      <td>Oilseeds (Rapeseed)-Corn</td>\n",
       "      <td>change</td>\n",
       "    </tr>\n",
       "    <tr>\n",
       "      <th>4</th>\n",
       "      <td>93.618885</td>\n",
       "      <td>95.020606</td>\n",
       "      <td>94.314538</td>\n",
       "      <td>Corn-Straw cereals (Wheat, Triticale, Barley)</td>\n",
       "      <td>change</td>\n",
       "    </tr>\n",
       "    <tr>\n",
       "      <th>5</th>\n",
       "      <td>95.072599</td>\n",
       "      <td>93.257663</td>\n",
       "      <td>94.156386</td>\n",
       "      <td>Corn-Sunflower</td>\n",
       "      <td>change</td>\n",
       "    </tr>\n",
       "    <tr>\n",
       "      <th>45</th>\n",
       "      <td>94.532172</td>\n",
       "      <td>93.102010</td>\n",
       "      <td>93.811641</td>\n",
       "      <td>Straw cereals (Wheat, Triticale, Barley)-Corn</td>\n",
       "      <td>change</td>\n",
       "    </tr>\n",
       "    <tr>\n",
       "      <th>59</th>\n",
       "      <td>86.884715</td>\n",
       "      <td>100.000000</td>\n",
       "      <td>92.982152</td>\n",
       "      <td>Tubers/roots-Corn</td>\n",
       "      <td>change</td>\n",
       "    </tr>\n",
       "    <tr>\n",
       "      <th>40</th>\n",
       "      <td>90.438692</td>\n",
       "      <td>95.159288</td>\n",
       "      <td>92.738957</td>\n",
       "      <td>Soy-Protein crops (Beans / Peas)</td>\n",
       "      <td>change</td>\n",
       "    </tr>\n",
       "    <tr>\n",
       "      <th>34</th>\n",
       "      <td>89.374586</td>\n",
       "      <td>95.338800</td>\n",
       "      <td>92.260404</td>\n",
       "      <td>Protein crops (Beans / Peas)-Straw cereals (Wh...</td>\n",
       "      <td>change</td>\n",
       "    </tr>\n",
       "    <tr>\n",
       "      <th>58</th>\n",
       "      <td>87.570919</td>\n",
       "      <td>97.326203</td>\n",
       "      <td>92.191214</td>\n",
       "      <td>Sunflower-Tubers/roots</td>\n",
       "      <td>change</td>\n",
       "    </tr>\n",
       "    <tr>\n",
       "      <th>3</th>\n",
       "      <td>88.678050</td>\n",
       "      <td>95.603496</td>\n",
       "      <td>92.010641</td>\n",
       "      <td>Corn-Soy</td>\n",
       "      <td>change</td>\n",
       "    </tr>\n",
       "    <tr>\n",
       "      <th>51</th>\n",
       "      <td>86.418155</td>\n",
       "      <td>97.690002</td>\n",
       "      <td>91.709024</td>\n",
       "      <td>Straw cereals (Wheat, Triticale, Barley)-Tuber...</td>\n",
       "      <td>change</td>\n",
       "    </tr>\n",
       "    <tr>\n",
       "      <th>42</th>\n",
       "      <td>88.213486</td>\n",
       "      <td>95.164066</td>\n",
       "      <td>91.557052</td>\n",
       "      <td>Soy-Straw cereals (Wheat, Triticale, Barley)</td>\n",
       "      <td>change</td>\n",
       "    </tr>\n",
       "    <tr>\n",
       "      <th>39</th>\n",
       "      <td>90.333227</td>\n",
       "      <td>92.328814</td>\n",
       "      <td>91.320120</td>\n",
       "      <td>Soy-Corn</td>\n",
       "      <td>change</td>\n",
       "    </tr>\n",
       "    <tr>\n",
       "      <th>48</th>\n",
       "      <td>95.731888</td>\n",
       "      <td>86.703643</td>\n",
       "      <td>90.994374</td>\n",
       "      <td>Straw cereals (Wheat, Triticale, Barley)-Soy</td>\n",
       "      <td>change</td>\n",
       "    </tr>\n",
       "    <tr>\n",
       "      <th>23</th>\n",
       "      <td>96.571430</td>\n",
       "      <td>85.786853</td>\n",
       "      <td>90.860244</td>\n",
       "      <td>Oilseeds (Rapeseed)-Soy</td>\n",
       "      <td>change</td>\n",
       "    </tr>\n",
       "    <tr>\n",
       "      <th>62</th>\n",
       "      <td>84.456494</td>\n",
       "      <td>97.096594</td>\n",
       "      <td>90.336529</td>\n",
       "      <td>Tubers/roots-Straw cereals (Wheat, Triticale, ...</td>\n",
       "      <td>change</td>\n",
       "    </tr>\n",
       "    <tr>\n",
       "      <th>6</th>\n",
       "      <td>85.168957</td>\n",
       "      <td>95.930233</td>\n",
       "      <td>90.229867</td>\n",
       "      <td>Corn-Tubers/roots</td>\n",
       "      <td>change</td>\n",
       "    </tr>\n",
       "    <tr>\n",
       "      <th>43</th>\n",
       "      <td>84.892267</td>\n",
       "      <td>93.349130</td>\n",
       "      <td>88.920076</td>\n",
       "      <td>Soy-Sunflower</td>\n",
       "      <td>change</td>\n",
       "    </tr>\n",
       "    <tr>\n",
       "      <th>22</th>\n",
       "      <td>83.615259</td>\n",
       "      <td>94.172932</td>\n",
       "      <td>88.580620</td>\n",
       "      <td>Oilseeds (Rapeseed)-Protein crops (Beans / Peas)</td>\n",
       "      <td>change</td>\n",
       "    </tr>\n",
       "    <tr>\n",
       "      <th>44</th>\n",
       "      <td>78.272485</td>\n",
       "      <td>99.805447</td>\n",
       "      <td>87.737097</td>\n",
       "      <td>Soy-Tubers/roots</td>\n",
       "      <td>change</td>\n",
       "    </tr>\n",
       "    <tr>\n",
       "      <th>52</th>\n",
       "      <td>89.628938</td>\n",
       "      <td>85.309243</td>\n",
       "      <td>87.415758</td>\n",
       "      <td>Sunflower-Corn</td>\n",
       "      <td>change</td>\n",
       "    </tr>\n",
       "    <tr>\n",
       "      <th>47</th>\n",
       "      <td>79.159118</td>\n",
       "      <td>95.128449</td>\n",
       "      <td>86.412178</td>\n",
       "      <td>Straw cereals (Wheat, Triticale, Barley)-Prote...</td>\n",
       "      <td>change</td>\n",
       "    </tr>\n",
       "    <tr>\n",
       "      <th>25</th>\n",
       "      <td>92.983152</td>\n",
       "      <td>80.481547</td>\n",
       "      <td>86.281854</td>\n",
       "      <td>Oilseeds (Rapeseed)-Sunflower</td>\n",
       "      <td>change</td>\n",
       "    </tr>\n",
       "    <tr>\n",
       "      <th>31</th>\n",
       "      <td>78.906559</td>\n",
       "      <td>92.616647</td>\n",
       "      <td>85.213670</td>\n",
       "      <td>Protein crops (Beans / Peas)-Corn</td>\n",
       "      <td>change</td>\n",
       "    </tr>\n",
       "    <tr>\n",
       "      <th>54</th>\n",
       "      <td>87.833796</td>\n",
       "      <td>82.450960</td>\n",
       "      <td>85.057300</td>\n",
       "      <td>Sunflower-Protein crops (Beans / Peas)</td>\n",
       "      <td>change</td>\n",
       "    </tr>\n",
       "    <tr>\n",
       "      <th>2</th>\n",
       "      <td>77.502703</td>\n",
       "      <td>92.378991</td>\n",
       "      <td>84.289500</td>\n",
       "      <td>Corn-Protein crops (Beans / Peas)</td>\n",
       "      <td>change</td>\n",
       "    </tr>\n",
       "    <tr>\n",
       "      <th>26</th>\n",
       "      <td>72.455380</td>\n",
       "      <td>97.584541</td>\n",
       "      <td>83.163118</td>\n",
       "      <td>Oilseeds (Rapeseed)-Tubers/roots</td>\n",
       "      <td>change</td>\n",
       "    </tr>\n",
       "    <tr>\n",
       "      <th>55</th>\n",
       "      <td>89.377589</td>\n",
       "      <td>77.221103</td>\n",
       "      <td>82.855825</td>\n",
       "      <td>Sunflower-Soy</td>\n",
       "      <td>change</td>\n",
       "    </tr>\n",
       "    <tr>\n",
       "      <th>35</th>\n",
       "      <td>73.026064</td>\n",
       "      <td>90.150719</td>\n",
       "      <td>80.689815</td>\n",
       "      <td>Protein crops (Beans / Peas)-Sunflower</td>\n",
       "      <td>change</td>\n",
       "    </tr>\n",
       "    <tr>\n",
       "      <th>1</th>\n",
       "      <td>67.484507</td>\n",
       "      <td>92.010309</td>\n",
       "      <td>77.861720</td>\n",
       "      <td>Corn-Oilseeds (Rapeseed)</td>\n",
       "      <td>change</td>\n",
       "    </tr>\n",
       "    <tr>\n",
       "      <th>33</th>\n",
       "      <td>62.540184</td>\n",
       "      <td>97.085871</td>\n",
       "      <td>76.074902</td>\n",
       "      <td>Protein crops (Beans / Peas)-Soy</td>\n",
       "      <td>change</td>\n",
       "    </tr>\n",
       "    <tr>\n",
       "      <th>32</th>\n",
       "      <td>67.096545</td>\n",
       "      <td>83.066132</td>\n",
       "      <td>74.232167</td>\n",
       "      <td>Protein crops (Beans / Peas)-Oilseeds (Rapeseed)</td>\n",
       "      <td>change</td>\n",
       "    </tr>\n",
       "    <tr>\n",
       "      <th>53</th>\n",
       "      <td>84.431932</td>\n",
       "      <td>52.734375</td>\n",
       "      <td>64.920683</td>\n",
       "      <td>Sunflower-Oilseeds (Rapeseed)</td>\n",
       "      <td>change</td>\n",
       "    </tr>\n",
       "    <tr>\n",
       "      <th>9</th>\n",
       "      <td>96.860309</td>\n",
       "      <td>44.056399</td>\n",
       "      <td>60.565088</td>\n",
       "      <td>Diffuse built-up area-Diffuse built-up area</td>\n",
       "      <td>change</td>\n",
       "    </tr>\n",
       "    <tr>\n",
       "      <th>60</th>\n",
       "      <td>38.271605</td>\n",
       "      <td>93.548387</td>\n",
       "      <td>54.320242</td>\n",
       "      <td>Tubers/roots-Oilseeds (Rapeseed)</td>\n",
       "      <td>change</td>\n",
       "    </tr>\n",
       "    <tr>\n",
       "      <th>28</th>\n",
       "      <td>60.488491</td>\n",
       "      <td>38.418079</td>\n",
       "      <td>46.990845</td>\n",
       "      <td>Orchards and fruit growing-Soy</td>\n",
       "      <td>change</td>\n",
       "    </tr>\n",
       "    <tr>\n",
       "      <th>29</th>\n",
       "      <td>43.750000</td>\n",
       "      <td>50.000000</td>\n",
       "      <td>46.666667</td>\n",
       "      <td>Orchards and fruit growing-Straw cereals (Whea...</td>\n",
       "      <td>change</td>\n",
       "    </tr>\n",
       "    <tr>\n",
       "      <th>61</th>\n",
       "      <td>26.390870</td>\n",
       "      <td>100.000000</td>\n",
       "      <td>41.760722</td>\n",
       "      <td>Tubers/roots-Soy</td>\n",
       "      <td>change</td>\n",
       "    </tr>\n",
       "    <tr>\n",
       "      <th>30</th>\n",
       "      <td>79.708599</td>\n",
       "      <td>27.348643</td>\n",
       "      <td>40.724419</td>\n",
       "      <td>Orchards and fruit growing-Sunflower</td>\n",
       "      <td>change</td>\n",
       "    </tr>\n",
       "    <tr>\n",
       "      <th>15</th>\n",
       "      <td>85.533832</td>\n",
       "      <td>21.806982</td>\n",
       "      <td>34.753504</td>\n",
       "      <td>Grasslands-Sunflower</td>\n",
       "      <td>change</td>\n",
       "    </tr>\n",
       "    <tr>\n",
       "      <th>12</th>\n",
       "      <td>83.144369</td>\n",
       "      <td>14.204545</td>\n",
       "      <td>24.263814</td>\n",
       "      <td>Grasslands-Corn</td>\n",
       "      <td>change</td>\n",
       "    </tr>\n",
       "    <tr>\n",
       "      <th>7</th>\n",
       "      <td>12.582224</td>\n",
       "      <td>97.416083</td>\n",
       "      <td>22.285998</td>\n",
       "      <td>Dense built-up area-Dense built-up area</td>\n",
       "      <td>change</td>\n",
       "    </tr>\n",
       "    <tr>\n",
       "      <th>36</th>\n",
       "      <td>12.371351</td>\n",
       "      <td>81.578947</td>\n",
       "      <td>21.484589</td>\n",
       "      <td>Protein crops (Beans / Peas)-Tubers/roots</td>\n",
       "      <td>change</td>\n",
       "    </tr>\n",
       "    <tr>\n",
       "      <th>65</th>\n",
       "      <td>35.525652</td>\n",
       "      <td>12.890625</td>\n",
       "      <td>18.917103</td>\n",
       "      <td>Vineyards-Sunflower</td>\n",
       "      <td>change</td>\n",
       "    </tr>\n",
       "    <tr>\n",
       "      <th>63</th>\n",
       "      <td>15.254237</td>\n",
       "      <td>11.111111</td>\n",
       "      <td>12.857143</td>\n",
       "      <td>Tubers/roots-Sunflower</td>\n",
       "      <td>change</td>\n",
       "    </tr>\n",
       "    <tr>\n",
       "      <th>14</th>\n",
       "      <td>97.795900</td>\n",
       "      <td>1.397341</td>\n",
       "      <td>2.755312</td>\n",
       "      <td>Grasslands-Straw cereals (Wheat, Triticale, Ba...</td>\n",
       "      <td>change</td>\n",
       "    </tr>\n",
       "    <tr>\n",
       "      <th>10</th>\n",
       "      <td>46.611962</td>\n",
       "      <td>0.907441</td>\n",
       "      <td>1.780225</td>\n",
       "      <td>Diffuse built-up area-Straw cereals (Wheat, Tr...</td>\n",
       "      <td>change</td>\n",
       "    </tr>\n",
       "    <tr>\n",
       "      <th>64</th>\n",
       "      <td>2.008288</td>\n",
       "      <td>0.793651</td>\n",
       "      <td>1.137698</td>\n",
       "      <td>Vineyards-Corn</td>\n",
       "      <td>change</td>\n",
       "    </tr>\n",
       "    <tr>\n",
       "      <th>68</th>\n",
       "      <td>0.587002</td>\n",
       "      <td>5.714286</td>\n",
       "      <td>1.064639</td>\n",
       "      <td>Woody moorlands-Straw cereals (Wheat, Tritical...</td>\n",
       "      <td>change</td>\n",
       "    </tr>\n",
       "    <tr>\n",
       "      <th>11</th>\n",
       "      <td>20.869626</td>\n",
       "      <td>0.458098</td>\n",
       "      <td>0.896516</td>\n",
       "      <td>Diffuse built-up area-Sunflower</td>\n",
       "      <td>change</td>\n",
       "    </tr>\n",
       "    <tr>\n",
       "      <th>18</th>\n",
       "      <td>2.124458</td>\n",
       "      <td>0.212465</td>\n",
       "      <td>0.386296</td>\n",
       "      <td>Industrial and commercial areas-Sunflower</td>\n",
       "      <td>change</td>\n",
       "    </tr>\n",
       "    <tr>\n",
       "      <th>8</th>\n",
       "      <td>3.983140</td>\n",
       "      <td>0.105820</td>\n",
       "      <td>0.206163</td>\n",
       "      <td>Diffuse built-up area-Corn</td>\n",
       "      <td>change</td>\n",
       "    </tr>\n",
       "  </tbody>\n",
       "</table>\n",
       "</div>"
      ],
      "text/plain": [
       "    precision      recall         f1  \\\n",
       "56  99.165687   97.145470  98.145183   \n",
       "50  98.869942   96.723090  97.784734   \n",
       "24  96.458345   97.815936  97.132397   \n",
       "46  95.856579   96.398096  96.126574   \n",
       "20  93.945905   97.677275  95.775261   \n",
       "4   93.618885   95.020606  94.314538   \n",
       "5   95.072599   93.257663  94.156386   \n",
       "45  94.532172   93.102010  93.811641   \n",
       "59  86.884715  100.000000  92.982152   \n",
       "40  90.438692   95.159288  92.738957   \n",
       "34  89.374586   95.338800  92.260404   \n",
       "58  87.570919   97.326203  92.191214   \n",
       "3   88.678050   95.603496  92.010641   \n",
       "51  86.418155   97.690002  91.709024   \n",
       "42  88.213486   95.164066  91.557052   \n",
       "39  90.333227   92.328814  91.320120   \n",
       "48  95.731888   86.703643  90.994374   \n",
       "23  96.571430   85.786853  90.860244   \n",
       "62  84.456494   97.096594  90.336529   \n",
       "6   85.168957   95.930233  90.229867   \n",
       "43  84.892267   93.349130  88.920076   \n",
       "22  83.615259   94.172932  88.580620   \n",
       "44  78.272485   99.805447  87.737097   \n",
       "52  89.628938   85.309243  87.415758   \n",
       "47  79.159118   95.128449  86.412178   \n",
       "25  92.983152   80.481547  86.281854   \n",
       "31  78.906559   92.616647  85.213670   \n",
       "54  87.833796   82.450960  85.057300   \n",
       "2   77.502703   92.378991  84.289500   \n",
       "26  72.455380   97.584541  83.163118   \n",
       "55  89.377589   77.221103  82.855825   \n",
       "35  73.026064   90.150719  80.689815   \n",
       "1   67.484507   92.010309  77.861720   \n",
       "33  62.540184   97.085871  76.074902   \n",
       "32  67.096545   83.066132  74.232167   \n",
       "53  84.431932   52.734375  64.920683   \n",
       "9   96.860309   44.056399  60.565088   \n",
       "60  38.271605   93.548387  54.320242   \n",
       "28  60.488491   38.418079  46.990845   \n",
       "29  43.750000   50.000000  46.666667   \n",
       "61  26.390870  100.000000  41.760722   \n",
       "30  79.708599   27.348643  40.724419   \n",
       "15  85.533832   21.806982  34.753504   \n",
       "12  83.144369   14.204545  24.263814   \n",
       "7   12.582224   97.416083  22.285998   \n",
       "36  12.371351   81.578947  21.484589   \n",
       "65  35.525652   12.890625  18.917103   \n",
       "63  15.254237   11.111111  12.857143   \n",
       "14  97.795900    1.397341   2.755312   \n",
       "10  46.611962    0.907441   1.780225   \n",
       "64   2.008288    0.793651   1.137698   \n",
       "68   0.587002    5.714286   1.064639   \n",
       "11  20.869626    0.458098   0.896516   \n",
       "18   2.124458    0.212465   0.386296   \n",
       "8    3.983140    0.105820   0.206163   \n",
       "\n",
       "                                              changes     cat  \n",
       "56  Sunflower-Straw cereals (Wheat, Triticale, Bar...  change  \n",
       "50  Straw cereals (Wheat, Triticale, Barley)-Sunfl...  change  \n",
       "24  Oilseeds (Rapeseed)-Straw cereals (Wheat, Trit...  change  \n",
       "46  Straw cereals (Wheat, Triticale, Barley)-Oilse...  change  \n",
       "20                           Oilseeds (Rapeseed)-Corn  change  \n",
       "4       Corn-Straw cereals (Wheat, Triticale, Barley)  change  \n",
       "5                                      Corn-Sunflower  change  \n",
       "45      Straw cereals (Wheat, Triticale, Barley)-Corn  change  \n",
       "59                                  Tubers/roots-Corn  change  \n",
       "40                   Soy-Protein crops (Beans / Peas)  change  \n",
       "34  Protein crops (Beans / Peas)-Straw cereals (Wh...  change  \n",
       "58                             Sunflower-Tubers/roots  change  \n",
       "3                                            Corn-Soy  change  \n",
       "51  Straw cereals (Wheat, Triticale, Barley)-Tuber...  change  \n",
       "42       Soy-Straw cereals (Wheat, Triticale, Barley)  change  \n",
       "39                                           Soy-Corn  change  \n",
       "48       Straw cereals (Wheat, Triticale, Barley)-Soy  change  \n",
       "23                            Oilseeds (Rapeseed)-Soy  change  \n",
       "62  Tubers/roots-Straw cereals (Wheat, Triticale, ...  change  \n",
       "6                                   Corn-Tubers/roots  change  \n",
       "43                                      Soy-Sunflower  change  \n",
       "22   Oilseeds (Rapeseed)-Protein crops (Beans / Peas)  change  \n",
       "44                                   Soy-Tubers/roots  change  \n",
       "52                                     Sunflower-Corn  change  \n",
       "47  Straw cereals (Wheat, Triticale, Barley)-Prote...  change  \n",
       "25                      Oilseeds (Rapeseed)-Sunflower  change  \n",
       "31                  Protein crops (Beans / Peas)-Corn  change  \n",
       "54             Sunflower-Protein crops (Beans / Peas)  change  \n",
       "2                   Corn-Protein crops (Beans / Peas)  change  \n",
       "26                   Oilseeds (Rapeseed)-Tubers/roots  change  \n",
       "55                                      Sunflower-Soy  change  \n",
       "35             Protein crops (Beans / Peas)-Sunflower  change  \n",
       "1                            Corn-Oilseeds (Rapeseed)  change  \n",
       "33                   Protein crops (Beans / Peas)-Soy  change  \n",
       "32   Protein crops (Beans / Peas)-Oilseeds (Rapeseed)  change  \n",
       "53                      Sunflower-Oilseeds (Rapeseed)  change  \n",
       "9         Diffuse built-up area-Diffuse built-up area  change  \n",
       "60                   Tubers/roots-Oilseeds (Rapeseed)  change  \n",
       "28                     Orchards and fruit growing-Soy  change  \n",
       "29  Orchards and fruit growing-Straw cereals (Whea...  change  \n",
       "61                                   Tubers/roots-Soy  change  \n",
       "30               Orchards and fruit growing-Sunflower  change  \n",
       "15                               Grasslands-Sunflower  change  \n",
       "12                                    Grasslands-Corn  change  \n",
       "7             Dense built-up area-Dense built-up area  change  \n",
       "36          Protein crops (Beans / Peas)-Tubers/roots  change  \n",
       "65                                Vineyards-Sunflower  change  \n",
       "63                             Tubers/roots-Sunflower  change  \n",
       "14  Grasslands-Straw cereals (Wheat, Triticale, Ba...  change  \n",
       "10  Diffuse built-up area-Straw cereals (Wheat, Tr...  change  \n",
       "64                                     Vineyards-Corn  change  \n",
       "68  Woody moorlands-Straw cereals (Wheat, Tritical...  change  \n",
       "11                    Diffuse built-up area-Sunflower  change  \n",
       "18          Industrial and commercial areas-Sunflower  change  \n",
       "8                          Diffuse built-up area-Corn  change  "
      ]
     },
     "execution_count": 37,
     "metadata": {},
     "output_type": "execute_result"
    }
   ],
   "source": [
    "t_change"
   ]
  },
  {
   "cell_type": "code",
   "execution_count": 38,
   "id": "6d6297f1-df06-47eb-90d1-b023da47a7bd",
   "metadata": {},
   "outputs": [],
   "source": [
    "t_nochange = t[t['cat'] == 'no change'].sort_values(by=['f1'], ascending=False)"
   ]
  },
  {
   "cell_type": "code",
   "execution_count": 39,
   "id": "f78da238-5923-46a6-a01b-5169290a6751",
   "metadata": {},
   "outputs": [
    {
     "data": {
      "text/html": [
       "<div>\n",
       "<style scoped>\n",
       "    .dataframe tbody tr th:only-of-type {\n",
       "        vertical-align: middle;\n",
       "    }\n",
       "\n",
       "    .dataframe tbody tr th {\n",
       "        vertical-align: top;\n",
       "    }\n",
       "\n",
       "    .dataframe thead th {\n",
       "        text-align: right;\n",
       "    }\n",
       "</style>\n",
       "<table border=\"1\" class=\"dataframe\">\n",
       "  <thead>\n",
       "    <tr style=\"text-align: right;\">\n",
       "      <th></th>\n",
       "      <th>precision</th>\n",
       "      <th>recall</th>\n",
       "      <th>f1</th>\n",
       "      <th>changes</th>\n",
       "      <th>cat</th>\n",
       "    </tr>\n",
       "  </thead>\n",
       "  <tbody>\n",
       "    <tr>\n",
       "      <th>67</th>\n",
       "      <td>98.931716</td>\n",
       "      <td>99.904330</td>\n",
       "      <td>99.415644</td>\n",
       "      <td>Water-Water</td>\n",
       "      <td>no change</td>\n",
       "    </tr>\n",
       "    <tr>\n",
       "      <th>0</th>\n",
       "      <td>93.488833</td>\n",
       "      <td>98.020130</td>\n",
       "      <td>95.700874</td>\n",
       "      <td>Corn-Corn</td>\n",
       "      <td>no change</td>\n",
       "    </tr>\n",
       "    <tr>\n",
       "      <th>16</th>\n",
       "      <td>96.498715</td>\n",
       "      <td>93.692664</td>\n",
       "      <td>95.074989</td>\n",
       "      <td>Hardwood forest-Hardwood forest</td>\n",
       "      <td>no change</td>\n",
       "    </tr>\n",
       "    <tr>\n",
       "      <th>41</th>\n",
       "      <td>90.215872</td>\n",
       "      <td>96.837583</td>\n",
       "      <td>93.409523</td>\n",
       "      <td>Soy-Soy</td>\n",
       "      <td>no change</td>\n",
       "    </tr>\n",
       "    <tr>\n",
       "      <th>38</th>\n",
       "      <td>85.679214</td>\n",
       "      <td>96.729708</td>\n",
       "      <td>90.869737</td>\n",
       "      <td>Softwood forest-Softwood forest</td>\n",
       "      <td>no change</td>\n",
       "    </tr>\n",
       "    <tr>\n",
       "      <th>27</th>\n",
       "      <td>79.814496</td>\n",
       "      <td>99.812229</td>\n",
       "      <td>88.700195</td>\n",
       "      <td>Orchards and fruit growing-Orchards and fruit ...</td>\n",
       "      <td>no change</td>\n",
       "    </tr>\n",
       "    <tr>\n",
       "      <th>13</th>\n",
       "      <td>83.458372</td>\n",
       "      <td>92.534006</td>\n",
       "      <td>87.762181</td>\n",
       "      <td>Grasslands-Grasslands</td>\n",
       "      <td>no change</td>\n",
       "    </tr>\n",
       "    <tr>\n",
       "      <th>37</th>\n",
       "      <td>69.735723</td>\n",
       "      <td>97.855316</td>\n",
       "      <td>81.436469</td>\n",
       "      <td>Roads-Roads</td>\n",
       "      <td>no change</td>\n",
       "    </tr>\n",
       "    <tr>\n",
       "      <th>17</th>\n",
       "      <td>68.623238</td>\n",
       "      <td>94.433259</td>\n",
       "      <td>79.485530</td>\n",
       "      <td>Industrial and commercial areas-Industrial and...</td>\n",
       "      <td>no change</td>\n",
       "    </tr>\n",
       "    <tr>\n",
       "      <th>66</th>\n",
       "      <td>63.071866</td>\n",
       "      <td>99.935653</td>\n",
       "      <td>77.335428</td>\n",
       "      <td>Vineyards-Vineyards</td>\n",
       "      <td>no change</td>\n",
       "    </tr>\n",
       "    <tr>\n",
       "      <th>49</th>\n",
       "      <td>98.714959</td>\n",
       "      <td>62.464634</td>\n",
       "      <td>76.513331</td>\n",
       "      <td>Straw cereals (Wheat, Triticale, Barley)-Straw...</td>\n",
       "      <td>no change</td>\n",
       "    </tr>\n",
       "    <tr>\n",
       "      <th>57</th>\n",
       "      <td>79.818719</td>\n",
       "      <td>63.181186</td>\n",
       "      <td>70.532093</td>\n",
       "      <td>Sunflower-Sunflower</td>\n",
       "      <td>no change</td>\n",
       "    </tr>\n",
       "    <tr>\n",
       "      <th>19</th>\n",
       "      <td>57.283093</td>\n",
       "      <td>91.078976</td>\n",
       "      <td>70.331797</td>\n",
       "      <td>Natural grasslands and pastures-Natural grassl...</td>\n",
       "      <td>no change</td>\n",
       "    </tr>\n",
       "    <tr>\n",
       "      <th>69</th>\n",
       "      <td>41.007439</td>\n",
       "      <td>91.123361</td>\n",
       "      <td>56.561160</td>\n",
       "      <td>Woody moorlands-Woody moorlands</td>\n",
       "      <td>no change</td>\n",
       "    </tr>\n",
       "    <tr>\n",
       "      <th>21</th>\n",
       "      <td>17.652172</td>\n",
       "      <td>49.650350</td>\n",
       "      <td>26.044686</td>\n",
       "      <td>Oilseeds (Rapeseed)-Oilseeds (Rapeseed)</td>\n",
       "      <td>no change</td>\n",
       "    </tr>\n",
       "  </tbody>\n",
       "</table>\n",
       "</div>"
      ],
      "text/plain": [
       "    precision     recall         f1  \\\n",
       "67  98.931716  99.904330  99.415644   \n",
       "0   93.488833  98.020130  95.700874   \n",
       "16  96.498715  93.692664  95.074989   \n",
       "41  90.215872  96.837583  93.409523   \n",
       "38  85.679214  96.729708  90.869737   \n",
       "27  79.814496  99.812229  88.700195   \n",
       "13  83.458372  92.534006  87.762181   \n",
       "37  69.735723  97.855316  81.436469   \n",
       "17  68.623238  94.433259  79.485530   \n",
       "66  63.071866  99.935653  77.335428   \n",
       "49  98.714959  62.464634  76.513331   \n",
       "57  79.818719  63.181186  70.532093   \n",
       "19  57.283093  91.078976  70.331797   \n",
       "69  41.007439  91.123361  56.561160   \n",
       "21  17.652172  49.650350  26.044686   \n",
       "\n",
       "                                              changes        cat  \n",
       "67                                        Water-Water  no change  \n",
       "0                                           Corn-Corn  no change  \n",
       "16                    Hardwood forest-Hardwood forest  no change  \n",
       "41                                            Soy-Soy  no change  \n",
       "38                    Softwood forest-Softwood forest  no change  \n",
       "27  Orchards and fruit growing-Orchards and fruit ...  no change  \n",
       "13                              Grasslands-Grasslands  no change  \n",
       "37                                        Roads-Roads  no change  \n",
       "17  Industrial and commercial areas-Industrial and...  no change  \n",
       "66                                Vineyards-Vineyards  no change  \n",
       "49  Straw cereals (Wheat, Triticale, Barley)-Straw...  no change  \n",
       "57                                Sunflower-Sunflower  no change  \n",
       "19  Natural grasslands and pastures-Natural grassl...  no change  \n",
       "69                    Woody moorlands-Woody moorlands  no change  \n",
       "21            Oilseeds (Rapeseed)-Oilseeds (Rapeseed)  no change  "
      ]
     },
     "execution_count": 39,
     "metadata": {},
     "output_type": "execute_result"
    }
   ],
   "source": [
    "t_nochange"
   ]
  },
  {
   "cell_type": "code",
   "execution_count": 84,
   "id": "3ed2a137-d01f-4bc9-b4c6-f38afe72fdb7",
   "metadata": {},
   "outputs": [
    {
     "data": {
      "image/png": "[encoded data removed]",
      "text/plain": [
       "<Figure size 720x360 with 1 Axes>"
      ]
     },
     "metadata": {
      "needs_background": "light"
     },
     "output_type": "display_data"
    }
   ],
   "source": [
    "# t_nochange.plot.bar(rot=0, figsize=(10,5), fontsize=10, color=['gray', '#1F77B4', '#FF7F0E'])\n",
    "# plt.xticks(range(len(t_nochange)), t_nochange['changes'], rotation=90)\n",
    "# plt.title('No-change in semantic class')\n",
    "# # plt.savefig(\"./charts/semantic-nochange.png\", dpi=3000)\n",
    "# plt.show()"
   ]
  },
  {
   "cell_type": "code",
   "execution_count": 57,
   "id": "d51a3b5f-127c-4ab7-bbb6-99128c22eb07",
   "metadata": {},
   "outputs": [
    {
     "data": {
      "image/png": "[encoded data removed]",
      "text/plain": [
       "<Figure size 720x360 with 1 Axes>"
      ]
     },
     "metadata": {
      "needs_background": "light"
     },
     "output_type": "display_data"
    },
    {
     "data": {
      "image/png": "[encoded data removed]",
      "text/plain": [
       "<Figure size 720x360 with 1 Axes>"
      ]
     },
     "metadata": {
      "needs_background": "light"
     },
     "output_type": "display_data"
    },
    {
     "data": {
      "image/png": "[encoded data removed]",
      "text/plain": [
       "<Figure size 720x360 with 1 Axes>"
      ]
     },
     "metadata": {
      "needs_background": "light"
     },
     "output_type": "display_data"
    },
    {
     "data": {
      "image/png": "[encoded data removed]",
      "text/plain": [
       "<Figure size 720x360 with 1 Axes>"
      ]
     },
     "metadata": {
      "needs_background": "light"
     },
     "output_type": "display_data"
    }
   ],
   "source": [
    "start = 0\n",
    "stop = len(t_change)\n",
    "interval = 15\n",
    "\n",
    "for i in range(start, stop, interval):\n",
    "    # print(t_change[i:(i +interval)])\n",
    "    t_change[i:(i + interval)].plot.bar(rot=0, figsize=(10,5), fontsize=10, color=['gray', '#1F77B4', '#FF7F0E'])\n",
    "    plt.xticks(range(len(t_change.iloc[:15,-2])), t_change.iloc[:15,-2], rotation=90)\n",
    "    plt.title('Change in semantic class (first fifteen by fscore)')\n",
    "    # plt.savefig(\"./charts/semantic-change.png\", dpi=3000)\n",
    "    plt.show()"
   ]
  },
  {
   "cell_type": "code",
   "execution_count": 88,
   "id": "b10c7687-5daa-41b2-ac5d-098cfc8618cb",
   "metadata": {},
   "outputs": [
    {
     "data": {
      "image/png": "[encoded data removed]",
      "text/plain": [
       "<Figure size 720x360 with 1 Axes>"
      ]
     },
     "metadata": {
      "needs_background": "light"
     },
     "output_type": "display_data"
    }
   ],
   "source": [
    "t_change.iloc[:15, :].plot.bar(rot=0, figsize=(10,5), fontsize=10, color=['gray', '#1F77B4', '#FF7F0E'])\n",
    "plt.xticks(range(len(t_change.iloc[:15,-2])), t_change.iloc[:15,-2], rotation=90)\n",
    "plt.title('Change in semantic class (first fifteen by fscore)')\n",
    "# plt.savefig(\"./charts/semantic-change.png\", dpi=3000)\n",
    "plt.show()"
   ]
  },
  {
   "cell_type": "code",
   "execution_count": 60,
   "id": "eecc0387-3bff-4f9a-9852-03a25f89a3ec",
   "metadata": {},
   "outputs": [
    {
     "data": {
      "text/plain": [
       "15"
      ]
     },
     "execution_count": 60,
     "metadata": {},
     "output_type": "execute_result"
    }
   ],
   "source": [
    "len(t_change.iloc[:15, -2])"
   ]
  },
  {
   "cell_type": "code",
   "execution_count": 31,
   "id": "9eec150f-fbec-441a-87e9-77a90887baa1",
   "metadata": {},
   "outputs": [],
   "source": [
    "t.to_csv('t.csv')"
   ]
  },
  {
   "cell_type": "code",
   "execution_count": 32,
   "id": "079b4a5f-ddac-4e9c-b0e9-517ec3e56c71",
   "metadata": {},
   "outputs": [],
   "source": [
    "t = t.sort_values('f1', ascending=False)"
   ]
  },
  {
   "cell_type": "code",
   "execution_count": 33,
   "id": "ecbe889b-d603-47fa-96c9-b7fc94a73f0e",
   "metadata": {},
   "outputs": [],
   "source": [
    "t.to_csv('t_sort.csv')"
   ]
  },
  {
   "cell_type": "code",
   "execution_count": 114,
   "id": "96b4cfeb-e3d9-425a-8977-9a0f883f2cbb",
   "metadata": {},
   "outputs": [],
   "source": [
    "# cm_group = cm.groupby('f1')"
   ]
  },
  {
   "cell_type": "code",
   "execution_count": 115,
   "id": "31566db8-ee84-4fd4-b525-77bf697e1f3c",
   "metadata": {},
   "outputs": [],
   "source": [
    "# cm_group.boxplot()"
   ]
  },
  {
   "cell_type": "code",
   "execution_count": 118,
   "id": "be7b920e-4c1b-48d0-9a58-e0c66310e90b",
   "metadata": {},
   "outputs": [],
   "source": [
    "# prec"
   ]
  },
  {
   "cell_type": "code",
   "execution_count": null,
   "id": "e70fd314-5af2-4bc4-b104-5bfb1c0412d3",
   "metadata": {},
   "outputs": [],
   "source": []
  }
 ],
 "metadata": {
  "kernelspec": {
   "display_name": "Python 3",
   "language": "python",
   "name": "python3"
  },
  "language_info": {
   "codemirror_mode": {
    "name": "ipython",
    "version": 3
   },
   "file_extension": ".py",
   "mimetype": "text/x-python",
   "name": "python",
   "nbconvert_exporter": "python",
   "pygments_lexer": "ipython3",
   "version": "3.7.1"
  }
 },
 "nbformat": 4,
 "nbformat_minor": 5
}
