{
 "cells": [
  {
   "cell_type": "code",
   "execution_count": 5,
   "id": "4388ee9b-cc0f-4f37-b58e-b7895fa711af",
   "metadata": {},
   "outputs": [],
   "source": [
    "import rasterio\n",
    "import numpy as np\n",
    "import pandas as pd\n",
    "import matplotlib.pyplot as plt\n",
    "# from sklearn.metrics import confusion_matrix\n",
    "# # from sklearn.metrics import precision_recall_curve\n",
    "# from sklearn.metrics import precision_score\n",
    "# from sklearn.metrics import average_precision_score\n",
    "# from sklearn.metrics import recall_score\n",
    "from sklearn.metrics import f1_score \n",
    "# from sklearn.metrics import roc_curve\n",
    "# from sklearn.metrics import auc\n",
    "from skimage.filters import threshold_otsu\n",
    "similarity_case_1_p = '../../../results/RF/simliarity_measure/case_1_ref_mask_similarity_measure.tif'\n",
    "similarity_case_2_p = '../../../results/RF/simliarity_measure/case_2_ref_mask_similarity_measure.tif'\n",
    "similarity_case_3_p = '../../../results/RF/simliarity_measure/case_3_ref_mask_similarity_measure.tif'\n",
    "\n",
    "gt_source_path  = '../../../data/rasterized_samples/2018_rasterizedImage.tif'\n",
    "gt_target_path = '../../../data/rasterized_samples/2019_rasterizedImage.tif'"
   ]
  },
  {
   "cell_type": "code",
   "execution_count": 8,
   "id": "074a1557-aba2-4a5c-b9c2-f4814af6e121",
   "metadata": {},
   "outputs": [],
   "source": [
    "with rasterio.open(similarity_case_1_p) as src:\n",
    "    similarity_array = src.read(1)\n",
    "    profile = src.profile\n",
    "    profile['nodata'] = 0.0\n",
    "    \n",
    "gt_source_ = rasterio.open(gt_source_path).read(1)\n",
    "gt_target_ = rasterio.open(gt_target_path).read(1)\n",
    "\n",
    "# get gt mask (where there are value) and binary (change/no-chnage)\n",
    "gt_mask = (gt_source_ != 0) & (gt_target_ != 0)\n",
    "gt_binary = np.where(gt_mask, np.where(gt_source_ == gt_target_, 1, 2), 0) # gt change/no-change\n",
    "gt_binary_mask = np.ma.masked_array(gt_binary, mask=True)\n",
    "gt_binary_mask.mask[gt_binary_mask.data != 0] = False # mask all non-zero mask\n",
    "gt_binary_ = gt_binary_mask.compressed() # gt_binary with nodata value (0)\n",
    "gt_binary_[gt_binary_ == 1] = 0 # No-change\n",
    "gt_binary_[gt_binary_ == 2] = 1 # Change\n",
    "    \n",
    "# mask similarity map \n",
    "similarity_mask = np.ma.masked_array(similarity_array, mask= True)\n",
    "similarity_mask.mask[gt_binary_mask.data != 0] = False # extract according to the non-zero from ground truth data\n",
    "similarity_ = similarity_mask.compressed()\n",
    "threshold = threshold_otsu(similarity_)\n",
    "otsu_binary = similarity_ > threshold\n",
    "\n",
    "fscore = f1_score(gt_binary_, otsu_binary)"
   ]
  },
  {
   "cell_type": "code",
   "execution_count": 9,
   "id": "455fe33c-c777-47b4-a3b7-28ce5c52445a",
   "metadata": {},
   "outputs": [
    {
     "data": {
      "text/plain": [
       "0.9781685350118365"
      ]
     },
     "execution_count": 9,
     "metadata": {},
     "output_type": "execute_result"
    }
   ],
   "source": [
    "fscore"
   ]
  },
  {
   "cell_type": "code",
   "execution_count": 6,
   "id": "c317a61d-484e-4206-a6a0-4a077353b26f",
   "metadata": {},
   "outputs": [],
   "source": [
    "\n",
    "\n"
   ]
  },
  {
   "cell_type": "code",
   "execution_count": 1,
   "id": "a7b62298-e954-47d2-8ffd-94f4b97a6a49",
   "metadata": {},
   "outputs": [],
   "source": [
    "# plt.figure(figsize=(18,10))\n",
    "# plt.imshow(binary)\n",
    "# plt.show()"
   ]
  },
  {
   "cell_type": "code",
   "execution_count": null,
   "id": "ae8595d9-da54-49e6-8a2c-fb5272770139",
   "metadata": {},
   "outputs": [],
   "source": [
    "# groud truth binary\n",
    "gt_mask_nodata = (gt_source != 0) & (gt_target != 0)\n",
    "gt_binary = np.where(gt_mask_nodata, np.where(gt_source == gt_target, 1, 2), 0) # reference binary change \n",
    "gt_binary_mask = np.ma.masked_array(gt_binary, mask=True) # returns all true mask\n",
    "gt_binary_mask.mask[gt_binary_mask.data != 0] = False # mask all non-zero mask\n",
    "gt_binary_= gt_binary_mask.compressed()\n",
    "gt_binary_[gt_binary_== 1] = 0 # No-change\n",
    "gt_binary_[gt_binary_== 2] = 1 # Change"
   ]
  },
  {
   "cell_type": "code",
   "execution_count": null,
   "id": "7610f994-d06f-46e7-be0c-31355cccb59f",
   "metadata": {},
   "outputs": [
    {
     "name": "stdout",
     "output_type": "stream",
     "text": [
      "2\n",
      "0\n",
      "[0 1 2]\n",
      "[0 1]\n"
     ]
    }
   ],
   "source": [
    "print(gt_binary.max())\n",
    "print(gt_binary.min())\n",
    "print(np.unique(gt_binary))\n",
    "print(np.unique(gt_binary_))"
   ]
  },
  {
   "cell_type": "code",
   "execution_count": null,
   "id": "2ec6bbf5-552b-46f5-8497-4ba537bd07c3",
   "metadata": {},
   "outputs": [],
   "source": [
    "similarity_mask = np.ma.masked_array(similarity_array, mask= True)\n",
    "similarity_mask.mask[gt_binary_mask.data != 0] = False # extract according to the non-zero from ground truth data\n",
    "similarity_ = similarity_mask.compressed()"
   ]
  },
  {
   "cell_type": "code",
   "execution_count": null,
   "id": "0bc727fc-764e-4160-adce-2b30bb8a5862",
   "metadata": {
    "tags": []
   },
   "outputs": [
    {
     "name": "stdout",
     "output_type": "stream",
     "text": [
      "0.0\n",
      "1.4130859\n"
     ]
    }
   ],
   "source": [
    "print(similarity_.min())\n",
    "print(similarity_.max())"
   ]
  },
  {
   "cell_type": "code",
   "execution_count": null,
   "id": "05dd7ab8-a15b-43a5-9dc5-89b1dc52da3e",
   "metadata": {},
   "outputs": [
    {
     "data": {
      "text/plain": [
       "array([0.        , 0.15700955, 0.3140191 , 0.47102865, 0.62803819,\n",
       "       0.78504774, 0.94205729, 1.09906684, 1.25607639, 1.41308594])"
      ]
     },
     "execution_count": 9,
     "metadata": {},
     "output_type": "execute_result"
    }
   ],
   "source": [
    "# get equal threshold for similarity\n",
    "thresholds = np.linspace(similarity_.min(), similarity_.max(), 10)\n",
    "thresholds"
   ]
  },
  {
   "cell_type": "code",
   "execution_count": null,
   "id": "96bec31d-7766-4d93-8a84-a32ef81a56d6",
   "metadata": {},
   "outputs": [],
   "source": [
    "# initiate metrics\n",
    "fscore_ = np.zeros(shape=(len(thresholds)))\n",
    "precision_ = np.zeros(shape=(len(thresholds)))\n",
    "recall_ = np.zeros(shape=(len(thresholds)))\n",
    "specificity_ = np.zeros(shape=(len(thresholds)))\n",
    "sensitivity_ = np.zeros(shape=(len(thresholds)))\n",
    "avg_pre = np.zeros(shape=(len(thresholds)))\n",
    "fpr = []\n",
    "tpr = []"
   ]
  },
  {
   "cell_type": "code",
   "execution_count": null,
   "id": "2408525e-bc7d-43d0-8e06-86e8d4f39f35",
   "metadata": {},
   "outputs": [
    {
     "name": "stderr",
     "output_type": "stream",
     "text": [
      "/tmp/ipykernel_39043/313180606.py:12: RuntimeWarning: invalid value encountered in long_scalars\n",
      "  tpr.append(np.float16(cm[0,0]/(cm[0,0] + cm[1,0]))) # tp / (tp + fn)\n"
     ]
    }
   ],
   "source": [
    "# compute metrics for each threshold, at the same time compute the binary on the similarity using the provided threshold\n",
    "    # np.where(similarity_ >= elem, 1, 0) # where similarity measure (euclidean distance) is greater than threshold == 1 otherwise 0.\n",
    "for index, elem in enumerate(thresholds):\n",
    "    fscore_[index] = f1_score(gt_binary_, np.where(similarity_ >= elem, 1, 0))\n",
    "    precision_[index] = precision_score(gt_binary_, np.where(similarity_ >= elem, 1, 0))\n",
    "    recall_[index] = recall_score(gt_binary_, np.where(similarity_ >= elem, 1, 0))\n",
    "    # avg_pre[index] = average_precision_score(gt_binary_, np.where(similarity_ >= elem, 1, 0))\n",
    "    cm = confusion_matrix(gt_binary_, np.where(similarity_ >= elem, 1, 0)) # confusion matrix\n",
    "    # # specificity_[index] = cm[1,1] / (cm[1,0] + cm[1,1])\n",
    "    # # sensitivity_[index] = cm[0,0] / (cm[0,0] + cm[0,1]) # the same a recall\n",
    "    fpr.append(np.float16(cm[0,1]/(cm[0,1] + cm[1,1]))) # fp / (fp+tn)\n",
    "    tpr.append(np.float16(cm[0,0]/(cm[0,0] + cm[1,0]))) # tp / (tp + fn)\n",
    "\n",
    "# https://stackoverflow.com/questions/34709576/runtimewarning-invalid-value-encountered-in-long-scalars\n",
    "# to get rid of the warning"
   ]
  },
  {
   "cell_type": "code",
   "execution_count": null,
   "id": "ef459a51-d214-4cb2-b5a0-ce44e761c526",
   "metadata": {},
   "outputs": [
    {
     "data": {
      "text/plain": [
       "0.7850477430555556"
      ]
     },
     "execution_count": 12,
     "metadata": {},
     "output_type": "execute_result"
    }
   ],
   "source": [
    "opt_threshold_idx = np.argmax(fscore_)\n",
    "opt_threshold = thresholds[opt_threshold_idx]\n",
    "opt_threshold"
   ]
  },
  {
   "cell_type": "code",
   "execution_count": null,
   "id": "b871d7c8-1e72-433d-b767-3a42153d6546",
   "metadata": {},
   "outputs": [],
   "source": [
    "similarity_binary = np.where(similarity_ >= opt_threshold, 2, 1)\n",
    "similarity_binary_change = np.empty_like(gt_binary)\n",
    "# similarity_binary_change[similarity_ == 0] = 1\n",
    "# similarity_binary_change[similarity_ == 1] = 2\n",
    "similarity_binary_change[~gt_binary_mask.mask] = similarity_binary.ravel()\n",
    "\n",
    "# with rasterio.open('test_similarity.tif', 'w', **profile) as dst:\n",
    "#     dst.write(similarity_binary_change, 1)"
   ]
  },
  {
   "cell_type": "code",
   "execution_count": null,
   "id": "6af5d255-e7c0-4010-931a-61e7cb30f00a",
   "metadata": {},
   "outputs": [],
   "source": [
    "change_array = np.empty_like(gt_binary_) # flatten shape\n",
    "change_array[(gt_binary_== 0) & (similarity_binary == 1)] = 1\n",
    "change_array[(gt_binary_== 0) & (similarity_binary == 2)] = 2\n",
    "change_array[(gt_binary_== 1) & (similarity_binary == 1)] = 3\n",
    "change_array[(gt_binary_== 1) & (similarity_binary == 2)] = 4"
   ]
  },
  {
   "cell_type": "code",
   "execution_count": null,
   "id": "f7fec08c-3879-4948-87e4-beaddc84df36",
   "metadata": {},
   "outputs": [
    {
     "data": {
      "text/plain": [
       "{'driver': 'GTiff', 'dtype': 'float32', 'nodata': 0.0, 'width': 10980, 'height': 10980, 'count': 1, 'crs': CRS.from_epsg(32631), 'transform': Affine(10.0, 0.0, 300000.0,\n",
       "       0.0, -10.0, 4900020.0), 'tiled': False, 'interleave': 'band'}"
      ]
     },
     "execution_count": 26,
     "metadata": {},
     "output_type": "execute_result"
    }
   ],
   "source": [
    "profile"
   ]
  },
  {
   "cell_type": "code",
   "execution_count": null,
   "id": "75c77d5e-96c6-4abd-9e6d-65d74152d5bd",
   "metadata": {},
   "outputs": [],
   "source": [
    "change_map = np.empty_like(gt_binary)\n",
    "change_map[~gt_binary_mask.mask] = change_array.ravel()"
   ]
  },
  {
   "cell_type": "code",
   "execution_count": null,
   "id": "6cf02cc9-19db-4675-ac4a-78ecb746437f",
   "metadata": {},
   "outputs": [
    {
     "name": "stdout",
     "output_type": "stream",
     "text": [
      "[1 2 3 4]\n",
      "[0 1 2 3 4]\n"
     ]
    }
   ],
   "source": [
    "print(np.unique(change_array))\n",
    "print(np.unique(change_map))"
   ]
  },
  {
   "cell_type": "code",
   "execution_count": null,
   "id": "00901b7e-7240-43d1-8f52-ff5be77185ab",
   "metadata": {},
   "outputs": [
    {
     "data": {
      "image/png": "[encoded data removed]",
      "text/plain": [
       "<Figure size 576x360 with 1 Axes>"
      ]
     },
     "metadata": {
      "needs_background": "light"
     },
     "output_type": "display_data"
    }
   ],
   "source": [
    "plt.figure(figsize=(8,5))\n",
    "plt.hist(similarity_, bins=10, label='similarity distribution',  ec='white', log=True)\n",
    "plt.axvline(x=thresholds[opt_threshold_idx], color='r', linestyle='--', label=\"optimal threshold: {0:0.3f}\".format(thresholds[opt_threshold_idx]))\n",
    "plt.legend()\n",
    "plt.show()"
   ]
  },
  {
   "cell_type": "code",
   "execution_count": null,
   "id": "0669bc4d-a1d9-4579-b098-840ab75a81ae",
   "metadata": {},
   "outputs": [
    {
     "data": {
      "image/png": "[encoded data removed]",
      "text/plain": [
       "<Figure size 720x360 with 2 Axes>"
      ]
     },
     "metadata": {
      "needs_background": "light"
     },
     "output_type": "display_data"
    }
   ],
   "source": [
    "fig, ax = plt.subplots(1, 2, figsize=(10, 5))\n",
    "# ax[0].plot(opt_threshold_)\n",
    "ax[0].plot(recall_, precision_, label='Precision-Recall curve')\n",
    "ax[0].plot(recall_[opt_threshold_index], precision_[opt_threshold_index], 'o', markersize=10, color='r', label='Threshold selected: {0:0.4f}'.format(opt_threshold_))\n",
    "ax[1].plot(fpr, tpr, label='ROC_curve')\n",
    "ax[0].legend()\n",
    "plt.show()\n",
    "# ax[1].xlim([0.0,1.0])\n",
    "# ax[0].plot(thresholds, recall_, label='Recall')"
   ]
  },
  {
   "cell_type": "code",
   "execution_count": null,
   "id": "942a5f91-02b9-4117-a32f-4e837e5f6823",
   "metadata": {},
   "outputs": [
    {
     "data": {
      "text/plain": [
       "[<matplotlib.lines.Line2D at 0x7fe31b231cc0>]"
      ]
     },
     "execution_count": 41,
     "metadata": {},
     "output_type": "execute_result"
    },
    {
     "data": {
      "image/png": "[encoded data removed]",
      "text/plain": [
       "<Figure size 432x288 with 1 Axes>"
      ]
     },
     "metadata": {
      "needs_background": "light"
     },
     "output_type": "display_data"
    }
   ],
   "source": [
    "plt.figure()\n",
    "# plt.plot([0,0.4],[0.6,1], 'k--')\n",
    "# plt.xlim([0.0, 1.0])\n",
    "# plt.ylim([0.0, 1.05])\n",
    "plt.plot(fpr, tpr)"
   ]
  },
  {
   "cell_type": "code",
   "execution_count": null,
   "id": "ec64aeca-f4b0-4806-a43c-97f448fc17e6",
   "metadata": {},
   "outputs": [
    {
     "data": {
      "text/html": [
       "<div>\n",
       "<style scoped>\n",
       "    .dataframe tbody tr th:only-of-type {\n",
       "        vertical-align: middle;\n",
       "    }\n",
       "\n",
       "    .dataframe tbody tr th {\n",
       "        vertical-align: top;\n",
       "    }\n",
       "\n",
       "    .dataframe thead th {\n",
       "        text-align: right;\n",
       "    }\n",
       "</style>\n",
       "<table border=\"1\" class=\"dataframe\">\n",
       "  <thead>\n",
       "    <tr style=\"text-align: right;\">\n",
       "      <th></th>\n",
       "      <th>threshold</th>\n",
       "      <th>fscore</th>\n",
       "      <th>precision</th>\n",
       "      <th>recall</th>\n",
       "      <th>specificity</th>\n",
       "    </tr>\n",
       "  </thead>\n",
       "  <tbody>\n",
       "    <tr>\n",
       "      <th>0</th>\n",
       "      <td>0.000000</td>\n",
       "      <td>0.575761</td>\n",
       "      <td>0.404259</td>\n",
       "      <td>1.000000</td>\n",
       "      <td>0.0</td>\n",
       "    </tr>\n",
       "    <tr>\n",
       "      <th>1</th>\n",
       "      <td>0.157010</td>\n",
       "      <td>0.816063</td>\n",
       "      <td>0.690158</td>\n",
       "      <td>0.998155</td>\n",
       "      <td>0.0</td>\n",
       "    </tr>\n",
       "    <tr>\n",
       "      <th>2</th>\n",
       "      <td>0.314019</td>\n",
       "      <td>0.915390</td>\n",
       "      <td>0.847676</td>\n",
       "      <td>0.994860</td>\n",
       "      <td>0.0</td>\n",
       "    </tr>\n",
       "    <tr>\n",
       "      <th>3</th>\n",
       "      <td>0.471029</td>\n",
       "      <td>0.959120</td>\n",
       "      <td>0.929693</td>\n",
       "      <td>0.990471</td>\n",
       "      <td>0.0</td>\n",
       "    </tr>\n",
       "    <tr>\n",
       "      <th>4</th>\n",
       "      <td>0.628038</td>\n",
       "      <td>0.975272</td>\n",
       "      <td>0.966580</td>\n",
       "      <td>0.984121</td>\n",
       "      <td>0.0</td>\n",
       "    </tr>\n",
       "    <tr>\n",
       "      <th>5</th>\n",
       "      <td>0.785048</td>\n",
       "      <td>0.978049</td>\n",
       "      <td>0.981952</td>\n",
       "      <td>0.974176</td>\n",
       "      <td>0.0</td>\n",
       "    </tr>\n",
       "    <tr>\n",
       "      <th>6</th>\n",
       "      <td>0.942057</td>\n",
       "      <td>0.971360</td>\n",
       "      <td>0.989059</td>\n",
       "      <td>0.954282</td>\n",
       "      <td>0.0</td>\n",
       "    </tr>\n",
       "    <tr>\n",
       "      <th>7</th>\n",
       "      <td>1.099067</td>\n",
       "      <td>0.950937</td>\n",
       "      <td>0.993073</td>\n",
       "      <td>0.912231</td>\n",
       "      <td>0.0</td>\n",
       "    </tr>\n",
       "    <tr>\n",
       "      <th>8</th>\n",
       "      <td>1.256076</td>\n",
       "      <td>0.896287</td>\n",
       "      <td>0.995579</td>\n",
       "      <td>0.815004</td>\n",
       "      <td>0.0</td>\n",
       "    </tr>\n",
       "    <tr>\n",
       "      <th>9</th>\n",
       "      <td>1.413086</td>\n",
       "      <td>0.000440</td>\n",
       "      <td>1.000000</td>\n",
       "      <td>0.000220</td>\n",
       "      <td>0.0</td>\n",
       "    </tr>\n",
       "  </tbody>\n",
       "</table>\n",
       "</div>"
      ],
      "text/plain": [
       "   threshold    fscore  precision    recall  specificity\n",
       "0   0.000000  0.575761   0.404259  1.000000          0.0\n",
       "1   0.157010  0.816063   0.690158  0.998155          0.0\n",
       "2   0.314019  0.915390   0.847676  0.994860          0.0\n",
       "3   0.471029  0.959120   0.929693  0.990471          0.0\n",
       "4   0.628038  0.975272   0.966580  0.984121          0.0\n",
       "5   0.785048  0.978049   0.981952  0.974176          0.0\n",
       "6   0.942057  0.971360   0.989059  0.954282          0.0\n",
       "7   1.099067  0.950937   0.993073  0.912231          0.0\n",
       "8   1.256076  0.896287   0.995579  0.815004          0.0\n",
       "9   1.413086  0.000440   1.000000  0.000220          0.0"
      ]
     },
     "execution_count": 56,
     "metadata": {},
     "output_type": "execute_result"
    }
   ],
   "source": [
    "# F1 score table\n",
    "df = pd.DataFrame({'threshold': thresholds, 'fscore': fscore_, 'precision': precision_, 'recall': recall_, 'specificity': specificity_})\n",
    "# df_f1 = pd.DataFrame({'threshold': thresholds, 'fscore':fscore_})\n",
    "# df_f1\n",
    "df"
   ]
  },
  {
   "cell_type": "code",
   "execution_count": 15,
   "id": "aa61b97c-d40b-415f-8c61-c11a64d09b48",
   "metadata": {},
   "outputs": [],
   "source": [
    "# ROC curve\n",
    "# plt.figure()\n",
    "# for index, elem in enumerate(thresholds):\n",
    "#     plt.plot(fpr[index], tpr[index], label='Threshold: {0}'.format(elem))\n",
    "# plt.plot([0, 1], [0, 1], 'k--')\n",
    "# # plt.xlim([0.0, 1.0])\n",
    "# # plt.ylim([0.0, 1.05])\n",
    "# plt.legend()\n",
    "# plt.show()"
   ]
  },
  {
   "cell_type": "code",
   "execution_count": null,
   "id": "807fa101-ce35-4670-bc95-4a6b79e06cc3",
   "metadata": {},
   "outputs": [],
   "source": []
  }
 ],
 "metadata": {
  "kernelspec": {
   "display_name": "Python 3",
   "language": "python",
   "name": "python3"
  },
  "language_info": {
   "codemirror_mode": {
    "name": "ipython",
    "version": 3
   },
   "file_extension": ".py",
   "mimetype": "text/x-python",
   "name": "python",
   "nbconvert_exporter": "python",
   "pygments_lexer": "ipython3",
   "version": "3.7.1"
  }
 },
 "nbformat": 4,
 "nbformat_minor": 5
}
