{
 "cells": [
  {
   "cell_type": "code",
   "execution_count": 1,
   "id": "4388ee9b-cc0f-4f37-b58e-b7895fa711af",
   "metadata": {},
   "outputs": [],
   "source": [
    "import rasterio\n",
    "import numpy as np\n",
    "import matplotlib.pyplot as plt\n",
    "# from sklearn.metrics import precision_recall_curve\n",
    "from sklearn.metrics import precision_score\n",
    "from sklearn.metrics import recall_score\n",
    "from sklearn.metrics import f1_score \n",
    "\n",
    "similarity_case_1_p = '../../../results/RF/simliarity_measure/model_1_ref_mask_similarity_measure.tif'\n",
    "similarity_case_2_p = '../../../results/RF/simliarity_measure/model_2_ref_mask_similarity_measure.tif'\n",
    "similarity_case_3_p = '../../../results/RF/simliarity_measure/model_3_ref_mask_similarity_measure.tif'\n",
    "\n",
    "gt_source_path  = '../../../data/rasterized_samples/2018_rasterizedImage.tif'\n",
    "gt_target_path = '../../../data/rasterized_samples/2019_rasterizedImage.tif'"
   ]
  },
  {
   "cell_type": "code",
   "execution_count": 2,
   "id": "074a1557-aba2-4a5c-b9c2-f4814af6e121",
   "metadata": {},
   "outputs": [],
   "source": [
    "similarity_case_1 = rasterio.open(similarity_case_1_p).read(1)\n",
    "similarity_case_2 = rasterio.open(similarity_case_2_p).read(1)\n",
    "similarity_case_3 = rasterio.open(similarity_case_3_p).read(1)\n",
    "\n",
    "gt_source = rasterio.open(gt_source_path).read(1)\n",
    "gt_target = rasterio.open(gt_target_path).read(1)"
   ]
  },
  {
   "cell_type": "code",
   "execution_count": 3,
   "id": "ae8595d9-da54-49e6-8a2c-fb5272770139",
   "metadata": {},
   "outputs": [],
   "source": [
    "gt_mask_nodata = (gt_source != 0) & (gt_target != 0)\n",
    "gt_binary = np.where(gt_mask_nodata, np.where(gt_source == gt_target, 1, 2), 0) # reference binary change \n",
    "gt_binary_mask = np.ma.masked_array(gt_binary, mask=True) # returns all true mask\n",
    "gt_binary_mask.mask[gt_binary_mask.data != 0] = False # mask all non-zero mask\n",
    "gt_binary_values = gt_binary_mask.compressed()\n",
    "gt_binary_values[gt_binary_values == 1] = 0\n",
    "gt_binary_values[gt_binary_values == 2] = 1"
   ]
  },
  {
   "cell_type": "code",
   "execution_count": 4,
   "id": "7610f994-d06f-46e7-be0c-31355cccb59f",
   "metadata": {},
   "outputs": [
    {
     "name": "stdout",
     "output_type": "stream",
     "text": [
      "2\n",
      "0\n",
      "[0 1 2]\n",
      "[0 1]\n"
     ]
    }
   ],
   "source": [
    "print(gt_binary.max())\n",
    "print(gt_binary.min())\n",
    "print(np.unique(gt_binary))\n",
    "print(np.unique(gt_binary_values))"
   ]
  },
  {
   "cell_type": "code",
   "execution_count": 5,
   "id": "5087cc02-a66e-4ce5-9ef6-973c3608d179",
   "metadata": {},
   "outputs": [],
   "source": [
    "similarity_case_1_mask = np.ma.masked_array(similarity_case_1, mask=True)\n",
    "similarity_case_1_mask.mask[gt_binary_mask.data != 0] = False\n",
    "similarity_case_1_values = similarity_case_1_mask.compressed()"
   ]
  },
  {
   "cell_type": "code",
   "execution_count": 6,
   "id": "cd425ae7-34cf-49d9-831b-d068a6b176f0",
   "metadata": {},
   "outputs": [],
   "source": [
    "# similarity_case_1_mask = np.ma.masked_array(similarity_case_1, mask=True)\n",
    "# similarity_case_1_mask.mask[similarity_case_1_mask.data != -999.] = False\n",
    "# similarity_case_1_values = similarity_case_1_mask.compressed()"
   ]
  },
  {
   "cell_type": "code",
   "execution_count": 7,
   "id": "0bc727fc-764e-4160-adce-2b30bb8a5862",
   "metadata": {
    "tags": []
   },
   "outputs": [
    {
     "name": "stdout",
     "output_type": "stream",
     "text": [
      "0.0\n",
      "1.4130859\n"
     ]
    }
   ],
   "source": [
    "print(similarity_case_1_values.min())\n",
    "print(similarity_case_1_values.max())"
   ]
  },
  {
   "cell_type": "code",
   "execution_count": 8,
   "id": "a41d1518-a042-4ce7-99ff-a16035d763e3",
   "metadata": {},
   "outputs": [],
   "source": [
    "# plt.hist(similarity_case_1_values, bins=10)\n",
    "# plt.show()"
   ]
  },
  {
   "cell_type": "code",
   "execution_count": 9,
   "id": "05dd7ab8-a15b-43a5-9dc5-89b1dc52da3e",
   "metadata": {},
   "outputs": [
    {
     "data": {
      "text/plain": [
       "array([0.        , 0.15700955, 0.3140191 , 0.47102865, 0.62803819,\n",
       "       0.78504774, 0.94205729, 1.09906684, 1.25607639, 1.41308594])"
      ]
     },
     "execution_count": 9,
     "metadata": {},
     "output_type": "execute_result"
    }
   ],
   "source": [
    "thresholds = np.linspace(similarity_case_1_values.min(), similarity_case_1_values.max(), 10)\n",
    "thresholds"
   ]
  },
  {
   "cell_type": "code",
   "execution_count": 13,
   "id": "96bec31d-7766-4d93-8a84-a32ef81a56d6",
   "metadata": {},
   "outputs": [],
   "source": [
    "fscore_ = np.zeros(shape=(len(thresholds)))"
   ]
  },
  {
   "cell_type": "code",
   "execution_count": 14,
   "id": "fd79bc0e-cf46-474d-b2a8-206c2f986a5a",
   "metadata": {},
   "outputs": [
    {
     "name": "stdout",
     "output_type": "stream",
     "text": [
      "[0 1]\n",
      "[0.0000000e+00 5.9604645e-08 3.5762787e-07 ... 1.4111328e+00 1.4121094e+00\n",
      " 1.4130859e+00]\n"
     ]
    }
   ],
   "source": [
    "print(np.unique(gt_binary_values))\n",
    "print(np.unique(similarity_case_1_values))"
   ]
  },
  {
   "cell_type": "code",
   "execution_count": 15,
   "id": "2408525e-bc7d-43d0-8e06-86e8d4f39f35",
   "metadata": {},
   "outputs": [],
   "source": [
    "for index, elem in enumerate(thresholds):\n",
    "    # sim = np.where(similarity_case_1_values >= elem, 1, 0)\n",
    "    fscore_[index] = f1_score(gt_binary_values, np.where(similarity_case_1_values >= elem, 1, 0))"
   ]
  },
  {
   "cell_type": "code",
   "execution_count": null,
   "id": "36f8fbc3-7618-494a-b0d5-4174ed8aa472",
   "metadata": {},
   "outputs": [],
   "source": [
    "fscore_"
   ]
  },
  {
   "cell_type": "code",
   "execution_count": null,
   "id": "99ab387a-744a-4ba2-9c56-46b95b0b8818",
   "metadata": {},
   "outputs": [],
   "source": []
  },
  {
   "cell_type": "code",
   "execution_count": null,
   "id": "aa61b97c-d40b-415f-8c61-c11a64d09b48",
   "metadata": {},
   "outputs": [],
   "source": []
  }
 ],
 "metadata": {
  "kernelspec": {
   "display_name": "Python 3",
   "language": "python",
   "name": "python3"
  },
  "language_info": {
   "codemirror_mode": {
    "name": "ipython",
    "version": 3
   },
   "file_extension": ".py",
   "mimetype": "text/x-python",
   "name": "python",
   "nbconvert_exporter": "python",
   "pygments_lexer": "ipython3",
   "version": "3.7.1"
  }
 },
 "nbformat": 4,
 "nbformat_minor": 5
}
