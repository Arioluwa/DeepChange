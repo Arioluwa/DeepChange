{
 "cells": [
  {
   "cell_type": "code",
   "execution_count": 1,
   "id": "4388ee9b-cc0f-4f37-b58e-b7895fa711af",
   "metadata": {},
   "outputs": [],
   "source": [
    "import rasterio\n",
    "import numpy as np\n",
    "import pandas as pd\n",
    "import matplotlib.pyplot as plt\n",
    "import heapq\n",
    "# from sklearn.metrics import confusion_matrix\n",
    "# # from sklearn.metrics import precision_recall_curve\n",
    "# from sklearn.metrics import precision_score\n",
    "# from sklearn.metrics import average_precision_score\n",
    "# from sklearn.metrics import recall_score\n",
    "# from sklearn.metrics import f1_score \n",
    "# from sklearn.metrics import roc_curve\n",
    "# from sklearn.metrics import auc\n",
    "# from skimage.filters import threshold_otsu\n",
    "# similarity_case_1_p = '../../../results/RF/simliarity_measure/case_1_ref_mask_similarity_measure.tif'\n",
    "# similarity_case_2_p = '../../../results/RF/simliarity_measure/case_2_ref_mask_similarity_measure.tif'\n",
    "# similarity_case_3_p = '../../../results/RF/simliarity_measure/case_3_ref_mask_similarity_measure.tif'\n",
    "# binary_change_map = '../../../results/RF/binary_change_D/change_map_case_1.tif'\n",
    "# similarity_change_map = '../../../results/RF/simliarity_measure/optimal_threshold/sim-change_map_case_1.tif'\n",
    "# source_proba_distr = '../../../results/RF/simliarity_measure/2018_rf_model_1.npy'\n",
    "# target_proba_distri = '../../../results/RF/simliarity_measure/2019_rf_model_1.npy'\n",
    "\n",
    "gt_source_path  = '../../../data/rasterized_samples/2018_rasterizedImage.tif'\n",
    "gt_target_path = '../../../data/rasterized_samples/2019_rasterizedImage.tif'\n",
    "pred_source_path = '../../../results/RF/2018_rf_case_2_map.tif'\n",
    "pred_target_path = '../../../results/RF/2019_rf_case_3_map.tif'"
   ]
  },
  {
   "cell_type": "code",
   "execution_count": null,
   "id": "76acefc8-b7ed-49fb-a270-a8be375b0e89",
   "metadata": {},
   "outputs": [],
   "source": [
    "source_proba = np.load(source_proba_distr)"
   ]
  },
  {
   "cell_type": "code",
   "execution_count": null,
   "id": "67395860-2eee-43f3-9c50-86e2eae43be6",
   "metadata": {},
   "outputs": [],
   "source": [
    "source_proba = np.sort(source_proba, axis=1)[:, ::-1]"
   ]
  },
  {
   "cell_type": "code",
   "execution_count": 8,
   "id": "59709bf9-0d42-411e-821a-833ee0527994",
   "metadata": {},
   "outputs": [
    {
     "data": {
      "text/plain": [
       "array([[0.2154273 , 0.16797907, 0.12088084, ..., 0.0115641 , 0.00269574,\n",
       "        0.00205739],\n",
       "       [0.18054258, 0.17856504, 0.12668672, ..., 0.01568175, 0.00323386,\n",
       "        0.00269574],\n",
       "       [0.2257703 , 0.14244967, 0.08704204, ..., 0.00510253, 0.00360707,\n",
       "        0.00301844],\n",
       "       ...,\n",
       "       [0.97664903, 0.01751358, 0.00188406, ..., 0.        , 0.        ,\n",
       "        0.        ],\n",
       "       [0.96421647, 0.02934249, 0.0022334 , ..., 0.        , 0.        ,\n",
       "        0.        ],\n",
       "       [0.95563428, 0.03953535, 0.00224455, ..., 0.        , 0.        ,\n",
       "        0.        ]])"
      ]
     },
     "execution_count": 8,
     "metadata": {},
     "output_type": "execute_result"
    }
   ],
   "source": [
    "source_proba"
   ]
  },
  {
   "cell_type": "code",
   "execution_count": 5,
   "id": "7548520a-ae9f-4aae-8803-6420baa5dfde",
   "metadata": {},
   "outputs": [],
   "source": [
    "uncertainty = source_proba[:,0] - source_proba[:,1] "
   ]
  },
  {
   "cell_type": "code",
   "execution_count": 7,
   "id": "27f1458c-562a-40b7-9525-33f5674e34da",
   "metadata": {},
   "outputs": [
    {
     "data": {
      "text/plain": [
       "array([0.04744823, 0.00197754, 0.08332063, ..., 0.95913544, 0.93487399,\n",
       "       0.91609893])"
      ]
     },
     "execution_count": 7,
     "metadata": {},
     "output_type": "execute_result"
    }
   ],
   "source": [
    "uncertainty"
   ]
  },
  {
   "cell_type": "code",
   "execution_count": 2,
   "id": "de5371b8-ca3d-428c-96a6-56d12499b15c",
   "metadata": {},
   "outputs": [],
   "source": [
    "gt_source_ = rasterio.open(gt_source_path).read(1).flatten().astype('int')\n",
    "gt_target_ = rasterio.open(gt_target_path).read(1).flatten().astype('int')\n",
    "pred_source_ = rasterio.open(pred_source_path).read(1).flatten()\n",
    "pred_target_ = rasterio.open(pred_target_path).read(1).flatten()"
   ]
  },
  {
   "cell_type": "code",
   "execution_count": 3,
   "id": "87de6ebb-010f-473a-80c7-50db3f55ce5f",
   "metadata": {},
   "outputs": [],
   "source": [
    "gt_mask_nodata = (gt_source_ != 0) & (gt_target_ != 0)"
   ]
  },
  {
   "cell_type": "code",
   "execution_count": 4,
   "id": "f1600593-a640-42aa-80c1-a9dda1d9bd67",
   "metadata": {},
   "outputs": [
    {
     "data": {
      "text/plain": [
       "array([False, False, False, ..., False, False, False])"
      ]
     },
     "execution_count": 4,
     "metadata": {},
     "output_type": "execute_result"
    }
   ],
   "source": [
    "gt_mask_nodata"
   ]
  },
  {
   "cell_type": "code",
   "execution_count": 5,
   "id": "cfc4762f-318d-4baf-96a4-b168e9c9e052",
   "metadata": {},
   "outputs": [],
   "source": [
    "def mask_and_extract(array, mask_array):\n",
    "    array = np.ma.masked_array(array, mask=True)\n",
    "    array.mask[mask_array] = False\n",
    "    array_value = np.ma.compressed(array)\n",
    "    return array_value\n",
    "gt_source_ = mask_and_extract(gt_source_, gt_mask_nodata)\n",
    "gt_target_ = mask_and_extract(gt_target_, gt_mask_nodata)\n",
    "pred_source_ = mask_and_extract(pred_source_, gt_mask_nodata)\n",
    "pred_target_ = mask_and_extract(pred_target_, gt_mask_nodata)"
   ]
  },
  {
   "cell_type": "code",
   "execution_count": 6,
   "id": "4d7bbe7a-51b3-4dc7-8036-360d7bc8a9fa",
   "metadata": {},
   "outputs": [],
   "source": [
    "df = pd.DataFrame({'gt_source': gt_source_, 'gt_target': gt_target_, 'pred_source': pred_source_, 'pred_target': pred_target_})"
   ]
  },
  {
   "cell_type": "code",
   "execution_count": 7,
   "id": "cd63f338-a770-4da4-926d-f3a7f0c48609",
   "metadata": {},
   "outputs": [],
   "source": [
    "dict_={1: 'Dense built-up area',\n",
    "2: 'Diffuse built-up area',\n",
    " 3: 'Industrial and commercial areas',\n",
    " 4: 'Roads',\n",
    " 5: 'Oilseeds (Rapeseed)',\n",
    " 6: 'Straw cereals (Wheat, Triticale, Barley)',\n",
    " 7: 'Protein crops (Beans / Peas)',\n",
    " 8: 'Soy',\n",
    " 9: 'Sunflower',\n",
    " 10: 'Corn',\n",
    " 12: 'Tubers/roots',\n",
    " 13: 'Grasslands',\n",
    " 14: 'Orchards and fruit growing',\n",
    " 15: 'Vineyards',\n",
    " 16: 'Hardwood forest',\n",
    " 17: 'Softwood forest',\n",
    " 18: 'Natural grasslands and pastures',\n",
    " 19: 'Woody moorlands',\n",
    " 23: 'Water'}"
   ]
  },
  {
   "cell_type": "code",
   "execution_count": 8,
   "id": "1561518e-fe53-4729-9914-7926aeab8f02",
   "metadata": {},
   "outputs": [
    {
     "name": "stdout",
     "output_type": "stream",
     "text": [
      " 0.010872252782185872 minute\n"
     ]
    }
   ],
   "source": [
    "import time\n",
    "start_time =time.time()\n",
    "label = ['Dense built-up area', 'Diffuse built-up area', 'Industrial and commercial areas', 'Roads', 'Oilseeds (Rapeseed)', 'Straw cereals (Wheat, Triticale, Barley)', 'Protein crops (Beans / Peas)', 'Soy', 'Sunflower', 'Corn',  'Tubers/roots', 'Grasslands', 'Orchards and fruit growing', 'Vineyards', 'Hardwood forest', 'Softwood forest', 'Natural grasslands and pastures', 'Woody moorlands', 'Water']\n",
    "df['gt_source'] = df['gt_source'].map(dict_)\n",
    "df['gt_target'] = df['gt_target'].map(dict_)\n",
    "df['pred_source'] = df['pred_source'].map(dict_)\n",
    "df['pred_target'] = df['pred_target'].map(dict_)\n",
    "print(\" %s minute\" % str((time.time() - start_time)/60))"
   ]
  },
  {
   "cell_type": "code",
   "execution_count": null,
   "id": "5322eacc-e02d-43dc-81d7-a7bd14032ab2",
   "metadata": {},
   "outputs": [],
   "source": [
    "import time\n",
    "start_time =time.time()\n",
    "df['gt_change']= df.apply(lambda x: str(x['gt_source']) + '-' + str(x['gt_target']), axis=1)\n",
    "df['pred_change']= df.apply(lambda x: str(x['pred_source']) + '-' + str(x['pred_target']), axis=1)\n",
    "print(\" %s minutes\" % str((time.time() - start_time)/60))"
   ]
  },
  {
   "cell_type": "code",
   "execution_count": 10,
   "id": "7bbc5ec3-2a4b-4507-9736-fe52e4341f17",
   "metadata": {},
   "outputs": [],
   "source": [
    "cm = pd.crosstab(df['gt_change'], df['pred_change'], rownames=['Ground Truth'], colnames=['Prediction'])"
   ]
  },
  {
   "cell_type": "code",
   "execution_count": 17,
   "id": "59b65f4c-bd9c-4eb5-b680-231be8b3c545",
   "metadata": {},
   "outputs": [],
   "source": [
    "cm.to_csv('cm.csv')"
   ]
  },
  {
   "cell_type": "code",
   "execution_count": 7,
   "id": "adfc3ac8-1d12-4124-8acf-9fc993452ee6",
   "metadata": {},
   "outputs": [],
   "source": [
    "# df['gt_change']= df.apply(lambda x: str(x['gt_source']) + '-' + str(x['gt_target']), axis=1)\n",
    "# df['pred_change']= df.apply(lambda x: str(x['pred_source']) + '-' + str(x['pred_target']), axis=1)"
   ]
  },
  {
   "cell_type": "code",
   "execution_count": null,
   "id": "3a3b428f-8afd-480b-8971-895a2eabc199",
   "metadata": {},
   "outputs": [],
   "source": [
    "def changeErrorCheck(\n",
    "    case,\n",
    "    gt_source,\n",
    "    gt_target,\n",
    "    pred_source,\n",
    "    pred_target,\n",
    "    outdir\n",
    "    ):\n",
    "    # read rasters\n",
    "    gt_source_ = rasterio.open(gt_source).read(1).flatten().astype('int')\n",
    "    gt_target_ = rasterio.open(gt_target).read(1).flatten().astype('int')\n",
    "    pred_source_ = rasterio.open(pred_source).read(1).flatten()\n",
    "    pred_target_ = rasterio.open(pred_target).read(1).flatten()\n",
    "    \n",
    "    gt_mask_nodata = (gt_source_ != 0) & (gt_target_ != 0)\n",
    "    \n",
    "    def mask_and_extract(array, mask_array):\n",
    "        array = np.ma.masked_array(array, mask=True)\n",
    "        array.mask[mask_array] = False\n",
    "        array_value = np.ma.compressed(array)\n",
    "        return array_value\n",
    "\n",
    "    gt_source_ = mask_and_extract(gt_source_, gt_mask_nodata)\n",
    "    gt_target_ = mask_and_extract(gt_target_, gt_mask_nodata)\n",
    "    pred_source_ = mask_and_extract(pred_source_, gt_mask_nodata)\n",
    "    pred_target_ = mask_and_extract(pred_target_, gt_mask_nodata)\n",
    "    \n",
    "    # class label\n",
    "    dict_={1: 'Dense built-up area',\n",
    "    2: 'Diffuse built-up area',\n",
    "     3: 'Industrial and commercial areas',\n",
    "     4: 'Roads',\n",
    "     5: 'Oilseeds (Rapeseed)',\n",
    "     6: 'Straw cereals (Wheat, Triticale, Barley)',\n",
    "     7: 'Protein crops (Beans / Peas)',\n",
    "     8: 'Soy',\n",
    "     9: 'Sunflower',\n",
    "     10: 'Corn',\n",
    "     12: 'Tubers/roots',\n",
    "     13: 'Grasslands',\n",
    "     14: 'Orchards and fruit growing',\n",
    "     15: 'Vineyards',\n",
    "     16: 'Hardwood forest',\n",
    "     17: 'Softwood forest',\n",
    "     18: 'Natural grasslands and pastures',\n",
    "     19: 'Woody moorlands',\n",
    "     23: 'Water'}\n",
    "    \n",
    "    df = pd.DataFrame({'gt_source': gt_source_, 'gt_target': gt_target_, 'pred_source': pred_source_, 'pred_target': pred_target_})\n",
    "    # rename class to label\n",
    "    df['gt_source'] = df['gt_source'].map(dict_)\n",
    "    df['gt_target'] = df['gt_target'].map(dict_)\n",
    "    df['pred_source'] = df['pred_source'].map(dict_)\n",
    "    df['pred_target'] = df['pred_target'].map(dict_)\n",
    "    \n",
    "    \n",
    "    df['gt_change']= df.apply(lambda x: str(x['gt_source']) + '-' + str(x['gt_target']), axis=1)\n",
    "    df['pred_change']= df.apply(lambda x: str(x['pred_source']) + '-' + str(x['pred_target']), axis=1)\n",
    "    \n",
    "    cm = pd.crosstab(df['gt_change'], df['pred_change'], rownames=['Ground Truth'], colnames=['Prediction'])\n",
    "    \n",
    "    cm.to_csv(\"semantic_change_matrix\" + case + '.csv')\n",
    "\n",
    "if __name__ == '__main__':\n",
    "    gt_source_path = '../../../data/rasterized_samples/2018_rasterizedImage.tif'\n",
    "    gt_target_path = '../../../data/rasterized_samples/2019_rasterizedImage.tif'\n",
    "    \n",
    "    for case in ['1', '2', '3']:\n",
    "        pred_source_path = '../../../results/RF/2018_rf_case_'+ case +'_map.tif'\n",
    "        pred_target_path = '../../../results/RF/2019_rf_case_'+ case +'_map.tif'\n",
    "        outdir_ = '../../../results/RF/binary_change_D'\n",
    "        changeErrorCheck(case, gt_source_path, gt_target_path, pred_source_path, pred_target_path, outdir)"
   ]
  },
  {
   "cell_type": "code",
   "execution_count": null,
   "id": "96b4cfeb-e3d9-425a-8977-9a0f883f2cbb",
   "metadata": {},
   "outputs": [],
   "source": []
  }
 ],
 "metadata": {
  "kernelspec": {
   "display_name": "Python 3",
   "language": "python",
   "name": "python3"
  },
  "language_info": {
   "codemirror_mode": {
    "name": "ipython",
    "version": 3
   },
   "file_extension": ".py",
   "mimetype": "text/x-python",
   "name": "python",
   "nbconvert_exporter": "python",
   "pygments_lexer": "ipython3",
   "version": "3.7.1"
  }
 },
 "nbformat": 4,
 "nbformat_minor": 5
}
