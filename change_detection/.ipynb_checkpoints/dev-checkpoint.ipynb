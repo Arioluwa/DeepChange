{
 "cells": [
  {
   "cell_type": "code",
   "execution_count": 1,
   "id": "4388ee9b-cc0f-4f37-b58e-b7895fa711af",
   "metadata": {},
   "outputs": [],
   "source": [
    "import rasterio\n",
    "import numpy as np\n",
    "import pandas as pd\n",
    "import matplotlib.pyplot as plt\n",
    "from sklearn.metrics import confusion_matrix\n",
    "# from sklearn.metrics import precision_recall_curve\n",
    "from sklearn.metrics import precision_score\n",
    "from sklearn.metrics import recall_score\n",
    "from sklearn.metrics import f1_score \n",
    "from sklearn.metrics import roc_curve\n",
    "from sklearn.metrics import auc\n",
    "\n",
    "similarity_case_1_p = '../../../results/RF/simliarity_measure/case_1_ref_mask_similarity_measure.tif'\n",
    "# similarity_case_2_p = '../../../results/RF/simliarity_measure/case_2_ref_mask_similarity_measure.tif'\n",
    "# similarity_case_3_p = '../../../results/RF/simliarity_measure/case_3_ref_mask_similarity_measure.tif'\n",
    "\n",
    "gt_source_path  = '../../../data/rasterized_samples/2018_rasterizedImage.tif'\n",
    "gt_target_path = '../../../data/rasterized_samples/2019_rasterizedImage.tif'"
   ]
  },
  {
   "cell_type": "code",
   "execution_count": 2,
   "id": "074a1557-aba2-4a5c-b9c2-f4814af6e121",
   "metadata": {},
   "outputs": [],
   "source": [
    "similarity_case_1 = rasterio.open(similarity_case_1_p).read(1)\n",
    "\n",
    "gt_source = rasterio.open(gt_source_path).read(1)\n",
    "gt_target = rasterio.open(gt_target_path).read(1)"
   ]
  },
  {
   "cell_type": "code",
   "execution_count": 3,
   "id": "ae8595d9-da54-49e6-8a2c-fb5272770139",
   "metadata": {},
   "outputs": [],
   "source": [
    "# groud truth binary\n",
    "gt_mask_nodata = (gt_source != 0) & (gt_target != 0)\n",
    "gt_binary = np.where(gt_mask_nodata, np.where(gt_source == gt_target, 1, 2), 0) # reference binary change \n",
    "gt_binary_mask = np.ma.masked_array(gt_binary, mask=True) # returns all true mask\n",
    "gt_binary_mask.mask[gt_binary_mask.data != 0] = False # mask all non-zero mask\n",
    "gt_binary_values = gt_binary_mask.compressed()\n",
    "gt_binary_values[gt_binary_values == 1] = 0 # No-change\n",
    "gt_binary_values[gt_binary_values == 2] = 1 # Change"
   ]
  },
  {
   "cell_type": "code",
   "execution_count": 4,
   "id": "7610f994-d06f-46e7-be0c-31355cccb59f",
   "metadata": {},
   "outputs": [
    {
     "name": "stdout",
     "output_type": "stream",
     "text": [
      "2\n",
      "0\n",
      "[0 1 2]\n",
      "[0 1]\n"
     ]
    }
   ],
   "source": [
    "print(gt_binary.max())\n",
    "print(gt_binary.min())\n",
    "print(np.unique(gt_binary))\n",
    "print(np.unique(gt_binary_values))"
   ]
  },
  {
   "cell_type": "code",
   "execution_count": 5,
   "id": "5087cc02-a66e-4ce5-9ef6-973c3608d179",
   "metadata": {},
   "outputs": [],
   "source": [
    "# similarity mask [extract only where values in ground truth not equal null]\n",
    "similarity_case_1_mask = np.ma.masked_array(similarity_case_1, mask=True) # mask\n",
    "similarity_case_1_mask.mask[gt_binary_mask.data != 0] = False # extract according to ground truth data\n",
    "similarity_case_1_values = similarity_case_1_mask.compressed() # return single array"
   ]
  },
  {
   "cell_type": "code",
   "execution_count": 6,
   "id": "0bc727fc-764e-4160-adce-2b30bb8a5862",
   "metadata": {
    "tags": []
   },
   "outputs": [
    {
     "name": "stdout",
     "output_type": "stream",
     "text": [
      "0.0\n",
      "1.4130859\n"
     ]
    }
   ],
   "source": [
    "print(similarity_case_1_values.min())\n",
    "print(similarity_case_1_values.max())"
   ]
  },
  {
   "cell_type": "code",
   "execution_count": 7,
   "id": "a41d1518-a042-4ce7-99ff-a16035d763e3",
   "metadata": {},
   "outputs": [
    {
     "data": {
      "image/png": "[encoded data removed]",
      "text/plain": [
       "<Figure size 432x288 with 1 Axes>"
      ]
     },
     "metadata": {
      "needs_background": "light"
     },
     "output_type": "display_data"
    }
   ],
   "source": [
    "plt.hist(similarity_case_1_values, bins=10)\n",
    "plt.show()"
   ]
  },
  {
   "cell_type": "code",
   "execution_count": 8,
   "id": "05dd7ab8-a15b-43a5-9dc5-89b1dc52da3e",
   "metadata": {},
   "outputs": [
    {
     "data": {
      "text/plain": [
       "array([0.        , 0.15700955, 0.3140191 , 0.47102865, 0.62803819,\n",
       "       0.78504774, 0.94205729, 1.09906684, 1.25607639, 1.41308594])"
      ]
     },
     "execution_count": 8,
     "metadata": {},
     "output_type": "execute_result"
    }
   ],
   "source": [
    "# get equal threshold for similarity\n",
    "thresholds = np.linspace(similarity_case_1_values.min(), similarity_case_1_values.max(), 10)\n",
    "thresholds"
   ]
  },
  {
   "cell_type": "code",
   "execution_count": 9,
   "id": "96bec31d-7766-4d93-8a84-a32ef81a56d6",
   "metadata": {},
   "outputs": [],
   "source": [
    "# initiate metrics\n",
    "fscore_ = np.zeros(shape=(len(thresholds)))\n",
    "precision_ = np.zeros(shape=(len(thresholds)))\n",
    "recall_ = np.zeros(shape=(len(thresholds)))\n",
    "specificity_ = np.zeros(shape=(len(thresholds)))\n",
    "sensitivity_ = np.zeros(shape=(len(thresholds)))\n",
    "fpr = []\n",
    "tpr = []"
   ]
  },
  {
   "cell_type": "code",
   "execution_count": 11,
   "id": "2408525e-bc7d-43d0-8e06-86e8d4f39f35",
   "metadata": {},
   "outputs": [
    {
     "name": "stderr",
     "output_type": "stream",
     "text": [
      "/share/etud/e2008987/.conda/envs/python_env/lib/python3.7/site-packages/ipykernel_launcher.py:12: RuntimeWarning: invalid value encountered in long_scalars\n",
      "  if sys.path[0] == '':\n"
     ]
    }
   ],
   "source": [
    "# compute metrics for each threshold, at the same time compute the binary on the similarity using the provided threshold\n",
    "    # np.where(similarity_case_1_values >= elem, 1, 0) # where similarity measure (euclidean distance) is greater than threshold == 1 otherwise 0.\n",
    "for index, elem in enumerate(thresholds):\n",
    "    fscore_[index] = f1_score(gt_binary_values, np.where(similarity_case_1_values >= elem, 1, 0))\n",
    "    precision_[index] = precision_score(gt_binary_values, np.where(similarity_case_1_values >= elem, 1, 0))\n",
    "    recall_[index] = recall_score(gt_binary_values, np.where(similarity_case_1_values >= elem, 1, 0))\n",
    "    ### fpr[index], tpr[index], _ = roc_curve(gt_binary_values, np.where(similarity_case_1_values >= elem, 1, 0))\n",
    "    cm = confusion_matrix(gt_binary_values, np.where(similarity_case_1_values >= elem, 1, 0))\n",
    "    # specificity_[index] = cm[1,1] / (cm[1,0] + cm[1,1])\n",
    "    # sensitivity_[index] = cm[0,0] / (cm[0,0] + cm[0,1]) # the same a recall\n",
    "    fpr.append(cm[0,1]/(cm[0,1] + cm[1,1]))\n",
    "    tpr.append(cm[0,0]/(cm[0,0] + cm[1,0]))\n",
    "\n",
    "# https://stackoverflow.com/questions/34709576/runtimewarning-invalid-value-encountered-in-long-scalars\n",
    "# to get rid of the warning"
   ]
  },
  {
   "cell_type": "code",
   "execution_count": 12,
   "id": "942a5f91-02b9-4117-a32f-4e837e5f6823",
   "metadata": {},
   "outputs": [
    {
     "data": {
      "text/plain": [
       "[<matplotlib.lines.Line2D at 0x7f2e1ff78668>]"
      ]
     },
     "execution_count": 12,
     "metadata": {},
     "output_type": "execute_result"
    },
    {
     "data": {
      "image/png": "[encoded data removed]",
      "text/plain": [
       "<Figure size 432x288 with 1 Axes>"
      ]
     },
     "metadata": {
      "needs_background": "light"
     },
     "output_type": "display_data"
    }
   ],
   "source": [
    "plt.plot(fpr, tpr)"
   ]
  },
  {
   "cell_type": "code",
   "execution_count": 57,
   "id": "3c77c610-e385-4bac-9681-64dd23faf6c4",
   "metadata": {},
   "outputs": [
    {
     "data": {
      "text/plain": [
       "[<matplotlib.lines.Line2D at 0x7f663e236898>]"
      ]
     },
     "execution_count": 57,
     "metadata": {},
     "output_type": "execute_result"
    },
    {
     "data": {
      "image/png": "[encoded data removed]",
      "text/plain": [
       "<Figure size 432x288 with 1 Axes>"
      ]
     },
     "metadata": {
      "needs_background": "light"
     },
     "output_type": "display_data"
    }
   ],
   "source": [
    "plt.plot(specificity_, sensitivity_)"
   ]
  },
  {
   "cell_type": "code",
   "execution_count": null,
   "id": "8186af19-fc0d-4186-a03e-8fac9e528ae5",
   "metadata": {},
   "outputs": [
    {
     "data": {
      "text/plain": [
       "[<matplotlib.lines.Line2D at 0x7f663d7fe400>]"
      ]
     },
     "execution_count": 54,
     "metadata": {},
     "output_type": "execute_result"
    },
    {
     "data": {
      "image/png": "[encoded data removed]",
      "text/plain": [
       "<Figure size 432x288 with 1 Axes>"
      ]
     },
     "metadata": {
      "needs_background": "light"
     },
     "output_type": "display_data"
    }
   ],
   "source": [
    "plt.plot(sensitivity_, specificity_)"
   ]
  },
  {
   "cell_type": "code",
   "execution_count": 13,
   "id": "5b9ebf6b-206d-4e68-b8b0-bbe69a2e3f1b",
   "metadata": {},
   "outputs": [
    {
     "data": {
      "image/png": "[encoded data removed]",
      "text/plain": [
       "<Figure size 432x288 with 1 Axes>"
      ]
     },
     "metadata": {
      "needs_background": "light"
     },
     "output_type": "display_data"
    }
   ],
   "source": [
    "# plot Precision-Recall curve\n",
    "plt.plot(recall_, precision_, label='Precision-Recall curve')\n",
    "plt.xlabel('Recall')\n",
    "plt.ylabel('Precision')\n",
    "plt.title('Precision-Recall example: AUC={0:0.2f}'.format(\n",
    "    auc(recall_, precision_)))\n",
    "plt.show()\n",
    "# plt.legend(loc=\"lower left\")"
   ]
  },
  {
   "cell_type": "code",
   "execution_count": 14,
   "id": "ec64aeca-f4b0-4806-a43c-97f448fc17e6",
   "metadata": {},
   "outputs": [
    {
     "data": {
      "text/html": [
       "<div>\n",
       "<style scoped>\n",
       "    .dataframe tbody tr th:only-of-type {\n",
       "        vertical-align: middle;\n",
       "    }\n",
       "\n",
       "    .dataframe tbody tr th {\n",
       "        vertical-align: top;\n",
       "    }\n",
       "\n",
       "    .dataframe thead th {\n",
       "        text-align: right;\n",
       "    }\n",
       "</style>\n",
       "<table border=\"1\" class=\"dataframe\">\n",
       "  <thead>\n",
       "    <tr style=\"text-align: right;\">\n",
       "      <th></th>\n",
       "      <th>threshold</th>\n",
       "      <th>fscore</th>\n",
       "    </tr>\n",
       "  </thead>\n",
       "  <tbody>\n",
       "    <tr>\n",
       "      <th>0</th>\n",
       "      <td>0.000000</td>\n",
       "      <td>0.575761</td>\n",
       "    </tr>\n",
       "    <tr>\n",
       "      <th>1</th>\n",
       "      <td>0.157010</td>\n",
       "      <td>0.816063</td>\n",
       "    </tr>\n",
       "    <tr>\n",
       "      <th>2</th>\n",
       "      <td>0.314019</td>\n",
       "      <td>0.915390</td>\n",
       "    </tr>\n",
       "    <tr>\n",
       "      <th>3</th>\n",
       "      <td>0.471029</td>\n",
       "      <td>0.959120</td>\n",
       "    </tr>\n",
       "    <tr>\n",
       "      <th>4</th>\n",
       "      <td>0.628038</td>\n",
       "      <td>0.975272</td>\n",
       "    </tr>\n",
       "    <tr>\n",
       "      <th>5</th>\n",
       "      <td>0.785048</td>\n",
       "      <td>0.978049</td>\n",
       "    </tr>\n",
       "    <tr>\n",
       "      <th>6</th>\n",
       "      <td>0.942057</td>\n",
       "      <td>0.971360</td>\n",
       "    </tr>\n",
       "    <tr>\n",
       "      <th>7</th>\n",
       "      <td>1.099067</td>\n",
       "      <td>0.950937</td>\n",
       "    </tr>\n",
       "    <tr>\n",
       "      <th>8</th>\n",
       "      <td>1.256076</td>\n",
       "      <td>0.896287</td>\n",
       "    </tr>\n",
       "    <tr>\n",
       "      <th>9</th>\n",
       "      <td>1.413086</td>\n",
       "      <td>0.000440</td>\n",
       "    </tr>\n",
       "  </tbody>\n",
       "</table>\n",
       "</div>"
      ],
      "text/plain": [
       "   threshold    fscore\n",
       "0   0.000000  0.575761\n",
       "1   0.157010  0.816063\n",
       "2   0.314019  0.915390\n",
       "3   0.471029  0.959120\n",
       "4   0.628038  0.975272\n",
       "5   0.785048  0.978049\n",
       "6   0.942057  0.971360\n",
       "7   1.099067  0.950937\n",
       "8   1.256076  0.896287\n",
       "9   1.413086  0.000440"
      ]
     },
     "execution_count": 14,
     "metadata": {},
     "output_type": "execute_result"
    }
   ],
   "source": [
    "# F1 score table\n",
    "df_f1 = pd.DataFrame({'threshold': thresholds, 'fscore':fscore_})\n",
    "df_f1"
   ]
  },
  {
   "cell_type": "code",
   "execution_count": 15,
   "id": "aa61b97c-d40b-415f-8c61-c11a64d09b48",
   "metadata": {},
   "outputs": [],
   "source": [
    "# ROC curve\n",
    "# plt.figure()\n",
    "# for index, elem in enumerate(thresholds):\n",
    "#     plt.plot(fpr[index], tpr[index], label='Threshold: {0}'.format(elem))\n",
    "# plt.plot([0, 1], [0, 1], 'k--')\n",
    "# # plt.xlim([0.0, 1.0])\n",
    "# # plt.ylim([0.0, 1.05])\n",
    "# plt.legend()\n",
    "# plt.show()"
   ]
  },
  {
   "cell_type": "code",
   "execution_count": null,
   "id": "807fa101-ce35-4670-bc95-4a6b79e06cc3",
   "metadata": {},
   "outputs": [],
   "source": []
  }
 ],
 "metadata": {
  "kernelspec": {
   "display_name": "Python 3",
   "language": "python",
   "name": "python3"
  },
  "language_info": {
   "codemirror_mode": {
    "name": "ipython",
    "version": 3
   },
   "file_extension": ".py",
   "mimetype": "text/x-python",
   "name": "python",
   "nbconvert_exporter": "python",
   "pygments_lexer": "ipython3",
   "version": "3.7.1"
  }
 },
 "nbformat": 4,
 "nbformat_minor": 5
}
