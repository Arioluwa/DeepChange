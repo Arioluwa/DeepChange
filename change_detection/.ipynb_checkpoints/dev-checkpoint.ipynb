{
 "cells": [
  {
   "cell_type": "code",
   "execution_count": 1,
   "id": "4388ee9b-cc0f-4f37-b58e-b7895fa711af",
   "metadata": {},
   "outputs": [],
   "source": [
    "import rasterio\n",
    "import numpy as np\n",
    "import pandas as pd\n",
    "import matplotlib.pyplot as plt\n",
    "import heapq\n",
    "# from sklearn.metrics import confusion_matrix\n",
    "# # from sklearn.metrics import precision_recall_curve\n",
    "# from sklearn.metrics import precision_score\n",
    "# from sklearn.metrics import average_precision_score\n",
    "# from sklearn.metrics import recall_score\n",
    "from sklearn.metrics import f1_score \n",
    "# from sklearn.metrics import roc_curve\n",
    "# from sklearn.metrics import auc\n",
    "# from skimage.filters import threshold_otsu\n",
    "# similarity_case_1_p = '../../../results/RF/simliarity_measure/case_1_ref_mask_similarity_measure.tif'\n",
    "# similarity_case_2_p = '../../../results/RF/simliarity_measure/case_2_ref_mask_similarity_measure.tif'\n",
    "# similarity_case_3_p = '../../../results/RF/simliarity_measure/case_3_ref_mask_similarity_measure.tif'\n",
    "binary_change_map = '../../../results/RF/binary_change_D/change_map_case_1.tif'\n",
    "similarity_change_map = '../../../results/RF/simliarity_measure/optimal_threshold/sim-change_map_case_1.tif'\n",
    "source_proba_distr = '../../../results/RF/simliarity_measure/2018_rf_model_1.npy'\n",
    "target_proba_distri = '../../../results/RF/simliarity_measure/2019_rf_model_1.npy'\n",
    "\n",
    "gt_source_path  = '../../../data/rasterized_samples/2018_rasterizedImage.tif'\n",
    "gt_target_path = '../../../data/rasterized_samples/2019_rasterizedImage.tif'"
   ]
  },
  {
   "cell_type": "code",
   "execution_count": 2,
   "id": "76acefc8-b7ed-49fb-a270-a8be375b0e89",
   "metadata": {},
   "outputs": [],
   "source": [
    "source_proba = np.load(source_proba_distr)"
   ]
  },
  {
   "cell_type": "code",
   "execution_count": null,
   "id": "de5673ac-4246-469e-9927-88f93acaa116",
   "metadata": {},
   "outputs": [],
   "source": [
    "source_proba_maxs = np.apply_along_axis(lambda x: heapq.nlargest(2, x), axis=1, arr = source_proba)\n",
    "# import heapq\n"
   ]
  },
  {
   "cell_type": "code",
   "execution_count": null,
   "id": "7548520a-ae9f-4aae-8803-6420baa5dfde",
   "metadata": {},
   "outputs": [],
   "source": [
    "uncertainty = source_proba_maxs[:,0] - source_proba_maxs[:,1]"
   ]
  },
  {
   "cell_type": "code",
   "execution_count": null,
   "id": "3a3b428f-8afd-480b-8971-895a2eabc199",
   "metadata": {},
   "outputs": [],
   "source": [
    "def changeErrorCheck(\n",
    "    change_map,\n",
    "    case,\n",
    "    gt_source,\n",
    "    gt_target,\n",
    "    pred_source,\n",
    "    pred_target, \n",
    "    outdir):\n",
    "\n",
    "    \"\"\"\n",
    "    Base on the error in the change map and confusion matrix, the No Change to Change category is inspected to know the source of error.\n",
    "\n",
    "    Input: raster files (change map, rasterized reference image(source and target), predicted image(source and target))\n",
    "\n",
    "    Output: csv table with the error source (error occurences combination) and summarized error count.\n",
    "        gt_source | gt_target | predicted_ source | predicted_target\n",
    "    Note: Source and Target in the case are 2018 and 2019 respectively\n",
    "    \"\"\"\n",
    "\n",
    "    # read rasters\n",
    "    change_map_raster = rasterio.open(change_map).read(1)\n",
    "    gt_source_raster = rasterio.open(gt_source).read(1)\n",
    "    gt_target_raster = rasterio.open(gt_target).read(1)\n",
    "    pred_source_raster = rasterio.open(pred_source).read(1)\n",
    "    pred_target_raster = rasterio.open(pred_target).read(1)\n",
    "    \n",
    "    # from change_map_raster, return  where value == 2 \n",
    "    change_mask = np.ma.masked_array(change_map_raster, mask=True)\n",
    "\n",
    "    # write a function to optimize the above code\n",
    "    def mask_and_extract(array, mask_array, mask_value):\n",
    "        array = np.ma.masked_array(array, mask=True)\n",
    "        array.mask[mask_array.data == mask_value] = False\n",
    "        array_value = np.ma.compressed(array) #array_value = array.compressed()\n",
    "        return array_value\n",
    "\n",
    "    gt_source_ = mask_and_extract(gt_source_raster, change_mask, 2)\n",
    "    gt_target_ = mask_and_extract(gt_target_raster, change_mask, 2)\n",
    "    pred_source_ = mask_and_extract(pred_source_raster, change_mask, 2)\n",
    "    pred_target_ = mask_and_extract(pred_target_raster, change_mask, 2)\n"
   ]
  }
 ],
 "metadata": {
  "kernelspec": {
   "display_name": "Python 3",
   "language": "python",
   "name": "python3"
  },
  "language_info": {
   "codemirror_mode": {
    "name": "ipython",
    "version": 3
   },
   "file_extension": ".py",
   "mimetype": "text/x-python",
   "name": "python",
   "nbconvert_exporter": "python",
   "pygments_lexer": "ipython3",
   "version": "3.7.1"
  }
 },
 "nbformat": 4,
 "nbformat_minor": 5
}
