{
 "cells": [
  {
   "cell_type": "code",
   "execution_count": 20,
   "metadata": {},
   "outputs": [],
   "source": [
    "import rasterio\n",
    "import numpy as np\n",
    "import matplotlib.pyplot as plt\n",
    "change_map = '../../../results/RF/change_D/change_map_case_3.tif'\n",
    "gt_source  = '../../../data/rasterized_samples/2018_rasterizedImage.tif'\n",
    "gt_target = '../../../data/rasterized_samples/2019_rasterizedImage.tif'\n",
    "pred_source = '../../../results/RF/2018_rf_model_3_map.tif'\n",
    "pred_target = '../../../results/RF/2019_rf_model_3_map.tif'\n",
    "\n",
    "# src = rasterio.open(r).read(1)\n",
    "# src.shape"
   ]
  },
  {
   "cell_type": "code",
   "execution_count": 8,
   "metadata": {},
   "outputs": [
    {
     "data": {
      "text/plain": [
       "{'driver': 'GTiff', 'dtype': 'float32', 'nodata': 0.0, 'width': 10980, 'height': 10980, 'count': 1, 'crs': CRS.from_wkt('PROJCS[\"WGS 84 / UTM zone 31N\",GEOGCS[\"WGS 84\",DATUM[\"WGS_1984\",SPHEROID[\"WGS 84\",6378137,298.257223563,AUTHORITY[\"EPSG\",\"7030\"]],AUTHORITY[\"EPSG\",\"6326\"]],PRIMEM[\"Greenwich\",0],UNIT[\"degree\",0.0174532925199433,AUTHORITY[\"EPSG\",\"9122\"]],AUTHORITY[\"EPSG\",\"4326\"]],PROJECTION[\"Transverse_Mercator\"],PARAMETER[\"latitude_of_origin\",0],PARAMETER[\"central_meridian\",3],PARAMETER[\"scale_factor\",0.9996],PARAMETER[\"false_easting\",500000],PARAMETER[\"false_northing\",0],UNIT[\"metre\",1,AUTHORITY[\"EPSG\",\"9001\"]],AXIS[\"Easting\",EAST],AXIS[\"Northing\",NORTH],AUTHORITY[\"EPSG\",\"32631\"]]'), 'transform': Affine(10.0, 0.0, 300000.0,\n",
       "       0.0, -10.0, 4900020.0), 'tiled': False, 'interleave': 'band'}"
      ]
     },
     "execution_count": 8,
     "metadata": {},
     "output_type": "execute_result"
    }
   ],
   "source": [
    "profile"
   ]
  },
  {
   "cell_type": "code",
   "execution_count": 5,
   "metadata": {},
   "outputs": [],
   "source": [
    "change_map_raster = rasterio.open(change_map).read(1)\n",
    "gt_source_raster = rasterio.open(gt_source).read(1)\n",
    "gt_target_raster = rasterio.open(gt_target).read(1)\n",
    "pred_source_raster = rasterio.open(pred_source).read(1)\n",
    "pred_target_raster = rasterio.open(pred_target).read(1)"
   ]
  },
  {
   "cell_type": "code",
   "execution_count": 15,
   "metadata": {},
   "outputs": [],
   "source": [
    "gt_mask_nodata = (gt_source_raster == 0) & (gt_target_raster == 0)"
   ]
  },
  {
   "cell_type": "code",
   "execution_count": 16,
   "metadata": {},
   "outputs": [
    {
     "data": {
      "text/plain": [
       "(10980, 10980)"
      ]
     },
     "execution_count": 16,
     "metadata": {},
     "output_type": "execute_result"
    }
   ],
   "source": [
    "gt_mask_nodata.shape"
   ]
  },
  {
   "cell_type": "code",
   "execution_count": 21,
   "metadata": {},
   "outputs": [],
   "source": [
    "eudist = '../../../results/RF/simliarity_measure/model_1_similarity_measure.tif'\n",
    "dist = rasterio.open(eudist).read(1)"
   ]
  },
  {
   "cell_type": "code",
   "execution_count": 22,
   "metadata": {},
   "outputs": [],
   "source": [
    "dist[gt_mask_nodata]= -999."
   ]
  },
  {
   "cell_type": "code",
   "execution_count": 23,
   "metadata": {},
   "outputs": [
    {
     "data": {
      "text/plain": [
       "array([[-999., -999., -999., ..., -999., -999., -999.],\n",
       "       [-999., -999., -999., ..., -999., -999., -999.],\n",
       "       [-999., -999., -999., ..., -999., -999., -999.],\n",
       "       ...,\n",
       "       [-999., -999., -999., ..., -999., -999., -999.],\n",
       "       [-999., -999., -999., ..., -999., -999., -999.],\n",
       "       [-999., -999., -999., ..., -999., -999., -999.]], dtype=float32)"
      ]
     },
     "execution_count": 23,
     "metadata": {},
     "output_type": "execute_result"
    }
   ],
   "source": [
    "dist"
   ]
  },
  {
   "cell_type": "code",
   "execution_count": 3,
   "metadata": {},
   "outputs": [],
   "source": [
    "change_mask = np.ma.masked_array(change_map_raster, mask=True)\n",
    "# change_map_raster_mask.mask[change_map_raster_mask.data == 2] = False"
   ]
  },
  {
   "cell_type": "code",
   "execution_count": 4,
   "metadata": {},
   "outputs": [],
   "source": [
    "def mask_and_extract(array, mask_array, mask_value):\n",
    "        array = np.ma.masked_array(array, mask=True)\n",
    "        array.mask[mask_array.data == mask_value] = False\n",
    "        array_value = np.ma.compressed(array)\n",
    "        return array_value\n",
    "    "
   ]
  },
  {
   "cell_type": "code",
   "execution_count": 5,
   "metadata": {},
   "outputs": [],
   "source": [
    "gt_source_ = mask_and_extract(gt_source_raster, change_mask, 2)\n",
    "gt_target_ = mask_and_extract(gt_target_raster, change_mask, 2)\n",
    "pred_source_ = mask_and_extract(pred_source_raster, change_mask, 2)\n",
    "pred_target_ = mask_and_extract(pred_target_raster, change_mask, 2)"
   ]
  },
  {
   "cell_type": "code",
   "execution_count": 6,
   "metadata": {},
   "outputs": [],
   "source": [
    "import pandas as pd\n",
    "df = pd.DataFrame({'gt_source': gt_source_, 'gt_target': gt_target_, 'pred_source': pred_source_, 'pred_target': pred_target_})"
   ]
  },
  {
   "cell_type": "code",
   "execution_count": 7,
   "metadata": {},
   "outputs": [],
   "source": [
    "label = ['Dense built-up area', 'Diffuse built-up area', 'Industrial and commercial areas', 'Roads', 'Oilseeds (Rapeseed)', 'Straw cereals (Wheat, Triticale, Barley)', 'Protein crops (Beans / Peas)', 'Soy', 'Sunflower', 'Corn',  'Tubers/roots', 'Grasslands', 'Orchards and fruit growing', 'Vineyards', 'Hardwood forest', 'Softwood forest', 'Natural grasslands and pastures', 'Woody moorlands', 'Water']"
   ]
  },
  {
   "cell_type": "code",
   "execution_count": 8,
   "metadata": {},
   "outputs": [],
   "source": [
    "df['gt_source'] = df['gt_source'].map(dict(zip(range(1, len(label) + 1), label)))\n",
    "df['gt_target'] = df['gt_target'].map(dict(zip(range(1, len(label) + 1), label)))\n",
    "df['pred_source'] = df['pred_source'].map(dict(zip(range(1, len(label) + 1), label)))\n",
    "df['pred_target'] = df['pred_target'].map(dict(zip(range(1, len(label) + 1), label)))"
   ]
  },
  {
   "cell_type": "code",
   "execution_count": 31,
   "metadata": {},
   "outputs": [],
   "source": [
    "# df.reset_index(drop=True, inplace=True)"
   ]
  },
  {
   "cell_type": "code",
   "execution_count": 32,
   "metadata": {},
   "outputs": [],
   "source": [
    "df.to_csv('t.csv', index=False)"
   ]
  },
  {
   "cell_type": "code",
   "execution_count": 20,
   "metadata": {},
   "outputs": [],
   "source": [
    "err_df = df.groupby(['pred_source', 'pred_target']).size()\n",
    "errorstat_df = err_df.to_frame(name= 'count').reset_index()\n",
    "errorstat_df.sort_values(by=['count'], ascending=False, inplace=True)\n",
    "errorstat_df = errorstat_df[errorstat_df['pred_source'] != errorstat_df['pred_target']]\n",
    "errorstat_df['error'] = errorstat_df.apply(lambda x: str(x['pred_source']) + ' -> ' + str(x['pred_target']), axis=1)"
   ]
  },
  {
   "cell_type": "code",
   "execution_count": 22,
   "metadata": {},
   "outputs": [
    {
     "data": {
      "text/plain": [
       "Text(0.5, 0, 'Prediction error')"
      ]
     },
     "execution_count": 22,
     "metadata": {},
     "output_type": "execute_result"
    },
    {
     "data": {
      "text/plain": [
       "<Figure size 2520x1080 with 0 Axes>"
      ]
     },
     "metadata": {},
     "output_type": "display_data"
    },
    {
     "data": {
      "image/png": "[encoded data removed]",
      "text/plain": [
       "<Figure size 432x288 with 1 Axes>"
      ]
     },
     "metadata": {
      "needs_background": "light"
     },
     "output_type": "display_data"
    }
   ],
   "source": [
    "plt.figure(figsize=(35,15))\n",
    "errorstat_df = errorstat_df.head(20)\n",
    "errorstat_df.plot.bar(x='error', y='count', rot=90)\n",
    "plt.xlabel('Prediction error')\n",
    "# plt.title('First 20 class changes error count')\n",
    "# plt.savefig(os.path.join(outdir, output_name +'.png'), bbox_inches=\"tight\")"
   ]
  },
  {
   "cell_type": "code",
   "execution_count": 45,
   "metadata": {},
   "outputs": [
    {
     "data": {
      "text/html": [
       "<div>\n",
       "<style scoped>\n",
       "    .dataframe tbody tr th:only-of-type {\n",
       "        vertical-align: middle;\n",
       "    }\n",
       "\n",
       "    .dataframe tbody tr th {\n",
       "        vertical-align: top;\n",
       "    }\n",
       "\n",
       "    .dataframe thead th {\n",
       "        text-align: right;\n",
       "    }\n",
       "</style>\n",
       "<table border=\"1\" class=\"dataframe\">\n",
       "  <thead>\n",
       "    <tr style=\"text-align: right;\">\n",
       "      <th></th>\n",
       "      <th>pred_source</th>\n",
       "      <th>pred_target</th>\n",
       "      <th>gt_source</th>\n",
       "      <th>gt_target</th>\n",
       "      <th>count</th>\n",
       "    </tr>\n",
       "  </thead>\n",
       "  <tbody>\n",
       "    <tr>\n",
       "      <th>0</th>\n",
       "      <td>Corn</td>\n",
       "      <td>Dense built-up area</td>\n",
       "      <td>Dense built-up area</td>\n",
       "      <td>Dense built-up area</td>\n",
       "      <td>3</td>\n",
       "    </tr>\n",
       "    <tr>\n",
       "      <th>1</th>\n",
       "      <td>Corn</td>\n",
       "      <td>Diffuse built-up area</td>\n",
       "      <td>Corn</td>\n",
       "      <td>Corn</td>\n",
       "      <td>7</td>\n",
       "    </tr>\n",
       "    <tr>\n",
       "      <th>2</th>\n",
       "      <td>Corn</td>\n",
       "      <td>Diffuse built-up area</td>\n",
       "      <td>Dense built-up area</td>\n",
       "      <td>Dense built-up area</td>\n",
       "      <td>19</td>\n",
       "    </tr>\n",
       "    <tr>\n",
       "      <th>3</th>\n",
       "      <td>Corn</td>\n",
       "      <td>Diffuse built-up area</td>\n",
       "      <td>Diffuse built-up area</td>\n",
       "      <td>Diffuse built-up area</td>\n",
       "      <td>29</td>\n",
       "    </tr>\n",
       "    <tr>\n",
       "      <th>4</th>\n",
       "      <td>Corn</td>\n",
       "      <td>Diffuse built-up area</td>\n",
       "      <td>Industrial and commercial areas</td>\n",
       "      <td>Industrial and commercial areas</td>\n",
       "      <td>33</td>\n",
       "    </tr>\n",
       "    <tr>\n",
       "      <th>...</th>\n",
       "      <td>...</td>\n",
       "      <td>...</td>\n",
       "      <td>...</td>\n",
       "      <td>...</td>\n",
       "      <td>...</td>\n",
       "    </tr>\n",
       "    <tr>\n",
       "      <th>1374</th>\n",
       "      <td>Woody moorlands</td>\n",
       "      <td>Water</td>\n",
       "      <td>Natural grasslands and pastures</td>\n",
       "      <td>Natural grasslands and pastures</td>\n",
       "      <td>8</td>\n",
       "    </tr>\n",
       "    <tr>\n",
       "      <th>1375</th>\n",
       "      <td>Woody moorlands</td>\n",
       "      <td>Water</td>\n",
       "      <td>Orchards and fruit growing</td>\n",
       "      <td>Orchards and fruit growing</td>\n",
       "      <td>63</td>\n",
       "    </tr>\n",
       "    <tr>\n",
       "      <th>1376</th>\n",
       "      <td>Woody moorlands</td>\n",
       "      <td>Water</td>\n",
       "      <td>Softwood forest</td>\n",
       "      <td>Softwood forest</td>\n",
       "      <td>90</td>\n",
       "    </tr>\n",
       "    <tr>\n",
       "      <th>1377</th>\n",
       "      <td>Woody moorlands</td>\n",
       "      <td>Water</td>\n",
       "      <td>Water</td>\n",
       "      <td>Water</td>\n",
       "      <td>1449</td>\n",
       "    </tr>\n",
       "    <tr>\n",
       "      <th>1378</th>\n",
       "      <td>Woody moorlands</td>\n",
       "      <td>Water</td>\n",
       "      <td>Woody moorlands</td>\n",
       "      <td>Woody moorlands</td>\n",
       "      <td>260</td>\n",
       "    </tr>\n",
       "  </tbody>\n",
       "</table>\n",
       "<p>1379 rows × 5 columns</p>\n",
       "</div>"
      ],
      "text/plain": [
       "          pred_source            pred_target                        gt_source  \\\n",
       "0                Corn    Dense built-up area              Dense built-up area   \n",
       "1                Corn  Diffuse built-up area                             Corn   \n",
       "2                Corn  Diffuse built-up area              Dense built-up area   \n",
       "3                Corn  Diffuse built-up area            Diffuse built-up area   \n",
       "4                Corn  Diffuse built-up area  Industrial and commercial areas   \n",
       "...               ...                    ...                              ...   \n",
       "1374  Woody moorlands                  Water  Natural grasslands and pastures   \n",
       "1375  Woody moorlands                  Water       Orchards and fruit growing   \n",
       "1376  Woody moorlands                  Water                  Softwood forest   \n",
       "1377  Woody moorlands                  Water                            Water   \n",
       "1378  Woody moorlands                  Water                  Woody moorlands   \n",
       "\n",
       "                            gt_target  count  \n",
       "0                 Dense built-up area      3  \n",
       "1                                Corn      7  \n",
       "2                 Dense built-up area     19  \n",
       "3               Diffuse built-up area     29  \n",
       "4     Industrial and commercial areas     33  \n",
       "...                               ...    ...  \n",
       "1374  Natural grasslands and pastures      8  \n",
       "1375       Orchards and fruit growing     63  \n",
       "1376                  Softwood forest     90  \n",
       "1377                            Water   1449  \n",
       "1378                  Woody moorlands    260  \n",
       "\n",
       "[1379 rows x 5 columns]"
      ]
     },
     "execution_count": 45,
     "metadata": {},
     "output_type": "execute_result"
    }
   ],
   "source": [
    "df_grouped = df.groupby(['pred_source', 'pred_target', 'gt_source', 'gt_target']).size()\n",
    "dfg = df_grouped.to_frame(name = 'count').reset_index()\n",
    "dfg"
   ]
  },
  {
   "cell_type": "code",
   "execution_count": 46,
   "metadata": {},
   "outputs": [
    {
     "data": {
      "text/html": [
       "<div>\n",
       "<style scoped>\n",
       "    .dataframe tbody tr th:only-of-type {\n",
       "        vertical-align: middle;\n",
       "    }\n",
       "\n",
       "    .dataframe tbody tr th {\n",
       "        vertical-align: top;\n",
       "    }\n",
       "\n",
       "    .dataframe thead th {\n",
       "        text-align: right;\n",
       "    }\n",
       "</style>\n",
       "<table border=\"1\" class=\"dataframe\">\n",
       "  <thead>\n",
       "    <tr style=\"text-align: right;\">\n",
       "      <th></th>\n",
       "      <th>pred_source</th>\n",
       "      <th>pred_target</th>\n",
       "      <th>gt_source</th>\n",
       "      <th>gt_target</th>\n",
       "      <th>count</th>\n",
       "    </tr>\n",
       "  </thead>\n",
       "  <tbody>\n",
       "    <tr>\n",
       "      <th>94</th>\n",
       "      <td>Diffuse built-up area</td>\n",
       "      <td>Industrial and commercial areas</td>\n",
       "      <td>Industrial and commercial areas</td>\n",
       "      <td>Industrial and commercial areas</td>\n",
       "      <td>90854</td>\n",
       "    </tr>\n",
       "    <tr>\n",
       "      <th>560</th>\n",
       "      <td>Orchards and fruit growing</td>\n",
       "      <td>Industrial and commercial areas</td>\n",
       "      <td>Industrial and commercial areas</td>\n",
       "      <td>Industrial and commercial areas</td>\n",
       "      <td>23432</td>\n",
       "    </tr>\n",
       "    <tr>\n",
       "      <th>327</th>\n",
       "      <td>Industrial and commercial areas</td>\n",
       "      <td>Roads</td>\n",
       "      <td>Roads</td>\n",
       "      <td>Roads</td>\n",
       "      <td>21128</td>\n",
       "    </tr>\n",
       "    <tr>\n",
       "      <th>1077</th>\n",
       "      <td>Sunflower</td>\n",
       "      <td>Soy</td>\n",
       "      <td>Soy</td>\n",
       "      <td>Soy</td>\n",
       "      <td>18525</td>\n",
       "    </tr>\n",
       "    <tr>\n",
       "      <th>391</th>\n",
       "      <td>Industrial and commercial areas</td>\n",
       "      <td>Vineyards</td>\n",
       "      <td>Vineyards</td>\n",
       "      <td>Vineyards</td>\n",
       "      <td>14313</td>\n",
       "    </tr>\n",
       "    <tr>\n",
       "      <th>...</th>\n",
       "      <td>...</td>\n",
       "      <td>...</td>\n",
       "      <td>...</td>\n",
       "      <td>...</td>\n",
       "      <td>...</td>\n",
       "    </tr>\n",
       "    <tr>\n",
       "      <th>492</th>\n",
       "      <td>Oilseeds (Rapeseed)</td>\n",
       "      <td>Soy</td>\n",
       "      <td>Corn</td>\n",
       "      <td>Corn</td>\n",
       "      <td>1</td>\n",
       "    </tr>\n",
       "    <tr>\n",
       "      <th>490</th>\n",
       "      <td>Oilseeds (Rapeseed)</td>\n",
       "      <td>Protein crops (Beans / Peas)</td>\n",
       "      <td>Industrial and commercial areas</td>\n",
       "      <td>Industrial and commercial areas</td>\n",
       "      <td>1</td>\n",
       "    </tr>\n",
       "    <tr>\n",
       "      <th>486</th>\n",
       "      <td>Oilseeds (Rapeseed)</td>\n",
       "      <td>Orchards and fruit growing</td>\n",
       "      <td>Sunflower</td>\n",
       "      <td>Sunflower</td>\n",
       "      <td>1</td>\n",
       "    </tr>\n",
       "    <tr>\n",
       "      <th>1197</th>\n",
       "      <td>Vineyards</td>\n",
       "      <td>Water</td>\n",
       "      <td>Orchards and fruit growing</td>\n",
       "      <td>Orchards and fruit growing</td>\n",
       "      <td>1</td>\n",
       "    </tr>\n",
       "    <tr>\n",
       "      <th>689</th>\n",
       "      <td>Roads</td>\n",
       "      <td>Diffuse built-up area</td>\n",
       "      <td>Woody moorlands</td>\n",
       "      <td>Woody moorlands</td>\n",
       "      <td>1</td>\n",
       "    </tr>\n",
       "  </tbody>\n",
       "</table>\n",
       "<p>1379 rows × 5 columns</p>\n",
       "</div>"
      ],
      "text/plain": [
       "                          pred_source                      pred_target  \\\n",
       "94              Diffuse built-up area  Industrial and commercial areas   \n",
       "560        Orchards and fruit growing  Industrial and commercial areas   \n",
       "327   Industrial and commercial areas                            Roads   \n",
       "1077                        Sunflower                              Soy   \n",
       "391   Industrial and commercial areas                        Vineyards   \n",
       "...                               ...                              ...   \n",
       "492               Oilseeds (Rapeseed)                              Soy   \n",
       "490               Oilseeds (Rapeseed)     Protein crops (Beans / Peas)   \n",
       "486               Oilseeds (Rapeseed)       Orchards and fruit growing   \n",
       "1197                        Vineyards                            Water   \n",
       "689                             Roads            Diffuse built-up area   \n",
       "\n",
       "                            gt_source                        gt_target  count  \n",
       "94    Industrial and commercial areas  Industrial and commercial areas  90854  \n",
       "560   Industrial and commercial areas  Industrial and commercial areas  23432  \n",
       "327                             Roads                            Roads  21128  \n",
       "1077                              Soy                              Soy  18525  \n",
       "391                         Vineyards                        Vineyards  14313  \n",
       "...                               ...                              ...    ...  \n",
       "492                              Corn                             Corn      1  \n",
       "490   Industrial and commercial areas  Industrial and commercial areas      1  \n",
       "486                         Sunflower                        Sunflower      1  \n",
       "1197       Orchards and fruit growing       Orchards and fruit growing      1  \n",
       "689                   Woody moorlands                  Woody moorlands      1  \n",
       "\n",
       "[1379 rows x 5 columns]"
      ]
     },
     "execution_count": 46,
     "metadata": {},
     "output_type": "execute_result"
    }
   ],
   "source": [
    "dfg.sort_values(by=['count'], ascending=False, inplace=True)\n",
    "dfg"
   ]
  },
  {
   "cell_type": "code",
   "execution_count": 41,
   "metadata": {},
   "outputs": [],
   "source": [
    "dfg.to_csv('group.csv', index=False)"
   ]
  },
  {
   "cell_type": "code",
   "execution_count": 42,
   "metadata": {},
   "outputs": [],
   "source": [
    "# the comparison of both the \n",
    "err2 = dfg.groupby(['pred_source', 'pred_target']).size()"
   ]
  },
  {
   "cell_type": "code",
   "execution_count": 43,
   "metadata": {},
   "outputs": [
    {
     "data": {
      "text/html": [
       "<div>\n",
       "<style scoped>\n",
       "    .dataframe tbody tr th:only-of-type {\n",
       "        vertical-align: middle;\n",
       "    }\n",
       "\n",
       "    .dataframe tbody tr th {\n",
       "        vertical-align: top;\n",
       "    }\n",
       "\n",
       "    .dataframe thead th {\n",
       "        text-align: right;\n",
       "    }\n",
       "</style>\n",
       "<table border=\"1\" class=\"dataframe\">\n",
       "  <thead>\n",
       "    <tr style=\"text-align: right;\">\n",
       "      <th></th>\n",
       "      <th>pred_source</th>\n",
       "      <th>pred_target</th>\n",
       "      <th>count</th>\n",
       "    </tr>\n",
       "  </thead>\n",
       "  <tbody>\n",
       "    <tr>\n",
       "      <th>67</th>\n",
       "      <td>Industrial and commercial areas</td>\n",
       "      <td>Straw cereals (Wheat, Triticale, Barley)</td>\n",
       "      <td>16</td>\n",
       "    </tr>\n",
       "    <tr>\n",
       "      <th>62</th>\n",
       "      <td>Industrial and commercial areas</td>\n",
       "      <td>Orchards and fruit growing</td>\n",
       "      <td>15</td>\n",
       "    </tr>\n",
       "    <tr>\n",
       "      <th>111</th>\n",
       "      <td>Orchards and fruit growing</td>\n",
       "      <td>Straw cereals (Wheat, Triticale, Barley)</td>\n",
       "      <td>15</td>\n",
       "    </tr>\n",
       "    <tr>\n",
       "      <th>196</th>\n",
       "      <td>Sunflower</td>\n",
       "      <td>Straw cereals (Wheat, Triticale, Barley)</td>\n",
       "      <td>14</td>\n",
       "    </tr>\n",
       "    <tr>\n",
       "      <th>31</th>\n",
       "      <td>Diffuse built-up area</td>\n",
       "      <td>Straw cereals (Wheat, Triticale, Barley)</td>\n",
       "      <td>14</td>\n",
       "    </tr>\n",
       "    <tr>\n",
       "      <th>...</th>\n",
       "      <td>...</td>\n",
       "      <td>...</td>\n",
       "      <td>...</td>\n",
       "    </tr>\n",
       "    <tr>\n",
       "      <th>97</th>\n",
       "      <td>Oilseeds (Rapeseed)</td>\n",
       "      <td>Water</td>\n",
       "      <td>1</td>\n",
       "    </tr>\n",
       "    <tr>\n",
       "      <th>96</th>\n",
       "      <td>Oilseeds (Rapeseed)</td>\n",
       "      <td>Vineyards</td>\n",
       "      <td>1</td>\n",
       "    </tr>\n",
       "    <tr>\n",
       "      <th>92</th>\n",
       "      <td>Oilseeds (Rapeseed)</td>\n",
       "      <td>Roads</td>\n",
       "      <td>1</td>\n",
       "    </tr>\n",
       "    <tr>\n",
       "      <th>87</th>\n",
       "      <td>Oilseeds (Rapeseed)</td>\n",
       "      <td>Grasslands</td>\n",
       "      <td>1</td>\n",
       "    </tr>\n",
       "    <tr>\n",
       "      <th>0</th>\n",
       "      <td>Corn</td>\n",
       "      <td>Dense built-up area</td>\n",
       "      <td>1</td>\n",
       "    </tr>\n",
       "  </tbody>\n",
       "</table>\n",
       "<p>240 rows × 3 columns</p>\n",
       "</div>"
      ],
      "text/plain": [
       "                         pred_source  \\\n",
       "67   Industrial and commercial areas   \n",
       "62   Industrial and commercial areas   \n",
       "111       Orchards and fruit growing   \n",
       "196                        Sunflower   \n",
       "31             Diffuse built-up area   \n",
       "..                               ...   \n",
       "97               Oilseeds (Rapeseed)   \n",
       "96               Oilseeds (Rapeseed)   \n",
       "92               Oilseeds (Rapeseed)   \n",
       "87               Oilseeds (Rapeseed)   \n",
       "0                               Corn   \n",
       "\n",
       "                                  pred_target  count  \n",
       "67   Straw cereals (Wheat, Triticale, Barley)     16  \n",
       "62                 Orchards and fruit growing     15  \n",
       "111  Straw cereals (Wheat, Triticale, Barley)     15  \n",
       "196  Straw cereals (Wheat, Triticale, Barley)     14  \n",
       "31   Straw cereals (Wheat, Triticale, Barley)     14  \n",
       "..                                        ...    ...  \n",
       "97                                      Water      1  \n",
       "96                                  Vineyards      1  \n",
       "92                                      Roads      1  \n",
       "87                                 Grasslands      1  \n",
       "0                         Dense built-up area      1  \n",
       "\n",
       "[240 rows x 3 columns]"
      ]
     },
     "execution_count": 43,
     "metadata": {},
     "output_type": "execute_result"
    }
   ],
   "source": [
    "err2_df = err2.to_frame(name = 'count').reset_index()\n",
    "err2_df.sort_values(by=['count'], ascending=False, inplace=True)\n",
    "err2_df.to_csv('error.csv', index=False)"
   ]
  },
  {
   "cell_type": "code",
   "execution_count": 44,
   "metadata": {},
   "outputs": [
    {
     "data": {
      "text/html": [
       "<div>\n",
       "<style scoped>\n",
       "    .dataframe tbody tr th:only-of-type {\n",
       "        vertical-align: middle;\n",
       "    }\n",
       "\n",
       "    .dataframe tbody tr th {\n",
       "        vertical-align: top;\n",
       "    }\n",
       "\n",
       "    .dataframe thead th {\n",
       "        text-align: right;\n",
       "    }\n",
       "</style>\n",
       "<table border=\"1\" class=\"dataframe\">\n",
       "  <thead>\n",
       "    <tr style=\"text-align: right;\">\n",
       "      <th></th>\n",
       "      <th>pred_source</th>\n",
       "      <th>pred_target</th>\n",
       "      <th>count</th>\n",
       "      <th>change</th>\n",
       "    </tr>\n",
       "  </thead>\n",
       "  <tbody>\n",
       "    <tr>\n",
       "      <th>23</th>\n",
       "      <td>Diffuse built-up area</td>\n",
       "      <td>Industrial and commercial areas</td>\n",
       "      <td>102176</td>\n",
       "      <td>Diffuse built-up area -&gt; Industrial and commer...</td>\n",
       "    </tr>\n",
       "    <tr>\n",
       "      <th>104</th>\n",
       "      <td>Orchards and fruit growing</td>\n",
       "      <td>Industrial and commercial areas</td>\n",
       "      <td>30638</td>\n",
       "      <td>Orchards and fruit growing -&gt; Industrial and c...</td>\n",
       "    </tr>\n",
       "    <tr>\n",
       "      <th>64</th>\n",
       "      <td>Industrial and commercial areas</td>\n",
       "      <td>Roads</td>\n",
       "      <td>22072</td>\n",
       "      <td>Industrial and commercial areas -&gt; Roads</td>\n",
       "    </tr>\n",
       "    <tr>\n",
       "      <th>195</th>\n",
       "      <td>Sunflower</td>\n",
       "      <td>Soy</td>\n",
       "      <td>20046</td>\n",
       "      <td>Sunflower -&gt; Soy</td>\n",
       "    </tr>\n",
       "    <tr>\n",
       "      <th>57</th>\n",
       "      <td>Industrial and commercial areas</td>\n",
       "      <td>Diffuse built-up area</td>\n",
       "      <td>15893</td>\n",
       "      <td>Industrial and commercial areas -&gt; Diffuse bui...</td>\n",
       "    </tr>\n",
       "    <tr>\n",
       "      <th>...</th>\n",
       "      <td>...</td>\n",
       "      <td>...</td>\n",
       "      <td>...</td>\n",
       "      <td>...</td>\n",
       "    </tr>\n",
       "    <tr>\n",
       "      <th>38</th>\n",
       "      <td>Grasslands</td>\n",
       "      <td>Hardwood forest</td>\n",
       "      <td>1</td>\n",
       "      <td>Grasslands -&gt; Hardwood forest</td>\n",
       "    </tr>\n",
       "    <tr>\n",
       "      <th>19</th>\n",
       "      <td>Dense built-up area</td>\n",
       "      <td>Straw cereals (Wheat, Triticale, Barley)</td>\n",
       "      <td>1</td>\n",
       "      <td>Dense built-up area -&gt; Straw cereals (Wheat, T...</td>\n",
       "    </tr>\n",
       "    <tr>\n",
       "      <th>36</th>\n",
       "      <td>Grasslands</td>\n",
       "      <td>Corn</td>\n",
       "      <td>1</td>\n",
       "      <td>Grasslands -&gt; Corn</td>\n",
       "    </tr>\n",
       "    <tr>\n",
       "      <th>87</th>\n",
       "      <td>Oilseeds (Rapeseed)</td>\n",
       "      <td>Grasslands</td>\n",
       "      <td>1</td>\n",
       "      <td>Oilseeds (Rapeseed) -&gt; Grasslands</td>\n",
       "    </tr>\n",
       "    <tr>\n",
       "      <th>167</th>\n",
       "      <td>Straw cereals (Wheat, Triticale, Barley)</td>\n",
       "      <td>Dense built-up area</td>\n",
       "      <td>1</td>\n",
       "      <td>Straw cereals (Wheat, Triticale, Barley) -&gt; De...</td>\n",
       "    </tr>\n",
       "  </tbody>\n",
       "</table>\n",
       "<p>240 rows × 4 columns</p>\n",
       "</div>"
      ],
      "text/plain": [
       "                                  pred_source  \\\n",
       "23                      Diffuse built-up area   \n",
       "104                Orchards and fruit growing   \n",
       "64            Industrial and commercial areas   \n",
       "195                                 Sunflower   \n",
       "57            Industrial and commercial areas   \n",
       "..                                        ...   \n",
       "38                                 Grasslands   \n",
       "19                        Dense built-up area   \n",
       "36                                 Grasslands   \n",
       "87                        Oilseeds (Rapeseed)   \n",
       "167  Straw cereals (Wheat, Triticale, Barley)   \n",
       "\n",
       "                                  pred_target   count  \\\n",
       "23            Industrial and commercial areas  102176   \n",
       "104           Industrial and commercial areas   30638   \n",
       "64                                      Roads   22072   \n",
       "195                                       Soy   20046   \n",
       "57                      Diffuse built-up area   15893   \n",
       "..                                        ...     ...   \n",
       "38                            Hardwood forest       1   \n",
       "19   Straw cereals (Wheat, Triticale, Barley)       1   \n",
       "36                                       Corn       1   \n",
       "87                                 Grasslands       1   \n",
       "167                       Dense built-up area       1   \n",
       "\n",
       "                                                change  \n",
       "23   Diffuse built-up area -> Industrial and commer...  \n",
       "104  Orchards and fruit growing -> Industrial and c...  \n",
       "64            Industrial and commercial areas -> Roads  \n",
       "195                                   Sunflower -> Soy  \n",
       "57   Industrial and commercial areas -> Diffuse bui...  \n",
       "..                                                 ...  \n",
       "38                       Grasslands -> Hardwood forest  \n",
       "19   Dense built-up area -> Straw cereals (Wheat, T...  \n",
       "36                                  Grasslands -> Corn  \n",
       "87                   Oilseeds (Rapeseed) -> Grasslands  \n",
       "167  Straw cereals (Wheat, Triticale, Barley) -> De...  \n",
       "\n",
       "[240 rows x 4 columns]"
      ]
     },
     "execution_count": 44,
     "metadata": {},
     "output_type": "execute_result"
    }
   ],
   "source": [
    "errorstat_df"
   ]
  },
  {
   "cell_type": "code",
   "execution_count": 23,
   "metadata": {},
   "outputs": [],
   "source": [
    "import rasterio\n",
    "from rasterio.features import shapes\n",
    "import pandas as pd\n",
    "\n",
    "import matplotlib.pyplot as plt\n",
    "import os\n",
    "import time \n",
    "import pandas as pd\n",
    "def changeErrorCheck(\n",
    "    change_map,\n",
    "    gt_source,\n",
    "    gt_target,\n",
    "    pred_source,\n",
    "    pred_target, \n",
    "    outdir):\n",
    "\n",
    "    \"\"\"\n",
    "    Base on the error in the change map and confusion matrix, the No Change to Change category is inspected to know the source of error.\n",
    "\n",
    "    Input: raster files (change map, rasterized reference image(source and target), predicted image(source and target))\n",
    "\n",
    "    Output: csv table with the error source (error occurences combination) and summarized error count.\n",
    "        gt_source | gt_target | predicted_ source | predicted_target\n",
    "    Note: Source and Target in the case are 2018 and 2019 respectively\n",
    "    \"\"\"\n",
    "\n",
    "    # read rasters\n",
    "    change_map_raster = rasterio.open(change_map).read(1)\n",
    "    gt_source_raster = rasterio.open(gt_source).read(1)\n",
    "    gt_target_raster = rasterio.open(gt_target).read(1)\n",
    "    pred_source_raster = rasterio.open(pred_source).read(1)\n",
    "    pred_target_raster = rasterio.open(pred_target).read(1)\n",
    "    \n",
    "    # from change_map_raster, return  where value == 2 \n",
    "    change_mask = np.ma.masked_array(change_map_raster, mask=True)\n",
    "\n",
    "    # write a function to optimize the above code\n",
    "    def mask_and_extract(array, mask_array, mask_value):\n",
    "        array = np.ma.masked_array(array, mask=True)\n",
    "        array.mask[mask_array.data == mask_value] = False\n",
    "        array_value = np.ma.compressed(array)\n",
    "        # \n",
    "        return array_value\n",
    "\n",
    "    gt_source_ = mask_and_extract(gt_source_raster, change_mask, 2)\n",
    "    gt_target_ = mask_and_extract(gt_target_raster, change_mask, 2)\n",
    "    pred_source_ = mask_and_extract(pred_source_raster, change_mask, 2)\n",
    "    pred_target_ = mask_and_extract(pred_target_raster, change_mask, 2)\n",
    "\n",
    "    # create a dataframe with gt_source_, gt_target_, pred_source_, pred_target_\n",
    "    df = pd.DataFrame({'gt_source': gt_source_, 'gt_target': gt_target_, 'pred_source': pred_source_, 'pred_target': pred_target_})\n",
    "\n",
    "    label = ['Dense built-up area', 'Diffuse built-up area', 'Industrial and commercial areas', 'Roads', 'Oilseeds (Rapeseed)', 'Straw cereals (Wheat, Triticale, Barley)', 'Protein crops (Beans / Peas)', 'Soy', 'Sunflower', 'Corn',  'Tubers/roots', 'Grasslands', 'Orchards and fruit growing', 'Vineyards', 'Hardwood forest', 'Softwood forest', 'Natural grasslands and pastures', 'Woody moorlands', 'Water']\n",
    "    \n",
    "    # rename class to label\n",
    "    df['gt_source'] = df['gt_source'].map(dict(zip(range(1, len(label) + 1), label)))\n",
    "    df['gt_target'] = df['gt_target'].map(dict(zip(range(1, len(label) + 1), label)))\n",
    "    df['pred_source'] = df['pred_source'].map(dict(zip(range(1, len(label) + 1), label)))\n",
    "    df['pred_target'] = df['pred_target'].map(dict(zip(range(1, len(label) + 1), label)))\n",
    "\n",
    "\n",
    "    # check the error\n",
    "    err_df = df.groupby(['pred_source', 'pred_target']).size()\n",
    "    errorstat_df = err_df.to_frame(name= 'count').reset_index()\n",
    "    errorstat_df.sort_values(by=['count'], ascending=False, inplace=True)\n",
    "    errorstat_df = errorstat_df[errorstat_df['pred_source'] != errorstat_df['pred_target']]\n",
    "    errorstat_df['error'] = errorstat_df.apply(lambda x: str(x['pred_source']) + ' -> ' + str(x['pred_target']), axis=1)\n",
    "    \n",
    "    # output name and dir\n",
    "    output_name = os.path.basename(change_map).split('.')[-2]\n",
    "    output_name = output_name.split('_')[-2:]\n",
    "    output_name = '_'.join(output_name)\n",
    "    \n",
    "    # save the error table\n",
    "    df.to_csv(os.path.join(outdir, 'error_table' + output_name +'.csv'), index=False)\n",
    "    errorstat_df.to_csv(os.path.join(outdir, 'error_count_' + output_name +'.csv'), False)\n",
    "    \n",
    "    plt.figure(figsize=(35,15))\n",
    "    errorstat_df = errorstat_df.head(20)\n",
    "    errorstat_df.plot.bar(x='error', y='count', rot=90)\n",
    "    # xlabel to prediction error\n",
    "    plt.xlabel('Prediction error')\n",
    "    plt.title('First 20 class changes error count')\n",
    "    plt.savefig(os.path.join(outdir, output_name +'.png'), bbox_inches=\"tight\")\n",
    "    # errorstat_df.to_csv(os.path.join(outdir, output_name +'.csv'))\n",
    "    # return ncc_gdf\n",
    "\n",
    "if __name__ == 'main':\n",
    "    gt_source = '../../../data/sample_shapefiles/samples_oso2018_T31TCJ.shp'\n",
    "    gt_target = '../../../data/sample_shapefiles/samples_oso2019_T31TCJ.shp'\n",
    "\n",
    "    for case in ['1', '2', '3']:\n",
    "        start_time = time.time()\n",
    "        change_map = os.path.join('../../../results/RF/change_D/change_map_model_', case, '.tif')\n",
    "        pred_source = os.path.join('../../../results/RF/2018_rf_model_', case, '_map.tif.tif')\n",
    "        pred_target = os.path.join('../../../results/RF/2019_rf_model_', case, '_map.tif.tif')\n",
    "        outdir = '../../../results/RF/change_D/errorstats'\n",
    "        changeErrorCheck(change_map, gt_source, gt_target, pred_source, pred_target, outdir)\n",
    "        print(\"Run time: %s minutes for case %s\" % ((time.time() - start_time)/60) , case)\n"
   ]
  },
  {
   "cell_type": "code",
   "execution_count": 13,
   "metadata": {},
   "outputs": [],
   "source": [
    "# gt_source_mask_value = np.ma.compressed(gt_source_mask)\n",
    "# gt_target_mask_value = np.ma.compressed(gt_target_mask)\n",
    "# pred_source_mask_value = np.ma.compressed(pred_source_mask)\n",
    "# pred_target_mask_value = np.ma.compressed(pred_target_mask)"
   ]
  },
  {
   "cell_type": "code",
   "execution_count": 29,
   "metadata": {},
   "outputs": [
    {
     "data": {
      "text/plain": [
       "True"
      ]
     },
     "execution_count": 29,
     "metadata": {},
     "output_type": "execute_result"
    }
   ],
   "source": [
    "# gt_source_mask_value.shape == pred_target_mask_value.shape"
   ]
  },
  {
   "cell_type": "code",
   "execution_count": 21,
   "metadata": {},
   "outputs": [
    {
     "data": {
      "text/plain": [
       "(502046,)"
      ]
     },
     "execution_count": 21,
     "metadata": {},
     "output_type": "execute_result"
    }
   ],
   "source": [
    "change_map_raster_mask_extract.shape"
   ]
  },
  {
   "cell_type": "code",
   "execution_count": 9,
   "metadata": {},
   "outputs": [
    {
     "ename": "RasterioIOError",
     "evalue": "2018_rasterizedImage.tif: No such file or directory",
     "output_type": "error",
     "traceback": [
      "\u001b[0;31m---------------------------------------------------------------------------\u001b[0m",
      "\u001b[0;31mCPLE_OpenFailedError\u001b[0m                      Traceback (most recent call last)",
      "\u001b[0;32mrasterio/_base.pyx\u001b[0m in \u001b[0;36mrasterio._base.DatasetBase.__init__\u001b[0;34m()\u001b[0m\n",
      "\u001b[0;32mrasterio/_shim.pyx\u001b[0m in \u001b[0;36mrasterio._shim.open_dataset\u001b[0;34m()\u001b[0m\n",
      "\u001b[0;32mrasterio/_err.pyx\u001b[0m in \u001b[0;36mrasterio._err.exc_wrap_pointer\u001b[0;34m()\u001b[0m\n",
      "\u001b[0;31mCPLE_OpenFailedError\u001b[0m: 2018_rasterizedImage.tif: No such file or directory",
      "\nDuring handling of the above exception, another exception occurred:\n",
      "\u001b[0;31mRasterioIOError\u001b[0m                           Traceback (most recent call last)",
      "\u001b[0;32m<ipython-input-9-2949a545970b>\u001b[0m in \u001b[0;36m<module>\u001b[0;34m\u001b[0m\n\u001b[0;32m----> 1\u001b[0;31m \u001b[0mgt_2018\u001b[0m \u001b[0;34m=\u001b[0m \u001b[0mrasterio\u001b[0m\u001b[0;34m.\u001b[0m\u001b[0mopen\u001b[0m\u001b[0;34m(\u001b[0m\u001b[0;34m'2018_rasterizedImage.tif'\u001b[0m\u001b[0;34m)\u001b[0m\u001b[0;34m.\u001b[0m\u001b[0mread\u001b[0m\u001b[0;34m(\u001b[0m\u001b[0;36m1\u001b[0m\u001b[0;34m)\u001b[0m\u001b[0;34m\u001b[0m\u001b[0;34m\u001b[0m\u001b[0m\n\u001b[0m\u001b[1;32m      2\u001b[0m \u001b[0mgt_2019\u001b[0m \u001b[0;34m=\u001b[0m \u001b[0mrasterio\u001b[0m\u001b[0;34m.\u001b[0m\u001b[0mopen\u001b[0m\u001b[0;34m(\u001b[0m\u001b[0;34m'2019_rasterizedImage.tif'\u001b[0m\u001b[0;34m)\u001b[0m\u001b[0;34m.\u001b[0m\u001b[0mread\u001b[0m\u001b[0;34m(\u001b[0m\u001b[0;36m1\u001b[0m\u001b[0;34m)\u001b[0m\u001b[0;34m\u001b[0m\u001b[0;34m\u001b[0m\u001b[0m\n\u001b[1;32m      3\u001b[0m \u001b[0;34m\u001b[0m\u001b[0m\n\u001b[1;32m      4\u001b[0m \u001b[0;34m\u001b[0m\u001b[0m\n\u001b[1;32m      5\u001b[0m \u001b[0mclassfi_map_18_model_1\u001b[0m \u001b[0;34m=\u001b[0m \u001b[0mrasterio\u001b[0m\u001b[0;34m.\u001b[0m\u001b[0mopen\u001b[0m\u001b[0;34m(\u001b[0m\u001b[0mclassfi_map_18_model_2_path\u001b[0m\u001b[0;34m)\u001b[0m\u001b[0;34m.\u001b[0m\u001b[0mread\u001b[0m\u001b[0;34m(\u001b[0m\u001b[0;36m1\u001b[0m\u001b[0;34m)\u001b[0m\u001b[0;34m\u001b[0m\u001b[0;34m\u001b[0m\u001b[0m\n",
      "\u001b[0;32m~/.conda/envs/python_env/lib/python3.7/site-packages/rasterio/env.py\u001b[0m in \u001b[0;36mwrapper\u001b[0;34m(*args, **kwds)\u001b[0m\n\u001b[1;32m    435\u001b[0m \u001b[0;34m\u001b[0m\u001b[0m\n\u001b[1;32m    436\u001b[0m         \u001b[0;32mwith\u001b[0m \u001b[0menv_ctor\u001b[0m\u001b[0;34m(\u001b[0m\u001b[0msession\u001b[0m\u001b[0;34m=\u001b[0m\u001b[0msession\u001b[0m\u001b[0;34m)\u001b[0m\u001b[0;34m:\u001b[0m\u001b[0;34m\u001b[0m\u001b[0;34m\u001b[0m\u001b[0m\n\u001b[0;32m--> 437\u001b[0;31m             \u001b[0;32mreturn\u001b[0m \u001b[0mf\u001b[0m\u001b[0;34m(\u001b[0m\u001b[0;34m*\u001b[0m\u001b[0margs\u001b[0m\u001b[0;34m,\u001b[0m \u001b[0;34m**\u001b[0m\u001b[0mkwds\u001b[0m\u001b[0;34m)\u001b[0m\u001b[0;34m\u001b[0m\u001b[0;34m\u001b[0m\u001b[0m\n\u001b[0m\u001b[1;32m    438\u001b[0m \u001b[0;34m\u001b[0m\u001b[0m\n\u001b[1;32m    439\u001b[0m     \u001b[0;32mreturn\u001b[0m \u001b[0mwrapper\u001b[0m\u001b[0;34m\u001b[0m\u001b[0;34m\u001b[0m\u001b[0m\n",
      "\u001b[0;32m~/.conda/envs/python_env/lib/python3.7/site-packages/rasterio/__init__.py\u001b[0m in \u001b[0;36mopen\u001b[0;34m(fp, mode, driver, width, height, count, crs, transform, dtype, nodata, sharing, **kwargs)\u001b[0m\n\u001b[1;32m    218\u001b[0m         \u001b[0;31m# None.\u001b[0m\u001b[0;34m\u001b[0m\u001b[0;34m\u001b[0m\u001b[0;34m\u001b[0m\u001b[0m\n\u001b[1;32m    219\u001b[0m         \u001b[0;32mif\u001b[0m \u001b[0mmode\u001b[0m \u001b[0;34m==\u001b[0m \u001b[0;34m'r'\u001b[0m\u001b[0;34m:\u001b[0m\u001b[0;34m\u001b[0m\u001b[0;34m\u001b[0m\u001b[0m\n\u001b[0;32m--> 220\u001b[0;31m             \u001b[0ms\u001b[0m \u001b[0;34m=\u001b[0m \u001b[0mDatasetReader\u001b[0m\u001b[0;34m(\u001b[0m\u001b[0mpath\u001b[0m\u001b[0;34m,\u001b[0m \u001b[0mdriver\u001b[0m\u001b[0;34m=\u001b[0m\u001b[0mdriver\u001b[0m\u001b[0;34m,\u001b[0m \u001b[0msharing\u001b[0m\u001b[0;34m=\u001b[0m\u001b[0msharing\u001b[0m\u001b[0;34m,\u001b[0m \u001b[0;34m**\u001b[0m\u001b[0mkwargs\u001b[0m\u001b[0;34m)\u001b[0m\u001b[0;34m\u001b[0m\u001b[0;34m\u001b[0m\u001b[0m\n\u001b[0m\u001b[1;32m    221\u001b[0m         \u001b[0;32melif\u001b[0m \u001b[0mmode\u001b[0m \u001b[0;34m==\u001b[0m \u001b[0;34m\"r+\"\u001b[0m\u001b[0;34m:\u001b[0m\u001b[0;34m\u001b[0m\u001b[0;34m\u001b[0m\u001b[0m\n\u001b[1;32m    222\u001b[0m             s = get_writer_for_path(path, driver=driver)(\n",
      "\u001b[0;32mrasterio/_base.pyx\u001b[0m in \u001b[0;36mrasterio._base.DatasetBase.__init__\u001b[0;34m()\u001b[0m\n",
      "\u001b[0;31mRasterioIOError\u001b[0m: 2018_rasterizedImage.tif: No such file or directory"
     ]
    }
   ],
   "source": [
    "# gt_2018 = rasterio.open('2018_rasterizedImage.tif').read(1)\n",
    "# gt_2019 = rasterio.open('2019_rasterizedImage.tif').read(1)\n",
    "\n",
    "\n",
    "# classfi_map_18_model_1 = rasterio.open(classfi_map_18_model_2_path).read(1)\n",
    "# classfi_map_19_model_1 = rasterio.open(classfi_map_19_model_3_path).read(1)\n",
    "# with rasterio.open(classfi_map_18_model_2_path) as src:\n",
    "#     transform = src.transform\n",
    "#     width = src.width\n",
    "#     height = src.height\n",
    "#     profile = src.profile\n",
    "#     profile['nodata'] = 0.0\n",
    "    \n",
    "# # compute binary comparison mask where gt_2018 is not 0, 1, 2, 3, 4, 23 and gt_2019 is not 0, 1, 2, 3, 4, 23\n",
    "# gt_mask = (gt_2018 != 0) & (gt_2018 != 1) & (gt_2018 != 2) & (gt_2018 != 3) & (gt_2018 != 4) & (gt_2018 != 23) & (gt_2019 != 0) & (gt_2019 != 1) & (gt_2019 != 2) & (gt_2019 != 3) & (gt_2019 != 4) & (gt_2019 != 23)\n",
    "# # gt_mask = (gt_2018 != 0) & (gt_2019 != 0)\n",
    "\n",
    "# # where mask is true, if gt_2018 == gt_2019, set to 1, else set to 0\n",
    "# gt_binary = np.where(gt_mask, np.where(gt_2018 == gt_2019, 1, 2), 0)\n",
    "\n",
    "# # write gt_binary to a new raster file\n",
    "# # with rasterio.open('gt_binary_withcomeclasse.tif', 'w', **profile) as dst:\n",
    "# #     dst.write(gt_binary, 1)\n",
    "# # classification map binary comparison\n",
    "# classfi_binary = np.where(classfi_map_18_model_1 == classfi_map_19_model_1, 1, 2)"
   ]
  },
  {
   "cell_type": "code",
   "execution_count": null,
   "metadata": {},
   "outputs": [],
   "source": []
  }
 ],
 "metadata": {
  "interpreter": {
   "hash": "e38d1b7c6fa1584c154d3945271714c9a8c8ae23c3332553eb4d033ec2a2fa71"
  },
  "kernelspec": {
   "display_name": "Python 3",
   "language": "python",
   "name": "python3"
  },
  "language_info": {
   "codemirror_mode": {
    "name": "ipython",
    "version": 3
   },
   "file_extension": ".py",
   "mimetype": "text/x-python",
   "name": "python",
   "nbconvert_exporter": "python",
   "pygments_lexer": "ipython3",
   "version": "3.7.1"
  }
 },
 "nbformat": 4,
 "nbformat_minor": 4
}
