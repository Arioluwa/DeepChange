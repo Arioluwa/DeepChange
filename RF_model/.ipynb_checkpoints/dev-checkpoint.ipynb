{
 "cells": [
  {
   "cell_type": "code",
   "execution_count": 1,
   "metadata": {},
   "outputs": [],
   "source": [
    "import rasterio\n",
    "import numpy as np\n",
    "import matplotlib.pyplot as plt\n",
    "change_map = '../../../results/RF/change_D/change_map_case_3.tif'\n",
    "similarity_ = '../../../results/RF/simliarity_measure/model_1_ref_mask_similarity_measure.tif'\n",
    "\n",
    "gt_source  = '../../../data/rasterized_samples/2018_rasterizedImage.tif'\n",
    "gt_target = '../../../data/rasterized_samples/2019_rasterizedImage.tif'\n",
    "# pred_source = '../../../results/RF/2018_rf_model_3_map.tif'\n",
    "# pred_target = '../../../results/RF/2019_rf_model_3_map.tif'\n",
    "\n",
    "# src = rasterio.open(r).read(1)\n",
    "# src.shape"
   ]
  },
  {
   "cell_type": "code",
   "execution_count": 2,
   "metadata": {},
   "outputs": [],
   "source": [
    "# gt_source = rasterio.open(gt_source_path).read(1)\n",
    "# gt_target = rasterio.open(gt_target_path).read(1)"
   ]
  },
  {
   "cell_type": "code",
   "execution_count": 2,
   "metadata": {},
   "outputs": [],
   "source": [
    "change_map_raster = rasterio.open(change_map).read(1)\n",
    "similarity_map = rasterio.open(similarity_).read(1)\n",
    "gt_source_raster = rasterio.open(gt_source).read(1)\n",
    "gt_target_raster = rasterio.open(gt_target).read(1)\n",
    "# pred_source_raster = rasterio.open(pred_source).read(1)\n",
    "# pred_target_raster = rasterio.open(pred_target).read(1)"
   ]
  },
  {
   "cell_type": "code",
   "execution_count": 3,
   "metadata": {},
   "outputs": [],
   "source": [
    "gt_mask_nodata = (gt_source_raster != 0) & (gt_target_raster != 0)\n",
    "gt_binary = np.where(gt_mask_nodata, np.where(gt_source == gt_target, 1, 2), 0) \n",
    "gt_binary_mask = np.ma.masked_array(gt_binary, mask=True) # returns all true mask\n",
    "gt_binary_mask.mask[gt_binary_mask.data != 0] = False # mask all non-zero mask\n",
    "gt_binary_values = np.ma.compressed(gt_binary_mask)"
   ]
  },
  {
   "cell_type": "code",
   "execution_count": 4,
   "metadata": {},
   "outputs": [
    {
     "data": {
      "text/plain": [
       "array([2])"
      ]
     },
     "execution_count": 4,
     "metadata": {},
     "output_type": "execute_result"
    }
   ],
   "source": [
    "np.unique(gt_binary_values)"
   ]
  },
  {
   "cell_type": "code",
   "execution_count": 5,
   "metadata": {},
   "outputs": [],
   "source": [
    "gt_binary_values[gt_binary_values == 1] = 0\n",
    "gt_binary_values[gt_binary_values == 2] = 1"
   ]
  },
  {
   "cell_type": "code",
   "execution_count": 7,
   "metadata": {},
   "outputs": [
    {
     "data": {
      "text/plain": [
       "array([1])"
      ]
     },
     "execution_count": 7,
     "metadata": {},
     "output_type": "execute_result"
    }
   ],
   "source": [
    "np.unique(gt_binary_values)"
   ]
  },
  {
   "cell_type": "code",
   "execution_count": 11,
   "metadata": {},
   "outputs": [],
   "source": [
    "mask_nonzero = np.ma.masked_array(change_map_raster, mask=True)\n",
    "mask_nonzero.mask[mask_nonzero.data !=0] = False"
   ]
  },
  {
   "cell_type": "code",
   "execution_count": 19,
   "metadata": {},
   "outputs": [],
   "source": [
    "change = np.ma.compressed(mask_nonzero)\n",
    "similarity_non_nodata_value = np.ma.masked_array(similarity_map, mask=True)\n",
    "similarity_non_nodata_value.mask[mask_nonzero.data !=0] = False\n",
    "similarity = np.ma.compressed(similarity_non_nodata_value)"
   ]
  },
  {
   "cell_type": "code",
   "execution_count": 20,
   "metadata": {},
   "outputs": [
    {
     "name": "stdout",
     "output_type": "stream",
     "text": [
      "(4021720,)\n",
      "(4021720,)\n"
     ]
    }
   ],
   "source": [
    "print(change.shape)\n",
    "print(similarity.shape)"
   ]
  },
  {
   "cell_type": "code",
   "execution_count": 37,
   "metadata": {},
   "outputs": [
    {
     "name": "stderr",
     "output_type": "stream",
     "text": [
      "/share/etud/e2008987/.conda/envs/python_env/lib/python3.7/site-packages/sklearn/metrics/_ranking.py:780: UndefinedMetricWarning: No negative samples in y_true, false positive value should be meaningless\n",
      "  UndefinedMetricWarning)\n"
     ]
    }
   ],
   "source": [
    "from sklearn.metrics import roc_curve\n",
    "fpr, tpr, thresholds = roc_curve(gt_binary_values, similarity)"
   ]
  },
  {
   "cell_type": "code",
   "execution_count": 42,
   "metadata": {},
   "outputs": [
    {
     "data": {
      "text/plain": [
       "[<matplotlib.lines.Line2D at 0x7ff19815fb70>]"
      ]
     },
     "execution_count": 42,
     "metadata": {},
     "output_type": "execute_result"
    },
    {
     "data": {
      "image/png": "[encoded data removed]",
      "text/plain": [
       "<Figure size 432x288 with 1 Axes>"
      ]
     },
     "metadata": {
      "needs_background": "light"
     },
     "output_type": "display_data"
    }
   ],
   "source": [
    "plt.plot(tpr)"
   ]
  },
  {
   "cell_type": "markdown",
   "metadata": {
    "tags": []
   },
   "source": [
    "<!-- Hello Charlotte,\n",
    "I've fixed the binary change detection \"error inspection\" on pixel-based.\n",
    "I'm currently working on the optimal threshold using the ROC curve; I have few things to clearify.\n",
    "\n",
    "Based on the documentation of sklearn roc_curve, I will need to provide a y_true (binary) and y_score (non-thresholded measure of decisions). In my case, I understand the similarity measure(the output of the euclidean distance) will be the y_score. I was wondering what to use as the y_true.\n",
    "\n",
    "What I tried out (I want to know whether I'm on the right track or I've missing, please.):\n",
    "    I've used the binary change/no-change of between the two reference dataset as the y_true.\n",
    "       I got an warning message: UndefinedMetricWarning: No negative samples in y_true, false positive value should be meaningless UndefinedMetricWarning).\n",
    "<!--        And the fpr (False Positive rate) came with all nan. -->\n",
    "       \n",
    "\n",
    "Also, from this medium post, I noticed there are few method to get the optimal threshold (G-mean and  Precision-Recall curve and F1-score); which would one do you think I should go with? \n",
    "\n",
    "Note: I've already provide writen out maps of similarity measure only within the areas of available reference data on both years.\n",
    "\n",
    "from sklearn.metrics import roc_curve\n",
    " -->"
   ]
  },
  {
   "cell_type": "code",
   "execution_count": null,
   "metadata": {},
   "outputs": [],
   "source": []
  }
 ],
 "metadata": {
  "interpreter": {
   "hash": "e38d1b7c6fa1584c154d3945271714c9a8c8ae23c3332553eb4d033ec2a2fa71"
  },
  "kernelspec": {
   "display_name": "Python 3",
   "language": "python",
   "name": "python3"
  },
  "language_info": {
   "codemirror_mode": {
    "name": "ipython",
    "version": 3
   },
   "file_extension": ".py",
   "mimetype": "text/x-python",
   "name": "python",
   "nbconvert_exporter": "python",
   "pygments_lexer": "ipython3",
   "version": "3.7.1"
  }
 },
 "nbformat": 4,
 "nbformat_minor": 4
}
