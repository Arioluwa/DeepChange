{
 "cells": [
  {
   "cell_type": "code",
   "execution_count": 1,
   "id": "7bd5be76-00c4-4b1f-a13e-01d3363f78f3",
   "metadata": {},
   "outputs": [],
   "source": [
    "import numpy as np \n",
    "import torch\n",
    "from torch.utils.data import Dataset\n",
    "from torch.utils.data import DataLoader"
   ]
  },
  {
   "cell_type": "code",
   "execution_count": 2,
   "id": "7c6d5304-58bc-4f79-a0dc-7c330339592a",
   "metadata": {},
   "outputs": [],
   "source": [
    "def load_npz(file_path):\n",
    "    \"\"\"\n",
    "    Load data from a .npz file\n",
    "    \"\"\"\n",
    "    with np.load(file_path) as data:\n",
    "        X = data[\"X\"]\n",
    "        y = data[\"y\"]\n",
    "        # polygon_ids = data[\"polygon_ids\"]\n",
    "        block_ids = data[\"block_id\"]\n",
    "    return X, y, block_ids#, polygon_ids"
   ]
  },
  {
   "cell_type": "code",
   "execution_count": 6,
   "id": "36ad15af-e878-4441-82d6-f5b71f1c6f15",
   "metadata": {},
   "outputs": [],
   "source": [
    "def read_ids(file_path):\n",
    "    \"\"\"\n",
    "    Read ids from file\n",
    "    \"\"\"\n",
    "    with open(file_path, \"r\") as f:\n",
    "        lines = f.readlines()\n",
    "        Train_ids = eval(lines[0].split(\":\")[1])\n",
    "        test_ids = eval(lines[1].split(\":\")[1])\n",
    "        # Eval_ids = eval(lines[2].split(\":\")[1])\n",
    "    return Train_ids, test_ids#, Eval_ids"
   ]
  },
  {
   "cell_type": "code",
   "execution_count": 3,
   "id": "c02d69bb-d983-4f71-a2ff-211631e703b7",
   "metadata": {},
   "outputs": [],
   "source": [
    "source_sits = \"../../../data/theiaL2A_zip_img/output/2018/2018_SITS_data.npz\"\n",
    "target_sits = \"../../../data/theiaL2A_zip_img/output/2019/2019_SITS_data.npz\"\n",
    "train_val_eval = \"train_val_eval.txt\""
   ]
  },
  {
   "cell_type": "code",
   "execution_count": 9,
   "id": "0c11ac7b-8d22-43e3-b827-45f5d34237f9",
   "metadata": {},
   "outputs": [],
   "source": [
    "# read the set ids\n",
    "train_ids, test_ids = read_ids(train_val_eval)\n",
    "set_ = 'trainval'\n",
    "        # case selection\n",
    "if set_ == 'trainval':\n",
    "    ids = train_ids\n",
    "elif set_ == 'test':\n",
    "    ids = test_ids\n"
   ]
  },
  {
   "cell_type": "code",
   "execution_count": 4,
   "id": "ae2eebeb-d295-49d4-8bc5-c09cf898687b",
   "metadata": {},
   "outputs": [],
   "source": [
    "X_source, y_source, block_ids_source = load_npz(source_sits)\n",
    "X_target, y_target, block_ids_target = load_npz(target_sits)"
   ]
  },
  {
   "cell_type": "code",
   "execution_count": 11,
   "id": "c525a408-36f1-45aa-b10f-448c55835d7c",
   "metadata": {},
   "outputs": [],
   "source": [
    "_source = np.concatenate((X_source, y_source[:, None], block_ids_source[:, None]), axis=1)\n",
    "_target = np.concatenate((X_target, y_target[:, None], block_ids_target[:, None]), axis=1)"
   ]
  },
  {
   "cell_type": "code",
   "execution_count": 14,
   "id": "01ba5f8e-d69d-4044-b87e-fed0b6a29ec4",
   "metadata": {},
   "outputs": [],
   "source": [
    "_source = _source[np.isin(_source[:, -1], ids)]\n",
    "_target = _target[np.isin(_target[:, -1], ids)]"
   ]
  },
  {
   "cell_type": "code",
   "execution_count": 16,
   "id": "b94f2b6b-a736-4345-b633-8276f15d9e47",
   "metadata": {},
   "outputs": [],
   "source": [
    "Xtrain_source = _source[:, :-2]\n",
    "ytrain_source = _source[:, -2]\n",
    "\n",
    "Xtrain_target = _target[:, :-2]\n",
    "ytrain_target = _target[:, -2]"
   ]
  },
  {
   "cell_type": "code",
   "execution_count": 19,
   "id": "1bad621a-0dfe-4f77-9145-e9f78cf871fb",
   "metadata": {},
   "outputs": [],
   "source": [
    "case = 2\n",
    "if case == 1:\n",
    "            Xtrain = np.concatenate((Xtrain_source, Xtrain_target), axis=0)\n",
    "            ytrain = np.concatenate((ytrain_source, ytrain_target), axis=0)\n",
    "elif case == 2:\n",
    "            Xtrain = Xtrain_source\n",
    "            ytrain = ytrain_source\n",
    "elif case == 3:\n",
    "            Xtrain = Xtrain_target\n",
    "            ytrain = ytrain_target\n",
    "else:\n",
    "     raise ValueError(\"Please choose a case between 1 and 3\")  "
   ]
  },
  {
   "cell_type": "code",
   "execution_count": 22,
   "id": "74b5606c-0c0c-4c08-b2e7-593004d002d1",
   "metadata": {},
   "outputs": [
    {
     "data": {
      "text/plain": [
       "5658378"
      ]
     },
     "execution_count": 22,
     "metadata": {},
     "output_type": "execute_result"
    }
   ],
   "source": [
    "len(ytrain)"
   ]
  },
  {
   "cell_type": "code",
   "execution_count": 23,
   "id": "3d50ed07-a471-4a9c-85e8-308ab7b49bbe",
   "metadata": {},
   "outputs": [
    {
     "name": "stdout",
     "output_type": "stream",
     "text": [
      "(15265763, 330)\n",
      "(15265763,)\n",
      "(15265763,)\n"
     ]
    }
   ],
   "source": [
    "print(X_source.shape)\n",
    "print(y_source.shape)\n",
    "print(block_ids_source.shape)"
   ]
  },
  {
   "cell_type": "code",
   "execution_count": 24,
   "id": "5ec54f69-005f-4dd2-9da5-28cc69b2a7d7",
   "metadata": {},
   "outputs": [],
   "source": [
    "sub_x_s = X_source[:500]\n",
    "sub_y_s = y_source[:500]\n",
    "sub_bi_s = block_ids_source[:500]"
   ]
  },
  {
   "cell_type": "code",
   "execution_count": 34,
   "id": "3c38e902-be75-4032-9f72-b746b4bff432",
   "metadata": {},
   "outputs": [],
   "source": [
    "sub_x_s = X_target[:500]\n",
    "sub_y_s = y_target[:500]\n",
    "sub_bi_s = block_ids_target[:500]"
   ]
  },
  {
   "cell_type": "code",
   "execution_count": 25,
   "id": "d95fed00-c6d8-4d98-a818-8ccdadf52116",
   "metadata": {},
   "outputs": [],
   "source": [
    "out_dir = \"../subset_data\"\n"
   ]
  },
  {
   "cell_type": "code",
   "execution_count": 36,
   "id": "e1a2abe9-fb23-4e81-b0dd-06c441d5c067",
   "metadata": {},
   "outputs": [],
   "source": [
    "import os\n",
    "\n",
    "np.savez_compressed(os.path.join(out_dir, '2019_subset.npz'), X=sub_x_s, y =sub_y_s, block_ids=sub_bi_s)"
   ]
  },
  {
   "cell_type": "code",
   "execution_count": null,
   "id": "22938eae-3d96-4e9a-9c1f-b0474ec66d79",
   "metadata": {},
   "outputs": [],
   "source": []
  }
 ],
 "metadata": {
  "kernelspec": {
   "display_name": "Python 3",
   "language": "python",
   "name": "python3"
  },
  "language_info": {
   "codemirror_mode": {
    "name": "ipython",
    "version": 3
   },
   "file_extension": ".py",
   "mimetype": "text/x-python",
   "name": "python",
   "nbconvert_exporter": "python",
   "pygments_lexer": "ipython3",
   "version": "3.7.1"
  }
 },
 "nbformat": 4,
 "nbformat_minor": 5
}
