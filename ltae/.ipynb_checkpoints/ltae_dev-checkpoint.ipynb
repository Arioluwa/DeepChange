{
 "cells": [
  {
   "cell_type": "code",
   "execution_count": null,
   "id": "d82866ad",
   "metadata": {},
   "outputs": [],
   "source": [
    "import torch\n",
    "from torch.utils import data\n",
    "from torchvision import transforms\n",
    "import numpy as np\n",
    "\n",
    "from utils import load_npz\n",
    "\n",
    "import os\n",
    "import time\n",
    "import random"
   ]
  },
  {
   "cell_type": "code",
   "execution_count": 2,
   "id": "b4bae7cd",
   "metadata": {},
   "outputs": [],
   "source": [
    "n_channel = 10"
   ]
  },
  {
   "cell_type": "code",
   "execution_count": 3,
   "id": "df0354f6-6fab-4408-9bf8-049de825ae3a",
   "metadata": {},
   "outputs": [],
   "source": [
    "def generate_ids():\n",
    "    \"\"\"\n",
    "    Descr: \n",
    "        Aim: To write and returns the partition (Train, Validation and Test) ids \n",
    "        with respect to the grid split index (range 1 - 100)\n",
    "        \n",
    "        - A random seed value is set within a random intger 1-10,\n",
    "        - the set is spltted into 80:10:10,\n",
    "        - save into a text file with the seed value used\n",
    "    \"\"\"\n",
    "    # set a random seed value within the range 1 -10 \n",
    "    start_time = time.time()\n",
    "    seed_value = np.random.randint(0,10)\n",
    "    np.random.seed(seed_value)\n",
    "    # # block id range 1 - 100 (splitted grid)\n",
    "    block_range = np.arange(1, 101)\n",
    "\n",
    "    # Train, Validation and Test\n",
    "    random.shuffle(block_range)\n",
    "    train_id = block_range[:80] # 80%\n",
    "    val_id = block_range[80:90] # 10%\n",
    "    test_id = block_range[90:] # 10%\n",
    "    print(\"Seed value: \", seed_value)\n",
    "    \n",
    "    if not os.path.exists(\"./ids/train_val_eval_seed_\" + str(seed_value)+\".txt\"):\n",
    "        with open(\"./ids/train_val_eval_seed_\" + str(seed_value)+\".txt\", \"w\") as f:\n",
    "            f.write(\"Training: \" + str(list(train_id)) + \"\\n\")\n",
    "            f.write(\"Validation: \" + str(list(val_id)) + \"\\n\")\n",
    "            f.write(\"Testing: \" + str(list(test_id)) + \"\\n\")\n",
    "            f.close()\n",
    "    print('Read set ids completed: %s second' % (time.time() - start_time))\n",
    "# generate_ids()"
   ]
  },
  {
   "cell_type": "code",
   "execution_count": 4,
   "id": "276ef82d-965b-4daa-bb1d-29d4d017d86b",
   "metadata": {},
   "outputs": [],
   "source": [
    "def read_ids(seed_value):\n",
    "    \"\"\"\n",
    "    Read ids from file\n",
    "    \"\"\"\n",
    "    assert seed_value >= 0 and seed_value <= 10\n",
    "    \n",
    "    with open(\"./ids/train_val_eval_seed_\" + str(seed_value)+\".txt\", \"r\") as f:\n",
    "        lines = f.readlines()\n",
    "        Train_ids = eval(lines[0].split(\":\")[1])\n",
    "        Val_ids = eval(lines[1].split(\":\")[1])\n",
    "        test_ids = eval(lines[2].split(\":\")[1])\n",
    "    return Train_ids, Val_ids, test_ids"
   ]
  },
  {
   "cell_type": "code",
   "execution_count": 5,
   "id": "d0d45cfe-a8f6-4922-9964-ce63bed9c4b6",
   "metadata": {},
   "outputs": [],
   "source": [
    "def compute_mean_std(source_sits, target_sits, case):\n",
    "    \"\"\"\n",
    "    Descr: Compute mean and std for each channel\n",
    "    Input: both SITS dataset(.npz) paths\n",
    "            Case[1 - 3]:\n",
    "            1 - concatenate both dataset, while 2 & 3 rep source and target respectively\n",
    "    The data(from N,LxD) is reshaped into (N,D,L);\n",
    "        where N - pixel, D - Bands (10), L - Time (33)\n",
    "    \n",
    "    \"\"\"\n",
    "    \n",
    "    # case = 1: both, case = 2: target, case = 3: target\n",
    "    if case == 1:\n",
    "        sits = [source_sits, target_sits]\n",
    "    elif case == 2:\n",
    "        sits = source_sits\n",
    "    elif case == 3:\n",
    "        sits = target_sits\n",
    "    else:\n",
    "        print('Select case between 1-3')\n",
    "        return None\n",
    "    \n",
    "    # if sits is a list, then it's a list of paths\n",
    "    if isinstance(sits, list):\n",
    "        # load data\n",
    "        X_source = np.load(sits[0])['X']\n",
    "        X_target = np.load(sits[1])['X']\n",
    "        # concatenate the data\n",
    "        X = np.concatenate((X_source, X_target), axis=0)\n",
    "    # if sits is a string, then it's a path\n",
    "    else: \n",
    "        with np.load(sits) as data:\n",
    "            X = data['X']\n",
    "\n",
    "    X = X.reshape(X.shape[0], n_channel, int(X.shape[1]/n_channel))\n",
    "    # compute mean and std\n",
    "    X_mean = np.mean(X, axis=(0,2))\n",
    "    X_std = np.std(X, axis=(0,2))\n",
    "    print('mean shape: ', X_mean.shape)\n",
    "    print('std shape: ', X_std.shape)\n",
    "    # save X_mean and X_std sepearately for sits as txt file\n",
    "    np.savetxt(os.path.join('mean_'+ str(case) +'.txt'), X_mean)\n",
    "    np.savetxt(os.path.join('std_'+ str(case) +'.txt'), X_std)\n",
    "\n",
    "# for i in [1,2,3]:\n",
    "#     start_time = time.time()\n",
    "#     source_path = \"../../../data/theiaL2A_zip_img/output/2018/2018_SITS_data.npz\"\n",
    "#     target_path = \"../../../data/theiaL2A_zip_img/output/2019/2019_SITS_data.npz\"\n",
    "#     compute_mean_std(source_path, target_path, i)\n",
    "#     print(\"run time: \", time.time() - start_time)"
   ]
  },
  {
   "cell_type": "code",
   "execution_count": 6,
   "id": "d277504e-263a-44ba-81b3-ecc67ccf65a2",
   "metadata": {},
   "outputs": [],
   "source": [
    "def compute_mean_stdv2(sits, domain='source'):\n",
    "    \"\"\"\n",
    "    Descr: Compute mean and std for each channel\n",
    "    Input: both SITS dataset(.npz) paths\n",
    "    The data(from N,LxD) is reshaped into (N,D,L);\n",
    "        where N - pixel, D - Bands (10), L - Time (33)\n",
    "    \"\"\"\n",
    "    with np.load(sits) as data:\n",
    "            X = data['X']\n",
    "\n",
    "    X = X.reshape(X.shape[0], n_channel, int(X.shape[1]/n_channel))\n",
    "    # compute mean and std\n",
    "    X_mean = np.mean(X, axis=(0,2))\n",
    "    X_std = np.std(X, axis=(0,2))\n",
    "    print('mean shape: ', X_mean.shape)\n",
    "    print('std shape: ', X_std.shape)\n",
    "    # save X_mean and X_std sepearately for sits as txt file\n",
    "    np.savetxt(os.path.join('./mean_std/', domain + '_mean.txt'), X_mean)\n",
    "    np.savetxt(os.path.join('./mean_std/', domain + '_std.txt'), X_std)\n",
    "\n",
    "source_path = \"../../../data/theiaL2A_zip_img/output/2018/2018_SITS_data.npz\"\n",
    "target_path = \"../../../data/theiaL2A_zip_img/output/2019/2019_SITS_data.npz\"\n",
    "# compute_mean_stdv2(source_path, 'source')\n",
    "# compute_mean_stdv2(target_path, domain = 'target')"
   ]
  },
  {
   "cell_type": "code",
   "execution_count": 6,
   "id": "b2855aae-a3dc-4f32-9632-0998ac02417c",
   "metadata": {},
   "outputs": [],
   "source": [
    "# class SITSData(data.Dataset):\n",
    "#     def __init__(self, case_: int,source_path, target_path, seed, partition='train', transform=None):\n",
    "#         self.case_ = case_\n",
    "#         self.source_path = source_path\n",
    "#         self.target_path = target_path\n",
    "#         self.seed = seed\n",
    "#         self.transform = transform\n",
    "        \n",
    "#         # get partition ids using the read_id() func\n",
    "#         start_time = time.time()\n",
    "        \n",
    "#         self.train_ids, self.val_ids, self.test_ids = read_ids(self.seed)\n",
    "#         print(\"read ids completed: %s second\" % (time.time() - start_time))\n",
    "\n",
    "#         # select partition\n",
    "#         if partition == 'train':\n",
    "#             self.ids = self.train_ids\n",
    "#         elif partition == 'val':\n",
    "#             self.ids = self.val_ids\n",
    "#         elif partition == 'test':\n",
    "#             self.ids = self.test_ids\n",
    "#         else:\n",
    "#             raise ValueError('Invalid partition: {}'.format(partition))\n",
    "\n",
    "#         # sits = either source_path or target or both based on the case (1,2,3)\n",
    "#         # case = 1: both, case = 2: target, case = 3: target\n",
    "#         if self.case_ == 1:\n",
    "#             sits = [self.source_path, self.target_path]\n",
    "#         elif self.case_ == 2:\n",
    "#             sits = self.source_path\n",
    "#         elif self.case_ == 3:\n",
    "#             sits = self.target_path\n",
    "#         else:\n",
    "#             print('Wrong case!')\n",
    "\n",
    "#         if isinstance(sits, list):\n",
    "#             self.sits = sits\n",
    "#             print('reading files....')\n",
    "#             X_source, y_source, block_ids_source = load_npz(self.sits[0])\n",
    "#             X_target, y_target, block_ids_target = load_npz(self.sits[1])\n",
    "            \n",
    "#             # concatenate the data\n",
    "#             start_time = time.time()\n",
    "#             data_source = np.concatenate((X_source, y_source[:, None], block_ids_source[:, None]), axis=1)\n",
    "#             data_target = np.concatenate((X_target, y_target[:, None], block_ids_target[:, None]), axis=1)\n",
    "#             print(\"Concatenating completed: %s seconds\" % (time.time() - start_time))\n",
    "            \n",
    "#             # filter by block_id\n",
    "#             start_time = time.time()\n",
    "#             data_source = data_source[np.isin(data_source[:, -1], self.ids)]\n",
    "#             data_target = data_target[np.isin(data_target[:, -1], self.ids)]\n",
    "#             print(\"filtering ids completed: %s seconds\" % (time.time() - start_time))\n",
    "\n",
    "#             self.X_ = np.concatenate((data_source[:, :-2], data_target[:, :-2]), axis=0)\n",
    "#             self.y_ = np.concatenate((data_source[:, -2], data_target[:, -2]), axis=0)\n",
    "            \n",
    "#             del X_source\n",
    "#             del y_source\n",
    "#             del block_ids_source\n",
    "#             del data_source\n",
    "#             del data_target\n",
    "#         else:\n",
    "#             self.sits = sits\n",
    "#             start_time = time.time()\n",
    "#             print('reading files....')\n",
    "#             X, y, block_ids = load_npz(self.sits)\n",
    "#             print(\"load npz: %s seconds\" % (time.time() - start_time))\n",
    "#             print(X.dtype)\n",
    "            \n",
    "#             # concatenate the data\n",
    "#             start_time = time.time()\n",
    "#             data_ = np.concatenate((X, y[:, None], block_ids[:, None]), axis=1)\n",
    "#             print(\"Concatenating completed: %s seconds\" % (time.time() - start_time))\n",
    "\n",
    "#             # filter by block_id\n",
    "#             start_time = time.time()\n",
    "#             data_ = data_[np.isin(data_[:, -1], self.ids)]\n",
    "#             print(\"filtering ids completed: %s seconds\" % (time.time() - start_time))\n",
    "            \n",
    "#             self.X_ = data_[:, :-2]\n",
    "#             self.y_ = data_[:, -2]\n",
    "#             print(\"%s dataset shape: \" % partition,self.X_.shape)\n",
    "            \n",
    "#             del X\n",
    "#             del y\n",
    "#             del block_ids\n",
    "#             del data_\n",
    "\n",
    "#     def __len__(self):\n",
    "#         return len(self.y_)\n",
    "\n",
    "#     def __getitem__(self, idx):\n",
    "#         start_time = time.time()\n",
    "#         self.X = self.X_[idx]\n",
    "#         self.y = self.y_[idx]\n",
    "#         print(\"getting data: %s seconds\" % ((time.time() - start_time)*100))\n",
    "\n",
    "#         start_time = time.time()\n",
    "#         self.X = np.array(self.X).astype('float32')\n",
    "#         self.y = np.array(self.y).astype('float32')\n",
    "#         print(\"conversion: %s seconds\" % ((time.time() - start_time)*100))\n",
    "        \n",
    "#         start_time = time.time()\n",
    "#         self.X = self.X.reshape(int(self.X.shape[0]/n_channel), n_channel)\n",
    "#         print(\"reshape data: %s seconds\" % ((time.time() - start_time)*100))\n",
    "        \n",
    "\n",
    "#         # transform\n",
    "#         start_time = time.time()\n",
    "#         if self.transform:\n",
    "#             self.X = self.transform(self.X)\n",
    "#         print(\"transform data: %s seconds\" % ((time.time() - start_time)*100))\n",
    "#         print(self.X.shape)\n",
    "        \n",
    "#         start_time = time.time()\n",
    "#         torch_x = torch.from_numpy(self.X)\n",
    "#         torch_y = torch.from_numpy(self.y)\n",
    "#         print(\"tensor: %s seconds\" % ((time.time() - start_time)*100))\n",
    "        \n",
    "#         return torch_x, torch_y"
   ]
  },
  {
   "cell_type": "code",
   "execution_count": 7,
   "id": "9d4055b3-c150-4215-9576-9569a415ae70",
   "metadata": {},
   "outputs": [],
   "source": [
    "class SITSDatav2(data.Dataset):\n",
    "    def __init__(self, sits, seed, partition='train', transform=None):\n",
    "        \n",
    "        self.sits = sits\n",
    "        self.seed = seed\n",
    "        self.transform = transform\n",
    "        \n",
    "        # get partition ids using the read_id() func\n",
    "        start_time = time.time()\n",
    "        self.train_ids, self.val_ids, self.test_ids = read_ids(self.seed)\n",
    "        print(\"read ids completed: %s second\" % (time.time() - start_time))\n",
    "\n",
    "        # select partition\n",
    "        if partition == 'train':\n",
    "            self.ids = self.train_ids\n",
    "        elif partition == 'val':\n",
    "            self.ids = self.val_ids\n",
    "        elif partition == 'test':\n",
    "            self.ids = self.test_ids\n",
    "        else:\n",
    "            raise ValueError('Invalid partition: {}'.format(partition))\n",
    "        \n",
    "        start_time = time.time()\n",
    "        print('reading files....')\n",
    "        X, y, block_ids = load_npz(self.sits)\n",
    "        print(\"load npz: %s seconds\" % (time.time() - start_time))\n",
    "        print(X.dtype)\n",
    "        \n",
    "        # concatenate the data\n",
    "        start_time = time.time()\n",
    "        data_ = np.concatenate((X, y[:, None], block_ids[:, None]), axis=1)\n",
    "        print(\"Concatenating completed: %s seconds\" % (time.time() - start_time))\n",
    "\n",
    "        # filter by block_id\n",
    "        start_time = time.time()\n",
    "        data_ = data_[np.isin(data_[:, -1], self.ids)]\n",
    "        print(\"filtering ids completed: %s seconds\" % (time.time() - start_time))\n",
    "        \n",
    "        self.X_ = data_[:, :-2]\n",
    "        self.y_ = data_[:, -2]\n",
    "        print(\"%s dataset shape: \" % partition,self.X_.shape)\n",
    "        \n",
    "        del X\n",
    "        del y\n",
    "        del block_ids\n",
    "        del data_\n",
    "\n",
    "    def __len__(self):\n",
    "        return len(self.y_)\n",
    "\n",
    "    def __getitem__(self, idx):\n",
    "        start_time = time.time()\n",
    "        self.X = self.X_[idx]\n",
    "        self.y = self.y_[idx]\n",
    "        print(\"getting data: %s seconds\" % ((time.time() - start_time)*100))\n",
    "\n",
    "        start_time = time.time()\n",
    "        self.X = np.array(self.X).astype('float32')\n",
    "        self.y = np.array(self.y).astype('float32')\n",
    "        print(\"conversion: %s seconds\" % ((time.time() - start_time)*100))\n",
    "        \n",
    "        start_time = time.time()\n",
    "        self.X = self.X.reshape(int(self.X.shape[0]/n_channel), n_channel)\n",
    "        print(\"reshape data: %s seconds\" % ((time.time() - start_time)*100))\n",
    "\n",
    "        # transform\n",
    "        start_time = time.time()\n",
    "        if self.transform:\n",
    "            self.X = self.transform(self.X)\n",
    "        print(\"transform data: %s seconds\" % ((time.time() - start_time)*100))\n",
    "        print(self.X.shape)\n",
    "        \n",
    "        start_time = time.time()\n",
    "        torch_x = torch.from_numpy(self.X)\n",
    "        torch_y = torch.from_numpy(self.y)\n",
    "        print(\"tensor: %s seconds\" % ((time.time() - start_time)*100))\n",
    "        \n",
    "        return torch_x, torch_y"
   ]
  },
  {
   "cell_type": "code",
   "execution_count": 8,
   "id": "8190c2ef-d5ca-4ace-8b0b-34c6d4dc3344",
   "metadata": {},
   "outputs": [],
   "source": [
    "class standardize(object):\n",
    "    def __init__(self, mean, std):\n",
    "        self.mean = mean\n",
    "        self.std = std\n",
    "\n",
    "    def __call__(self, sample):\n",
    "        return (sample - self.mean) / self.std"
   ]
  },
  {
   "cell_type": "code",
   "execution_count": 9,
   "id": "c9aa04b1-cd97-4f62-8bef-cb40c4c0b9a2",
   "metadata": {},
   "outputs": [
    {
     "name": "stdout",
     "output_type": "stream",
     "text": [
      "read ids completed: 0.02151179313659668 second\n",
      "reading files....\n",
      "load npz: 99.5813729763031 seconds\n",
      "uint16\n",
      "Concatenating completed: 6.561253070831299 seconds\n",
      "filtering ids completed: 13.308213472366333 seconds\n",
      "train dataset shape:  (10784283, 330)\n"
     ]
    }
   ],
   "source": [
    "mean = np.loadtxt('./mean_std/source_mean.txt')\n",
    "std = np.loadtxt('./mean_std/source_std.txt')\n",
    "seed = 0 \n",
    "transform = transforms.Compose([standardize(mean, std)])\n",
    "\n",
    "# paths\n",
    "source_path = \"../../../data/theiaL2A_zip_img/output/2018/2018_SITS_data.npz\"\n",
    "\n",
    "train_dataset = SITSDatav2(source_path, seed, partition='train', transform=transform)"
   ]
  },
  {
   "cell_type": "code",
   "execution_count": 10,
   "id": "5b331b92-15de-4d5e-9f73-34c56cbab848",
   "metadata": {},
   "outputs": [],
   "source": [
    "batch_size = 2\n",
    "train_loader = data.DataLoader(train_dataset, batch_size=batch_size, shuffle=True, num_workers=1, pin_memory=True)"
   ]
  },
  {
   "cell_type": "code",
   "execution_count": 20,
   "id": "67c0868a-8005-4f15-ab40-47bde5d2a34c",
   "metadata": {},
   "outputs": [],
   "source": [
    "def recursive_todevice(x, device):\n",
    "    if isinstance(x, torch.Tensor):\n",
    "        return x.to(device)\n",
    "    else:\n",
    "        return [recursive_todevice(c, device) for c in x]"
   ]
  },
  {
   "cell_type": "code",
   "execution_count": 25,
   "id": "b370aee4-d775-49cd-bfac-55978fb77deb",
   "metadata": {},
   "outputs": [
    {
     "ename": "SyntaxError",
     "evalue": "invalid syntax (<ipython-input-25-3e0179226cff>, line 6)",
     "output_type": "error",
     "traceback": [
      "\u001b[0;36m  File \u001b[0;32m\"<ipython-input-25-3e0179226cff>\"\u001b[0;36m, line \u001b[0;32m6\u001b[0m\n\u001b[0;31m    break\u001b[0m\n\u001b[0m        ^\u001b[0m\n\u001b[0;31mSyntaxError\u001b[0m\u001b[0;31m:\u001b[0m invalid syntax\n"
     ]
    }
   ],
   "source": [
    "y_true = []\n",
    "for i, (x,y) in enumerate(train_loader):\n",
    "    # y_true.extend(list(map(int,y)))\n",
    "    print(x)\n",
    "    x = recursive_todevice(x)\n",
    "    break"
   ]
  },
  {
   "cell_type": "code",
   "execution_count": 18,
   "id": "c006cbd9-ba6a-4e42-9cac-7a296847b4a8",
   "metadata": {},
   "outputs": [
    {
     "data": {
      "text/plain": [
       "[2, 9]"
      ]
     },
     "execution_count": 18,
     "metadata": {},
     "output_type": "execute_result"
    }
   ],
   "source": [
    "y_true"
   ]
  },
  {
   "cell_type": "code",
   "execution_count": 10,
   "id": "d26a41b5-1f2d-4dc7-b78f-56ee75bc667f",
   "metadata": {},
   "outputs": [
    {
     "name": "stdout",
     "output_type": "stream",
     "text": [
      "getting data: 0.06923675537109375 seconds\n",
      "conversion: 0.0225067138671875 seconds\n",
      "reshape data: 0.0034332275390625 seconds\n",
      "transform data: 0.023627281188964844 seconds\n",
      "(33, 10)\n",
      "tensor: 0.02582073211669922 seconds\n",
      "getting data: 0.05042552947998047 seconds\n",
      "conversion: 0.006318092346191406 seconds\n",
      "reshape data: 0.002574920654296875 seconds\n",
      "transform data: 0.009632110595703125 seconds\n",
      "(33, 10)\n",
      "tensor: 0.0058650970458984375 seconds\n",
      "getting data: 0.0095367431640625 seconds\n",
      "conversion: 0.0041484832763671875 seconds\n",
      "reshape data: 0.0021696090698242188 seconds\n",
      "transform data: 0.009632110595703125 seconds\n",
      "\n",
      "(33, 10)Train dataLoader time:  13.386313676834106\n",
      "tensor: 0.00438690185546875 seconds\n",
      "getting data: 0.0017642974853515625 secondsconversion: 0.0039577484130859375 seconds\n",
      "\n",
      "\n",
      "reshape data: 0.0013589859008789062 secondstransform data: 0.0049591064453125 seconds\n",
      "(33, 10)\n",
      "tensor: 0.0026226043701171875 seconds\n"
     ]
    }
   ],
   "source": [
    "start_time = time.time()\n",
    "train_iter = iter(train_loader)\n",
    "next(train_iter)\n",
    "next(train_iter)\n",
    "print('Train dataLoader time: ', time.time() - start_time)"
   ]
  },
  {
   "cell_type": "code",
   "execution_count": null,
   "id": "85439710-1994-4049-ad54-04d0f385fe5c",
   "metadata": {},
   "outputs": [],
   "source": [
    "# # testing for a single domain (case 2 or 3)\n",
    "# case = 2\n",
    "# #read mean and std files\n",
    "# mean = np.loadtxt('mean_'+str(case)+'.txt')\n",
    "# std = np.loadtxt('std_'+str(case)+'.txt')\n",
    "# seed = 0\n",
    "# transform = transforms.Compose([standardize(mean, std)])\n",
    "\n",
    "# # paths\n",
    "# source_path = \"../../../data/theiaL2A_zip_img/output/2018/2018_SITS_data.npz\"\n",
    "# target_path = \"../../../data/theiaL2A_zip_img/output/2019/2019_SITS_data.npz\"\n",
    "\n",
    "# # start_time = time.time()\n",
    "# print('train dataset........')\n",
    "# start_time = time.time()\n",
    "# train_dataset = SITSData(case, source_path, target_path, seed, partition='train', transform=transform)\n",
    "# print('total running time: %s' % (time.time() - start_time))\n",
    "# print('Validation dataset.........')\n",
    "# start_time = time.time()\n",
    "# val_dataset = SITSData(case, source_path, target_path, seed, partition='val', transform=transform)\n",
    "# print('total running time: %s' % (time.time() - start_time))\n",
    "# print('Test dataset........')\n",
    "# start_time = time.time()\n",
    "# test_dataset = SITSData(case, source_path, target_path, seed, partition='test', transform=transform)\n",
    "# print('total running time: %s' % (time.time() - start_time))"
   ]
  },
  {
   "cell_type": "code",
   "execution_count": 9,
   "id": "c4906a91-60ba-46c3-83e0-ffc84ef3dc6a",
   "metadata": {},
   "outputs": [],
   "source": [
    "# batch_size = 128\n",
    "# train_loader = data.DataLoader(train_dataset, batch_size=batch_size, shuffle=True, num_workers=0, pin_memory=True)\n",
    "# val_loader = data.DataLoader(val_dataset, batch_size=batch_size, shuffle=True, num_workers=0, pin_memory=True)\n",
    "# test_loader = data.DataLoader(test_dataset, batch_size=batch_size, shuffle=True, num_workers=0, pin_memory=True)"
   ]
  },
  {
   "cell_type": "code",
   "execution_count": 10,
   "id": "39ca11d6-0085-4708-8e7e-796f19d7155a",
   "metadata": {},
   "outputs": [
    {
     "name": "stdout",
     "output_type": "stream",
     "text": [
      "getting data: 0.007700920104980469 seconds\n",
      "conversion: 0.013184547424316406 seconds\n",
      "reshape data: 0.0024318695068359375 seconds\n",
      "transform data: 0.020194053649902344 seconds\n",
      "(33, 10)\n",
      "tensor: 0.030612945556640625 seconds\n",
      "getting data: 0.005984306335449219 seconds\n",
      "conversion: 0.008702278137207031 seconds\n",
      "reshape data: 0.002193450927734375 seconds\n",
      "transform data: 0.009965896606445312 seconds\n",
      "(33, 10)\n",
      "tensor: 0.005245208740234375 seconds\n",
      "Train dataLoader time:  7.261138439178467\n"
     ]
    }
   ],
   "source": [
    "# start_time = time.time()\n",
    "# train_iter = iter(train_loader)\n",
    "# next(train_iter)\n",
    "# next(train_iter)\n",
    "# print('Train dataLoader time: ', time.time() - start_time)"
   ]
  },
  {
   "cell_type": "code",
   "execution_count": 10,
   "id": "56196251-97b5-4b9c-b12d-eecf5b6be263",
   "metadata": {},
   "outputs": [
    {
     "name": "stdout",
     "output_type": "stream",
     "text": [
      "getting data: 0.002193450927734375 seconds\n",
      "conversion: 0.004506111145019531 seconds\n",
      "reshape data: 0.00133514404296875 seconds\n",
      "transform data: 0.006103515625 seconds\n",
      "(33, 10)\n",
      "tensor: 0.006651878356933594 seconds\n",
      "getting data: 0.001811981201171875 seconds\n",
      "conversion: 0.0020265579223632812 seconds\n",
      "reshape data: 0.0008344650268554688 seconds\n",
      "transform data: 0.003528594970703125 seconds\n",
      "(33, 10)\n",
      "tensor: 0.002288818359375 seconds\n",
      "Train dataLoader time:  0.00993800163269043\n"
     ]
    }
   ],
   "source": [
    "# start_time = time.time()\n",
    "# next(train_iter)\n",
    "# next(train_iter)\n",
    "# print('Train dataLoader time: ', time.time() - start_time)"
   ]
  },
  {
   "cell_type": "code",
   "execution_count": 11,
   "id": "174b2767-952e-4df8-9c1e-7f124149279d",
   "metadata": {},
   "outputs": [
    {
     "name": "stdout",
     "output_type": "stream",
     "text": [
      "getting data: 0.0021219253540039062 seconds\n",
      "conversion: 0.0030517578125 seconds\n",
      "reshape data: 0.001239776611328125 seconds\n",
      "transform data: 0.00514984130859375 seconds\n",
      "(33, 10)\n",
      "tensor: 0.0042438507080078125 seconds\n",
      "getting data: 0.0013828277587890625 seconds\n",
      "conversion: 0.001621246337890625 seconds\n",
      "reshape data: 0.0007152557373046875 seconds\n",
      "transform data: 0.0027418136596679688 seconds\n",
      "(33, 10)\n",
      "tensor: 0.0016689300537109375 seconds\n",
      "Val dataLoader time:  0.19984221458435059\n"
     ]
    }
   ],
   "source": [
    "start_time = time.time()\n",
    "val_iter = iter(val_loader)\n",
    "next(val_iter)\n",
    "next(val_iter)\n",
    "print('Val dataLoader time: ', time.time() - start_time)"
   ]
  },
  {
   "cell_type": "code",
   "execution_count": 12,
   "id": "7760c890-5461-4f43-94b5-93746dc7af66",
   "metadata": {},
   "outputs": [
    {
     "name": "stdout",
     "output_type": "stream",
     "text": [
      "getting data: 0.0021696090698242188 seconds\n",
      "conversion: 0.0024557113647460938 seconds\n",
      "reshape data: 0.0008344650268554688 seconds\n",
      "transform data: 0.004410743713378906 seconds\n",
      "(33, 10)\n",
      "tensor: 0.004839897155761719 seconds\n",
      "getting data: 0.001239776611328125 seconds\n",
      "conversion: 0.0017404556274414062 seconds\n",
      "reshape data: 0.0006437301635742188 seconds\n",
      "transform data: 0.0027894973754882812 seconds\n",
      "(33, 10)\n",
      "tensor: 0.0013828277587890625 seconds\n",
      "Val dataLoader time:  0.008423566818237305\n"
     ]
    }
   ],
   "source": [
    "start_time = time.time()\n",
    "next(val_iter)\n",
    "next(val_iter)\n",
    "print('Val dataLoader time: ', time.time() - start_time)"
   ]
  },
  {
   "cell_type": "code",
   "execution_count": 13,
   "id": "7150891b-aa48-4ee7-8342-4e1e7ef4c4b1",
   "metadata": {},
   "outputs": [
    {
     "name": "stdout",
     "output_type": "stream",
     "text": [
      "getting data: 0.0018835067749023438 seconds\n",
      "conversion: 0.0031232833862304688 seconds\n",
      "reshape data: 0.0011444091796875 seconds\n",
      "transform data: 0.004649162292480469 seconds\n",
      "(33, 10)\n",
      "tensor: 0.004172325134277344 seconds\n",
      "getting data: 0.000858306884765625 seconds\n",
      "conversion: 0.0014066696166992188 seconds\n",
      "reshape data: 0.00057220458984375 seconds\n",
      "transform data: 0.0021696090698242188 seconds\n",
      "(33, 10)\n",
      "tensor: 0.0012159347534179688 seconds\n",
      "Test dataLoader time:  0.2181689739227295\n"
     ]
    }
   ],
   "source": [
    "start_time = time.time()\n",
    "test_iter = iter(test_loader)\n",
    "next(test_iter)\n",
    "next(test_iter)\n",
    "print('Test dataLoader time: ', time.time() - start_time)"
   ]
  },
  {
   "cell_type": "code",
   "execution_count": 14,
   "id": "2db198f4-cea2-49c8-bdc5-2ec90d2e8900",
   "metadata": {},
   "outputs": [
    {
     "name": "stdout",
     "output_type": "stream",
     "text": [
      "getting data: 0.0017881393432617188 seconds\n",
      "conversion: 0.019669532775878906 seconds\n",
      "reshape data: 0.000858306884765625 seconds\n",
      "transform data: 0.0051021575927734375 seconds\n",
      "(33, 10)\n",
      "tensor: 0.004553794860839844 seconds\n",
      "getting data: 0.0009059906005859375 seconds\n",
      "conversion: 0.0015020370483398438 seconds\n",
      "reshape data: 0.0006198883056640625 seconds\n",
      "transform data: 0.0027418136596679688 seconds\n",
      "(33, 10)\n",
      "tensor: 0.00152587890625 seconds\n",
      "Test dataLoader time:  0.0036427974700927734\n"
     ]
    }
   ],
   "source": [
    "start_time = time.time()\n",
    "next(test_iter)\n",
    "next(test_iter)\n",
    "print('Test dataLoader time: ', time.time() - start_time)"
   ]
  },
  {
   "cell_type": "code",
   "execution_count": null,
   "id": "5194dd4b-2894-4e8d-a7f1-01944eee3c8f",
   "metadata": {},
   "outputs": [],
   "source": [
    "start_time = time.time()\n",
    "x_train,y_train= next(iter(train_loader))\n",
    "print('Train dataLoader time: ', time.time() - start_time)\n",
    "start_time = time.time()\n",
    "x_val, y_val = next(iter(val_loader))\n",
    "print('val dataLoader time: ', time.time() - start_time)\n",
    "start_time = time.time()\n",
    "x_test, y_test = next(iter(test_loader))\n",
    "print('test dataLoader time: ', time.time() - start_time)"
   ]
  },
  {
   "cell_type": "code",
   "execution_count": 28,
   "id": "2e679fc4-c3fc-4339-8eff-945372a81f84",
   "metadata": {},
   "outputs": [],
   "source": [
    "import timeit"
   ]
  },
  {
   "cell_type": "code",
   "execution_count": null,
   "id": "9d78f09d-aaec-46a4-87ff-531043db3913",
   "metadata": {},
   "outputs": [],
   "source": [
    "%timeit next(iter(test_loader))"
   ]
  },
  {
   "cell_type": "code",
   "execution_count": null,
   "id": "95ee8141-0add-41da-85de-16a4522b4174",
   "metadata": {},
   "outputs": [],
   "source": [
    "start_time = time.time()\n",
    "x_train,y_train= next(iter(train_loader))\n",
    "print('Train dataLoader time: ', time.time() - start_time)\n",
    "start_time = time.time()\n",
    "x_val, y_val = next(iter(val_loader))\n",
    "print('val dataLoader time: ', time.time() - start_time)\n",
    "start_time = time.time()\n",
    "x_test, y_test = next(iter(test_loader))\n",
    "print('test dataLoader time: ', time.time() - start_time)\n",
    "start_time = time.time()\n",
    "x_train,y_train= next(iter(train_loader))\n",
    "print('Train dataLoader time: ', time.time() - start_time)"
   ]
  },
  {
   "cell_type": "code",
   "execution_count": 11,
   "id": "38aa7f74-7bee-4096-8878-e853bb9b31ca",
   "metadata": {},
   "outputs": [
    {
     "data": {
      "text/plain": [
       "tensor([ 9,  9,  3,  5, 15,  6, 23, 16,  9,  9,  9,  9, 18,  9,  6,  6, 10,  8,\n",
       "         2,  9,  9,  9,  8, 16,  9,  9, 23,  9,  8,  9,  5, 13, 10,  9,  2,  9,\n",
       "         9,  9,  6,  2,  9,  5,  8,  5,  9,  9,  9,  9,  9,  2,  8, 23,  2,  9,\n",
       "         5,  9, 23,  5,  9,  9,  2,  8,  9,  9,  5,  9,  9, 23, 10,  6,  9,  9,\n",
       "         9,  8,  9,  9,  3, 10,  9,  8,  9,  5,  5,  6,  6, 10,  6,  2,  9,  6,\n",
       "         8,  6,  9,  9,  9,  7,  9,  6,  2,  9,  9,  9,  5,  6,  9, 16,  9,  8,\n",
       "         9,  9,  9,  9,  9,  9,  6,  7,  9,  9,  5,  7,  9,  9,  3, 15,  9, 23,\n",
       "         9,  9], dtype=torch.int16)"
      ]
     },
     "execution_count": 11,
     "metadata": {},
     "output_type": "execute_result"
    }
   ],
   "source": [
    "y_train"
   ]
  },
  {
   "cell_type": "code",
   "execution_count": null,
   "id": "958c3144-71ed-4173-b35e-0a3645f7d731",
   "metadata": {},
   "outputs": [],
   "source": [
    "print(x_train.shape)\n",
    "x_train"
   ]
  },
  {
   "cell_type": "code",
   "execution_count": 14,
   "id": "d8b56b98-6cfc-469b-9ded-ecd8a8cdd8b0",
   "metadata": {},
   "outputs": [
    {
     "name": "stdout",
     "output_type": "stream",
     "text": [
      "train dataset........\n",
      "read ids completed: 0.001753091812133789 second\n",
      "reading files....\n",
      "total running time: 134.69096612930298\n",
      "Validation dataset.........\n",
      "read ids completed: 0.002171039581298828 second\n",
      "reading files....\n",
      "total running time: 116.40252137184143\n",
      "Test dataset........\n",
      "read ids completed: 0.0019958019256591797 second\n",
      "reading files....\n",
      "total running time: 117.6309289932251\n"
     ]
    }
   ],
   "source": [
    "# testing for a case 1 (combined both domains)\n",
    "case = 1\n",
    "#read mean and std files\n",
    "mean = np.loadtxt('mean_'+str(case)+'.txt')\n",
    "std = np.loadtxt('std_'+str(case)+'.txt')\n",
    "seed = 0\n",
    "transform = transforms.Compose([standardize(mean, std)])\n",
    "\n",
    "# paths\n",
    "source_path = \"../../../data/theiaL2A_zip_img/output/2018/2018_SITS_data.npz\"\n",
    "target_path = \"../../../data/theiaL2A_zip_img/output/2019/2019_SITS_data.npz\"\n",
    "\n",
    "# start_time = time.time()\n",
    "print('train dataset........')\n",
    "start_time = time.time()\n",
    "train_dataset = SITSData(case, source_path, target_path, seed, partition='train', transform=transform)\n",
    "print('total running time: %s' % (time.time() - start_time))\n",
    "print('Validation dataset.........')\n",
    "start_time = time.time()\n",
    "val_dataset = SITSData(case, source_path, target_path, seed, partition='val', transform=transform)\n",
    "print('total running time: %s' % (time.time() - start_time))\n",
    "print('Test dataset........')\n",
    "start_time = time.time()\n",
    "test_dataset = SITSData(case, source_path, target_path, seed, partition='test', transform=transform)\n",
    "print('total running time: %s' % (time.time() - start_time))"
   ]
  },
  {
   "cell_type": "code",
   "execution_count": 15,
   "id": "4aee6c47-4e00-43f9-b5a9-e5828231e882",
   "metadata": {},
   "outputs": [
    {
     "name": "stdout",
     "output_type": "stream",
     "text": [
      "Train dataLoader time:  1.5588064193725586\n",
      "val dataLoader time:  0.37462925910949707\n",
      "test dataLoader time:  0.3885047435760498\n"
     ]
    }
   ],
   "source": [
    "start_time = time.time()\n",
    "x_train,y_train= next(iter(train_loader))\n",
    "print('Train dataLoader time: ', time.time() - start_time)\n",
    "start_time = time.time()\n",
    "x_val, y_val = next(iter(val_loader))\n",
    "print('val dataLoader time: ', time.time() - start_time)\n",
    "start_time = time.time()\n",
    "x_test, y_test = next(iter(test_loader))\n",
    "print('test dataLoader time: ', time.time() - start_time)"
   ]
  },
  {
   "cell_type": "code",
   "execution_count": null,
   "id": "7e420189-2f15-4093-8e1b-b2e16d3ee2b1",
   "metadata": {},
   "outputs": [],
   "source": []
  }
 ],
 "metadata": {
  "kernelspec": {
   "display_name": "Python 3",
   "language": "python",
   "name": "python3"
  },
  "language_info": {
   "codemirror_mode": {
    "name": "ipython",
    "version": 3
   },
   "file_extension": ".py",
   "mimetype": "text/x-python",
   "name": "python",
   "nbconvert_exporter": "python",
   "pygments_lexer": "ipython3",
   "version": "3.7.1"
  }
 },
 "nbformat": 4,
 "nbformat_minor": 5
}
