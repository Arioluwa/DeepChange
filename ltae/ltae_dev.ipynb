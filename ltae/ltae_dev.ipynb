{
 "cells": [
  {
   "cell_type": "code",
   "execution_count": 1,
   "id": "d82866ad",
   "metadata": {},
   "outputs": [],
   "source": [
    "import torch\n",
    "from torch.utils import data\n",
    "from torchvision import transforms\n",
    "import numpy as np\n",
    "\n",
    "from utils import load_npz\n",
    "\n",
    "import os\n",
    "import time\n",
    "import random"
   ]
  },
  {
   "cell_type": "code",
   "execution_count": 2,
   "id": "b4bae7cd",
   "metadata": {},
   "outputs": [],
   "source": [
    "n_channel = 10"
   ]
  },
  {
   "cell_type": "code",
   "execution_count": 25,
   "id": "df0354f6-6fab-4408-9bf8-049de825ae3a",
   "metadata": {},
   "outputs": [
    {
     "name": "stdout",
     "output_type": "stream",
     "text": [
      "Seed value:  9\n",
      "Read set ids completed: 0.0035910606384277344 second\n"
     ]
    }
   ],
   "source": [
    "def generate_ids():\n",
    "    \"\"\"\n",
    "    Descr: \n",
    "        Aim: To write and returns the partition (Train, Validation and Test) ids \n",
    "        with respect to the grid split index (range 1 - 100)\n",
    "        \n",
    "        - A random seed value is set within a random intger 1-10,\n",
    "        - the set is spltted into 80:10:10,\n",
    "        - save into a text file with the seed value used\n",
    "    \"\"\"\n",
    "    # set a random seed value within the range 1 -10 \n",
    "    start_time = time.time()\n",
    "    seed_value = np.random.randint(0,10)\n",
    "    np.random.seed(seed_value)\n",
    "    # # block id range 1 - 100 (splitted grid)\n",
    "    block_range = np.arange(1, 101)\n",
    "\n",
    "    # Train, Validation and Test\n",
    "    random.shuffle(block_range)\n",
    "    train_id = block_range[:80] # 80%\n",
    "    val_id = block_range[80:90] # 10%\n",
    "    test_id = block_range[90:] # 10%\n",
    "    print(\"Seed value: \", seed_value)\n",
    "    \n",
    "    if not os.path.exists(\"train_val_eval_seed_\" + str(seed_value)+\".txt\"):\n",
    "        with open(\"train_val_eval_seed_\" + str(seed_value)+\".txt\", \"w\") as f:\n",
    "            f.write(\"Training: \" + str(list(train_id)) + \"\\n\")\n",
    "            f.write(\"Validation: \" + str(list(val_id)) + \"\\n\")\n",
    "            f.write(\"Testing: \" + str(list(test_id)) + \"\\n\")\n",
    "            f.close()\n",
    "    print('Read set ids completed: %s second' % (time.time() - start_time))\n",
    "generate_ids()"
   ]
  },
  {
   "cell_type": "code",
   "execution_count": 3,
   "id": "276ef82d-965b-4daa-bb1d-29d4d017d86b",
   "metadata": {},
   "outputs": [],
   "source": [
    "def read_ids(seed_value):\n",
    "    \"\"\"\n",
    "    Read ids from file\n",
    "    \"\"\"\n",
    "    assert seed_value >= 0 and seed_value <= 10\n",
    "    \n",
    "    with open(\"train_val_eval_seed_\" + str(seed_value)+\".txt\", \"r\") as f:\n",
    "        lines = f.readlines()\n",
    "        Train_ids = eval(lines[0].split(\":\")[1])\n",
    "        Val_ids = eval(lines[1].split(\":\")[1])\n",
    "        test_ids = eval(lines[2].split(\":\")[1])\n",
    "    return Train_ids, Val_ids, test_ids"
   ]
  },
  {
   "cell_type": "code",
   "execution_count": null,
   "id": "d0d45cfe-a8f6-4922-9964-ce63bed9c4b6",
   "metadata": {},
   "outputs": [],
   "source": [
    "def compute_mean_std(source_sits, target_sits, case):\n",
    "    \"\"\"\n",
    "    Descr: Compute mean and std for each channel\n",
    "    Input: both SITS dataset(.npz) paths\n",
    "            Case[1 - 3]:\n",
    "            1 - concatenate both dataset, while 2 & 3 rep source and target respectively\n",
    "    The data(from N,LxD) is reshaped into (N,D,L);\n",
    "        where N - pixel, D - Bands (10), L - Time (33)\n",
    "    \n",
    "    \"\"\"\n",
    "    \n",
    "    # case = 1: both, case = 2: target, case = 3: target\n",
    "    if case == 1:\n",
    "        sits = [source_sits, target_sits]\n",
    "    elif case == 2:\n",
    "        sits = source_sits\n",
    "    elif case == 3:\n",
    "        sits = target_sits\n",
    "    else:\n",
    "        print('Select case between 1-3')\n",
    "        return None\n",
    "    \n",
    "    # if sits is a list, then it's a list of paths\n",
    "    if isinstance(sits, list):\n",
    "        # load data\n",
    "        X_source = np.load(sits[0])['X']\n",
    "        X_target = np.load(sits[1])['X']\n",
    "        # concatenate the data\n",
    "        X = np.concatenate((X_source, X_target), axis=0)\n",
    "    # if sits is a string, then it's a path\n",
    "    else: \n",
    "        with np.load(sits) as data:\n",
    "            X = data['X']\n",
    "\n",
    "    X = X.reshape(X.shape[0], n_channel, int(X.shape[1]/n_channel))\n",
    "    # compute mean and std\n",
    "    X_mean = np.mean(X, axis=(0,2))\n",
    "    X_std = np.std(X, axis=(0,2))\n",
    "    print('mean shape: ', X_mean.shape)\n",
    "    print('std shape: ', X_std.shape)\n",
    "    # save X_mean and X_std sepearately for sits as txt file\n",
    "    np.savetxt(os.path.join('mean_'+ str(case) +'.txt'), X_mean)\n",
    "    np.savetxt(os.path.join('std_'+ str(case) +'.txt'), X_std)\n",
    "\n",
    "for i in [1,2,3]:\n",
    "    start_time = time.time()\n",
    "    source_path = \"../../../data/theiaL2A_zip_img/output/2018/2018_SITS_data.npz\"\n",
    "    target_path = \"../../../data/theiaL2A_zip_img/output/2019/2019_SITS_data.npz\"\n",
    "    compute_mean_std(source_path, target_path, i)\n",
    "    print(\"run time: \", time.time() - start_time)"
   ]
  },
  {
   "cell_type": "code",
   "execution_count": 5,
   "id": "b2855aae-a3dc-4f32-9632-0998ac02417c",
   "metadata": {},
   "outputs": [],
   "source": [
    "class SITSData(data.Dataset):\n",
    "    def __init__(self, case_: int,source_path, target_path, seed, partition='train', transform=None):\n",
    "        self.case_ = case_\n",
    "        self.source_path = source_path\n",
    "        self.target_path = target_path\n",
    "        self.seed = seed\n",
    "        self.transform = transform\n",
    "        \n",
    "        # get partition ids using the read_id() func\n",
    "        start_time = time.time()\n",
    "        \n",
    "        self.train_ids, self.val_ids, self.test_ids = read_ids(self.seed)\n",
    "        print(\"read ids completed: %s second\" % (time.time() - start_time))\n",
    "\n",
    "        # select partition\n",
    "        if partition == 'train':\n",
    "            self.ids = self.train_ids\n",
    "        elif partition == 'val':\n",
    "            self.ids = self.val_ids\n",
    "        elif partition == 'test':\n",
    "            self.ids = self.test_ids\n",
    "        else:\n",
    "            raise ValueError('Invalid partition: {}'.format(partition))\n",
    "\n",
    "        # sits = either source_path or target or both based on the case (1,2,3)\n",
    "        # case = 1: both, case = 2: target, case = 3: target\n",
    "        if self.case_ == 1:\n",
    "            sits = [self.source_path, self.target_path]\n",
    "        elif self.case_ == 2:\n",
    "            sits = self.source_path\n",
    "        elif self.case_ == 3:\n",
    "            sits = self.target_path\n",
    "        else:\n",
    "            print('Wrong case!')\n",
    "\n",
    "        if isinstance(sits, list):\n",
    "            self.sits = sits\n",
    "            print('reading files....')\n",
    "            X_source, y_source, block_ids_source = load_npz(self.sits[0])\n",
    "            X_target, y_target, block_ids_target = load_npz(self.sits[1])\n",
    "            \n",
    "            # concatenate the data\n",
    "            start_time = time.time()\n",
    "            data_source = np.concatenate((X_source, y_source[:, None], block_ids_source[:, None]), axis=1)\n",
    "            data_target = np.concatenate((X_target, y_target[:, None], block_ids_target[:, None]), axis=1)\n",
    "            print(\"Concatenating completed: %s seconds\" % (time.time() - start_time))\n",
    "            \n",
    "            # filter by block_id\n",
    "            start_time = time.time()\n",
    "            data_source = data_source[np.isin(data_source[:, -1], self.ids)]\n",
    "            data_target = data_target[np.isin(data_target[:, -1], self.ids)]\n",
    "            print(\"filtering ids completed: %s seconds\" % (time.time() - start_time))\n",
    "\n",
    "            self.X_ = np.concatenate((data_source[:, :-2], data_target[:, :-2]), axis=0)\n",
    "            self.y_ = np.concatenate((data_source[:, -2], data_target[:, -2]), axis=0)\n",
    "            \n",
    "            del X_source\n",
    "            del y_source\n",
    "            del block_ids_source\n",
    "            del data_source\n",
    "            del data_target\n",
    "        else:\n",
    "            self.sits = sits\n",
    "            start_time = time.time()\n",
    "            print('reading files....')\n",
    "            X, y, block_ids = load_npz(self.sits)\n",
    "            print(\"load npz: %s seconds\" % (time.time() - start_time))\n",
    "            \n",
    "            # concatenate the data\n",
    "            start_time = time.time()\n",
    "            data_ = np.concatenate((X, y[:, None], block_ids[:, None]), axis=1)\n",
    "            print(\"Concatenating completed: %s seconds\" % (time.time() - start_time))\n",
    "\n",
    "            # filter by block_id\n",
    "            start_time = time.time()\n",
    "            data_ = data_[np.isin(data_[:, -1], self.ids)]\n",
    "            print(\"filtering ids completed: %s seconds\" % (time.time() - start_time))\n",
    "            \n",
    "            self.X_ = data_[:, :-2].astype('int16')\n",
    "            self.y_ = data_[:, -2].astype('int16')\n",
    "            print(\"%s dataset shape: \" % partition,self.X_.shape)\n",
    "            \n",
    "            del X\n",
    "            del y\n",
    "            del block_ids\n",
    "            del data_\n",
    "\n",
    "    def __len__(self):\n",
    "        return len(self.y_)\n",
    "\n",
    "    def __getitem__(self, idx):\n",
    "        self.X = self.X_[idx]\n",
    "        self.y = self.y_[idx]\n",
    "        self.X = self.X.reshape(int(self.X.shape[0]/n_channel), n_channel)\n",
    "\n",
    "        # transform\n",
    "        if self.transform:\n",
    "            self.X = self.transform(self.X)\n",
    "\n",
    "        # from uint16 to float32\n",
    "        self.X = np.array(self.X)\n",
    "        self.y = np.array(self.y)\n",
    "        \n",
    "        return torch.from_numpy(self.X), torch.from_numpy(self.y)"
   ]
  },
  {
   "cell_type": "code",
   "execution_count": 6,
   "id": "8190c2ef-d5ca-4ace-8b0b-34c6d4dc3344",
   "metadata": {},
   "outputs": [],
   "source": [
    "class standardize(object):\n",
    "    def __init__(self, mean, std):\n",
    "        self.mean = mean\n",
    "        self.std = std\n",
    "\n",
    "    def __call__(self, sample):\n",
    "        return (sample - self.mean) / self.std"
   ]
  },
  {
   "cell_type": "code",
   "execution_count": 11,
   "id": "85439710-1994-4049-ad54-04d0f385fe5c",
   "metadata": {},
   "outputs": [
    {
     "name": "stdout",
     "output_type": "stream",
     "text": [
      "train dataset........\n",
      "read ids completed: 0.001069784164428711 second\n",
      "reading files....\n",
      "load npz: 55.77047610282898 seconds\n",
      "Concatenating completed: 4.306386709213257 seconds\n",
      "filtering ids completed: 8.572273969650269 seconds\n",
      "train dataset shape:  (10784283, 330)\n",
      "total running time: 71.48456692695618\n",
      "Validation dataset.........\n",
      "read ids completed: 0.0015704631805419922 second\n",
      "reading files....\n",
      "load npz: 55.688337087631226 seconds\n",
      "Concatenating completed: 4.312256097793579 seconds\n",
      "filtering ids completed: 1.3002231121063232 seconds\n",
      "val dataset shape:  (1606360, 330)\n",
      "total running time: 61.74235200881958\n",
      "Test dataset........\n",
      "read ids completed: 0.00079345703125 second\n",
      "reading files....\n",
      "load npz: 55.68308687210083 seconds\n",
      "Concatenating completed: 4.310063600540161 seconds\n",
      "filtering ids completed: 1.3782413005828857 seconds\n",
      "test dataset shape:  (1701000, 330)\n",
      "total running time: 61.83634614944458\n"
     ]
    }
   ],
   "source": [
    "# testing for a single domain (case 2 or 3)\n",
    "case = 2\n",
    "#read mean and std files\n",
    "mean = np.loadtxt('mean_'+str(case)+'.txt')\n",
    "std = np.loadtxt('std_'+str(case)+'.txt')\n",
    "seed = 0\n",
    "transform = transforms.Compose([standardize(mean, std)])\n",
    "\n",
    "# paths\n",
    "source_path = \"../../../data/theiaL2A_zip_img/output/2018/2018_SITS_data.npz\"\n",
    "target_path = \"../../../data/theiaL2A_zip_img/output/2019/2019_SITS_data.npz\"\n",
    "\n",
    "# start_time = time.time()\n",
    "print('train dataset........')\n",
    "start_time = time.time()\n",
    "train_dataset = SITSData(case, source_path, target_path, seed, partition='train', transform=transform)\n",
    "print('total running time: %s' % (time.time() - start_time))\n",
    "print('Validation dataset.........')\n",
    "start_time = time.time()\n",
    "val_dataset = SITSData(case, source_path, target_path, seed, partition='val', transform=transform)\n",
    "print('total running time: %s' % (time.time() - start_time))\n",
    "print('Test dataset........')\n",
    "start_time = time.time()\n",
    "test_dataset = SITSData(case, source_path, target_path, seed, partition='test', transform=transform)\n",
    "print('total running time: %s' % (time.time() - start_time))"
   ]
  },
  {
   "cell_type": "code",
   "execution_count": 12,
   "id": "c4906a91-60ba-46c3-83e0-ffc84ef3dc6a",
   "metadata": {},
   "outputs": [],
   "source": [
    "batch_size = 128\n",
    "train_loader = data.DataLoader(train_dataset, batch_size=batch_size, shuffle=True, num_workers=4, pin_memory=True)\n",
    "val_loader = data.DataLoader(val_dataset, batch_size=batch_size, shuffle=True, num_workers=4, pin_memory=True)\n",
    "test_loader = data.DataLoader(test_dataset, batch_size=batch_size, shuffle=True, num_workers=4, pin_memory=True)"
   ]
  },
  {
   "cell_type": "code",
   "execution_count": 13,
   "id": "5194dd4b-2894-4e8d-a7f1-01944eee3c8f",
   "metadata": {},
   "outputs": [
    {
     "name": "stdout",
     "output_type": "stream",
     "text": [
      "Train dataLoader time:  1.4407391548156738\n",
      "val dataLoader time:  0.3372783660888672\n",
      "test dataLoader time:  0.3293640613555908\n"
     ]
    }
   ],
   "source": [
    "start_time = time.time()\n",
    "x_train,y_train= next(iter(train_loader))\n",
    "print('Train dataLoader time: ', time.time() - start_time)\n",
    "start_time = time.time()\n",
    "x_val, y_val = next(iter(val_loader))\n",
    "print('val dataLoader time: ', time.time() - start_time)\n",
    "start_time = time.time()\n",
    "x_test, y_test = next(iter(test_loader))\n",
    "print('test dataLoader time: ', time.time() - start_time)"
   ]
  },
  {
   "cell_type": "code",
   "execution_count": 11,
   "id": "38aa7f74-7bee-4096-8878-e853bb9b31ca",
   "metadata": {},
   "outputs": [
    {
     "data": {
      "text/plain": [
       "tensor([ 9,  9,  3,  5, 15,  6, 23, 16,  9,  9,  9,  9, 18,  9,  6,  6, 10,  8,\n",
       "         2,  9,  9,  9,  8, 16,  9,  9, 23,  9,  8,  9,  5, 13, 10,  9,  2,  9,\n",
       "         9,  9,  6,  2,  9,  5,  8,  5,  9,  9,  9,  9,  9,  2,  8, 23,  2,  9,\n",
       "         5,  9, 23,  5,  9,  9,  2,  8,  9,  9,  5,  9,  9, 23, 10,  6,  9,  9,\n",
       "         9,  8,  9,  9,  3, 10,  9,  8,  9,  5,  5,  6,  6, 10,  6,  2,  9,  6,\n",
       "         8,  6,  9,  9,  9,  7,  9,  6,  2,  9,  9,  9,  5,  6,  9, 16,  9,  8,\n",
       "         9,  9,  9,  9,  9,  9,  6,  7,  9,  9,  5,  7,  9,  9,  3, 15,  9, 23,\n",
       "         9,  9], dtype=torch.int16)"
      ]
     },
     "execution_count": 11,
     "metadata": {},
     "output_type": "execute_result"
    }
   ],
   "source": [
    "y_train"
   ]
  },
  {
   "cell_type": "code",
   "execution_count": null,
   "id": "958c3144-71ed-4173-b35e-0a3645f7d731",
   "metadata": {},
   "outputs": [],
   "source": [
    "print(x_train.shape)\n",
    "x_train"
   ]
  },
  {
   "cell_type": "code",
   "execution_count": 14,
   "id": "d8b56b98-6cfc-469b-9ded-ecd8a8cdd8b0",
   "metadata": {},
   "outputs": [
    {
     "name": "stdout",
     "output_type": "stream",
     "text": [
      "train dataset........\n",
      "read ids completed: 0.001753091812133789 second\n",
      "reading files....\n",
      "total running time: 134.69096612930298\n",
      "Validation dataset.........\n",
      "read ids completed: 0.002171039581298828 second\n",
      "reading files....\n",
      "total running time: 116.40252137184143\n",
      "Test dataset........\n",
      "read ids completed: 0.0019958019256591797 second\n",
      "reading files....\n",
      "total running time: 117.6309289932251\n"
     ]
    }
   ],
   "source": [
    "# testing for a case 1 (combined both domains)\n",
    "case = 1\n",
    "#read mean and std files\n",
    "mean = np.loadtxt('mean_'+str(case)+'.txt')\n",
    "std = np.loadtxt('std_'+str(case)+'.txt')\n",
    "seed = 0\n",
    "transform = transforms.Compose([standardize(mean, std)])\n",
    "\n",
    "# paths\n",
    "source_path = \"../../../data/theiaL2A_zip_img/output/2018/2018_SITS_data.npz\"\n",
    "target_path = \"../../../data/theiaL2A_zip_img/output/2019/2019_SITS_data.npz\"\n",
    "\n",
    "# start_time = time.time()\n",
    "print('train dataset........')\n",
    "start_time = time.time()\n",
    "train_dataset = SITSData(case, source_path, target_path, seed, partition='train', transform=transform)\n",
    "print('total running time: %s' % (time.time() - start_time))\n",
    "print('Validation dataset.........')\n",
    "start_time = time.time()\n",
    "val_dataset = SITSData(case, source_path, target_path, seed, partition='val', transform=transform)\n",
    "print('total running time: %s' % (time.time() - start_time))\n",
    "print('Test dataset........')\n",
    "start_time = time.time()\n",
    "test_dataset = SITSData(case, source_path, target_path, seed, partition='test', transform=transform)\n",
    "print('total running time: %s' % (time.time() - start_time))"
   ]
  },
  {
   "cell_type": "code",
   "execution_count": 15,
   "id": "4aee6c47-4e00-43f9-b5a9-e5828231e882",
   "metadata": {},
   "outputs": [
    {
     "name": "stdout",
     "output_type": "stream",
     "text": [
      "Train dataLoader time:  1.5588064193725586\n",
      "val dataLoader time:  0.37462925910949707\n",
      "test dataLoader time:  0.3885047435760498\n"
     ]
    }
   ],
   "source": [
    "start_time = time.time()\n",
    "x_train,y_train= next(iter(train_loader))\n",
    "print('Train dataLoader time: ', time.time() - start_time)\n",
    "start_time = time.time()\n",
    "x_val, y_val = next(iter(val_loader))\n",
    "print('val dataLoader time: ', time.time() - start_time)\n",
    "start_time = time.time()\n",
    "x_test, y_test = next(iter(test_loader))\n",
    "print('test dataLoader time: ', time.time() - start_time)"
   ]
  },
  {
   "cell_type": "code",
   "execution_count": null,
   "id": "7e420189-2f15-4093-8e1b-b2e16d3ee2b1",
   "metadata": {},
   "outputs": [],
   "source": []
  }
 ],
 "metadata": {
  "kernelspec": {
   "display_name": "Python 3",
   "language": "python",
   "name": "python3"
  },
  "language_info": {
   "codemirror_mode": {
    "name": "ipython",
    "version": 3
   },
   "file_extension": ".py",
   "mimetype": "text/x-python",
   "name": "python",
   "nbconvert_exporter": "python",
   "pygments_lexer": "ipython3",
   "version": "3.7.1"
  }
 },
 "nbformat": 4,
 "nbformat_minor": 5
}
