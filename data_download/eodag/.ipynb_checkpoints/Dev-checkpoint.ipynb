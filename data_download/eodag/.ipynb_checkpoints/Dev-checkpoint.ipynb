{
 "cells": [
  {
   "cell_type": "code",
   "execution_count": 1,
   "id": "3ff358bf-bece-4877-b560-af6d49df40ce",
   "metadata": {},
   "outputs": [],
   "source": [
    "import os\n",
    "from zipfile import ZipFile\n",
    "\n",
    "from eodag import EODataAccessGateway\n",
    "import shapefile\n",
    "# from eodag import setup_logging"
   ]
  },
  {
   "cell_type": "code",
   "execution_count": 2,
   "id": "3988f104-2ff0-41e7-b200-37159bf526c4",
   "metadata": {},
   "outputs": [],
   "source": [
    "workspace = \"eodag_workspace_locations_tiles\"\n",
    "if not os.path.isdir(workspace):\n",
    "    os.mkdir(workspace)"
   ]
  },
  {
   "cell_type": "code",
   "execution_count": 3,
   "id": "9a1f70c7-2a00-4ffd-9b58-74f6495391b4",
   "metadata": {},
   "outputs": [
    {
     "ename": "FileNotFoundError",
     "evalue": "Auxdata not found, please check your configuration.",
     "output_type": "error",
     "traceback": [
      "\u001b[1;31m---------------------------------------------------------------------------\u001b[0m",
      "\u001b[1;31mFileNotFoundError\u001b[0m                         Traceback (most recent call last)",
      "\u001b[1;32mC:\\Users\\ADEBOW~1\\AppData\\Local\\Temp/ipykernel_26520/996065573.py\u001b[0m in \u001b[0;36m<module>\u001b[1;34m\u001b[0m\n\u001b[0;32m      1\u001b[0m \u001b[0msentinel2_grid_zip\u001b[0m \u001b[1;33m=\u001b[0m \u001b[0mos\u001b[0m\u001b[1;33m.\u001b[0m\u001b[0mpath\u001b[0m\u001b[1;33m.\u001b[0m\u001b[0mjoin\u001b[0m\u001b[1;33m(\u001b[0m\u001b[1;34m\"auxdata\"\u001b[0m\u001b[1;33m,\u001b[0m \u001b[1;34m\"sentinel2_tiling_grid_centroids.zip\"\u001b[0m\u001b[1;33m)\u001b[0m\u001b[1;33m\u001b[0m\u001b[1;33m\u001b[0m\u001b[0m\n\u001b[0;32m      2\u001b[0m \u001b[1;32mif\u001b[0m \u001b[1;32mnot\u001b[0m \u001b[0mos\u001b[0m\u001b[1;33m.\u001b[0m\u001b[0mpath\u001b[0m\u001b[1;33m.\u001b[0m\u001b[0misfile\u001b[0m\u001b[1;33m(\u001b[0m\u001b[0msentinel2_grid_zip\u001b[0m\u001b[1;33m)\u001b[0m\u001b[1;33m:\u001b[0m\u001b[1;33m\u001b[0m\u001b[1;33m\u001b[0m\u001b[0m\n\u001b[1;32m----> 3\u001b[1;33m     \u001b[1;32mraise\u001b[0m \u001b[0mFileNotFoundError\u001b[0m\u001b[1;33m(\u001b[0m\u001b[1;34m\"Auxdata not found, please check your configuration.\"\u001b[0m\u001b[1;33m)\u001b[0m\u001b[1;33m\u001b[0m\u001b[1;33m\u001b[0m\u001b[0m\n\u001b[0m",
      "\u001b[1;31mFileNotFoundError\u001b[0m: Auxdata not found, please check your configuration."
     ]
    }
   ],
   "source": [
    "sentinel2_grid_zip = os.path.join(\"auxdata\", \"sentinel2_tiling_grid_centroids.zip\")\n",
    "if not os.path.isfile(sentinel2_grid_zip):\n",
    "    raise FileNotFoundError(\"Auxdata not found, please check your configuration.\")"
   ]
  },
  {
   "cell_type": "code",
   "execution_count": 4,
   "id": "2a803ff2-517f-4633-ab07-e52fb5c6fef6",
   "metadata": {},
   "outputs": [],
   "source": [
    "# We unzip the archived shapefile.\n",
    "with ZipFile(sentinel2_grid_zip, \"r\") as fzip:\n",
    "    fzip.extractall(\"auxdata\")"
   ]
  },
  {
   "cell_type": "code",
   "execution_count": 5,
   "id": "6235f613-bfab-4554-a1bb-dffe727e72f6",
   "metadata": {},
   "outputs": [],
   "source": [
    "# dag = EODataAccessGateway()"
   ]
  },
  {
   "cell_type": "code",
   "execution_count": 6,
   "id": "f3e24db5-8f30-4349-b1c2-8dd319ba3ca9",
   "metadata": {},
   "outputs": [],
   "source": [
    "default_search_criteria = dict(\n",
    "    productType=\"S2_MSI_L2A_MAJA\",\n",
    "    start=\"2018-02-27\",\n",
    "    end=\"2018-03-31\",\n",
    ")"
   ]
  },
  {
   "cell_type": "code",
   "execution_count": 7,
   "id": "1e8fcecd-ab27-48bd-be08-d0a7cbd5cc45",
   "metadata": {},
   "outputs": [],
   "source": [
    "sentinel2_shp = os.path.join('auxdata', 'sentinel2_tiling_grid_centroids.shp')\n",
    "with shapefile.Reader(sentinel2_shp) as shp:\n",
    "    shaperecs = shp.shapeRecords()"
   ]
  },
  {
   "cell_type": "code",
   "execution_count": 8,
   "id": "0a5ebdd4-f94c-4ac7-be43-abe3aeb58dfc",
   "metadata": {},
   "outputs": [],
   "source": [
    "# Save the locations configuration file.\n",
    "locations_yaml_content = \"\"\"\n",
    "shapefiles:\n",
    "  - name: s2_tile_centroid\n",
    "    path: {}\n",
    "    attr: tile_id\n",
    "\"\"\".format(os.path.abspath(sentinel2_shp))\n",
    "\n",
    "locations_filepath = os.path.abspath(os.path.join(workspace, \"custom_locations.yml\"))\n",
    "\n",
    "with open(locations_filepath, \"w\") as f_yml:\n",
    "    f_yml.write(locations_yaml_content.strip())"
   ]
  },
  {
   "cell_type": "code",
   "execution_count": 9,
   "id": "46bf6a60-6d7e-40a9-a8b2-5b117cc3ca95",
   "metadata": {},
   "outputs": [],
   "source": [
    "dag = EODataAccessGateway(locations_conf_path=locations_filepath)"
   ]
  },
  {
   "cell_type": "code",
   "execution_count": null,
   "id": "be6ca5d5-bc7b-4754-b969-31d744ec794c",
   "metadata": {},
   "outputs": [],
   "source": [
    "dag.set_preferred_provider(\"theia\")\n",
    "dag.get_preferred_provider()"
   ]
  },
  {
   "cell_type": "code",
   "execution_count": 10,
   "id": "e64a5191-9e1b-4305-bda1-8fcfda6e5981",
   "metadata": {},
   "outputs": [
    {
     "data": {
      "text/plain": [
       "[EOProduct(id=SENTINEL2A_20180322-105809-862_L2A_T31TCJ_D, provider=theia), EOProduct(id=SENTINEL2B_20180317-105355-924_L2A_T31TCJ_D, provider=theia), EOProduct(id=SENTINEL2A_20180302-105023-464_L2A_T31TCJ_D, provider=theia)]"
      ]
     },
     "execution_count": 10,
     "metadata": {},
     "output_type": "execute_result"
    }
   ],
   "source": [
    "pro = dag.search_all(locations=dict(s2_tile_centroid=\"31TCJ\"), cloudCover=80, relativeOrbitNumber=51, **default_search_criteria)\n",
    "pro"
   ]
  },
  {
   "cell_type": "code",
   "execution_count": 11,
   "id": "c7e76247-0786-4f71-a0f8-a1dfa7412c86",
   "metadata": {},
   "outputs": [],
   "source": [
    "# p = pro[0]\n",
    "# p.properties[\"uid\"]"
   ]
  },
  {
   "cell_type": "code",
   "execution_count": 12,
   "id": "8e89a617-89d1-473f-9ad7-343cebad3006",
   "metadata": {},
   "outputs": [],
   "source": [
    "# for i in pro:\n",
    "#     dag.download_all(i)"
   ]
  },
  {
   "cell_type": "code",
   "execution_count": 13,
   "id": "d9f74127-a820-4957-975c-3cbd0b862f53",
   "metadata": {},
   "outputs": [],
   "source": [
    "# dag.download_all?"
   ]
  },
  {
   "cell_type": "code",
   "execution_count": null,
   "id": "ec778a0b-9979-4178-a3cd-2bf72d99d0e1",
   "metadata": {},
   "outputs": [
    {
     "data": {
      "application/vnd.jupyter.widget-view+json": {
       "model_id": "8c513aa314774f14b464f9e4a3af988d",
       "version_major": 2,
       "version_minor": 0
      },
      "text/plain": [
       "Downloaded products:   0%|                                                                  | 0/3 [00:00<?, ?p…"
      ]
     },
     "metadata": {},
     "output_type": "display_data"
    },
    {
     "data": {
      "application/vnd.jupyter.widget-view+json": {
       "model_id": "591d53df738a430e82e8c549004eb87b",
       "version_major": 2,
       "version_minor": 0
      },
      "text/plain": [
       "0.00B [00:00, ?B/s]"
      ]
     },
     "metadata": {},
     "output_type": "display_data"
    },
    {
     "data": {
      "application/vnd.jupyter.widget-view+json": {
       "model_id": "782da50e1081480dbb2467a054baf93c",
       "version_major": 2,
       "version_minor": 0
      },
      "text/plain": [
       "0.00B [00:00, ?B/s]"
      ]
     },
     "metadata": {},
     "output_type": "display_data"
    }
   ],
   "source": [
    "dag.download_all(pro)"
   ]
  },
  {
   "cell_type": "code",
   "execution_count": null,
   "id": "279f65cd-03ae-4669-9df7-e0b990c50ed1",
   "metadata": {},
   "outputs": [],
   "source": []
  }
 ],
 "metadata": {
  "kernelspec": {
   "display_name": "Python 3 (ipykernel)",
   "language": "python",
   "name": "python3"
  },
  "language_info": {
   "codemirror_mode": {
    "name": "ipython",
    "version": 3
   },
   "file_extension": ".py",
   "mimetype": "text/x-python",
   "name": "python",
   "nbconvert_exporter": "python",
   "pygments_lexer": "ipython3",
   "version": "3.9.7"
  }
 },
 "nbformat": 4,
 "nbformat_minor": 5
}
